{
 "cells": [
  {
   "cell_type": "markdown",
   "metadata": {},
   "source": [
    "# Outlier detection\n",
    "\n",
    "Будем использовать библиотеку pyod (pip install pyod)"
   ]
  },
  {
   "cell_type": "code",
   "execution_count": 4,
   "metadata": {
    "scrolled": true
   },
   "outputs": [
    {
     "name": "stdout",
     "output_type": "stream",
     "text": [
      "Requirement already satisfied: pyod in /Users/irsafilo/opt/anaconda3/lib/python3.8/site-packages (0.9.5)\n",
      "Requirement already satisfied: numpy>=1.13 in /Users/irsafilo/opt/anaconda3/lib/python3.8/site-packages (from pyod) (1.20.1)\n",
      "Requirement already satisfied: statsmodels in /Users/irsafilo/opt/anaconda3/lib/python3.8/site-packages (from pyod) (0.12.2)\n",
      "Requirement already satisfied: scikit-learn>=0.20.0 in /Users/irsafilo/opt/anaconda3/lib/python3.8/site-packages (from pyod) (0.24.1)\n",
      "Requirement already satisfied: six in /Users/irsafilo/opt/anaconda3/lib/python3.8/site-packages (from pyod) (1.15.0)\n",
      "Requirement already satisfied: matplotlib in /Users/irsafilo/opt/anaconda3/lib/python3.8/site-packages (from pyod) (3.3.4)\n",
      "Requirement already satisfied: scipy>=1.3.1 in /Users/irsafilo/opt/anaconda3/lib/python3.8/site-packages (from pyod) (1.6.2)\n",
      "Requirement already satisfied: numba>=0.35 in /Users/irsafilo/opt/anaconda3/lib/python3.8/site-packages (from pyod) (0.53.1)\n",
      "Requirement already satisfied: joblib in /Users/irsafilo/opt/anaconda3/lib/python3.8/site-packages (from pyod) (1.0.1)\n",
      "Requirement already satisfied: llvmlite<0.37,>=0.36.0rc1 in /Users/irsafilo/opt/anaconda3/lib/python3.8/site-packages (from numba>=0.35->pyod) (0.36.0)\n",
      "Requirement already satisfied: setuptools in /Users/irsafilo/opt/anaconda3/lib/python3.8/site-packages (from numba>=0.35->pyod) (52.0.0.post20210125)\n",
      "Requirement already satisfied: threadpoolctl>=2.0.0 in /Users/irsafilo/opt/anaconda3/lib/python3.8/site-packages (from scikit-learn>=0.20.0->pyod) (2.1.0)\n",
      "Requirement already satisfied: pillow>=6.2.0 in /Users/irsafilo/opt/anaconda3/lib/python3.8/site-packages (from matplotlib->pyod) (8.2.0)\n",
      "Requirement already satisfied: python-dateutil>=2.1 in /Users/irsafilo/opt/anaconda3/lib/python3.8/site-packages (from matplotlib->pyod) (2.8.1)\n",
      "Requirement already satisfied: kiwisolver>=1.0.1 in /Users/irsafilo/opt/anaconda3/lib/python3.8/site-packages (from matplotlib->pyod) (1.3.1)\n",
      "Requirement already satisfied: cycler>=0.10 in /Users/irsafilo/opt/anaconda3/lib/python3.8/site-packages (from matplotlib->pyod) (0.10.0)\n",
      "Requirement already satisfied: pyparsing!=2.0.4,!=2.1.2,!=2.1.6,>=2.0.3 in /Users/irsafilo/opt/anaconda3/lib/python3.8/site-packages (from matplotlib->pyod) (2.4.7)\n",
      "Requirement already satisfied: pandas>=0.21 in /Users/irsafilo/opt/anaconda3/lib/python3.8/site-packages (from statsmodels->pyod) (1.2.4)\n",
      "Requirement already satisfied: patsy>=0.5 in /Users/irsafilo/opt/anaconda3/lib/python3.8/site-packages (from statsmodels->pyod) (0.5.1)\n",
      "Requirement already satisfied: pytz>=2017.3 in /Users/irsafilo/opt/anaconda3/lib/python3.8/site-packages (from pandas>=0.21->statsmodels->pyod) (2021.1)\n",
      "Collecting combo\n",
      "  Downloading combo-0.1.2.tar.gz (37 kB)\n",
      "Requirement already satisfied: joblib in /Users/irsafilo/opt/anaconda3/lib/python3.8/site-packages (from combo) (1.0.1)\n",
      "Requirement already satisfied: matplotlib in /Users/irsafilo/opt/anaconda3/lib/python3.8/site-packages (from combo) (3.3.4)\n",
      "Requirement already satisfied: numpy>=1.13 in /Users/irsafilo/opt/anaconda3/lib/python3.8/site-packages (from combo) (1.20.1)\n",
      "Requirement already satisfied: numba>=0.35 in /Users/irsafilo/opt/anaconda3/lib/python3.8/site-packages (from combo) (0.53.1)\n",
      "Requirement already satisfied: pyod in /Users/irsafilo/opt/anaconda3/lib/python3.8/site-packages (from combo) (0.9.5)\n",
      "Requirement already satisfied: scipy in /Users/irsafilo/opt/anaconda3/lib/python3.8/site-packages (from combo) (1.6.2)\n",
      "Requirement already satisfied: scikit_learn>=0.20 in /Users/irsafilo/opt/anaconda3/lib/python3.8/site-packages (from combo) (0.24.1)\n",
      "Requirement already satisfied: setuptools in /Users/irsafilo/opt/anaconda3/lib/python3.8/site-packages (from numba>=0.35->combo) (52.0.0.post20210125)\n",
      "Requirement already satisfied: llvmlite<0.37,>=0.36.0rc1 in /Users/irsafilo/opt/anaconda3/lib/python3.8/site-packages (from numba>=0.35->combo) (0.36.0)\n",
      "Requirement already satisfied: threadpoolctl>=2.0.0 in /Users/irsafilo/opt/anaconda3/lib/python3.8/site-packages (from scikit_learn>=0.20->combo) (2.1.0)\n",
      "Requirement already satisfied: kiwisolver>=1.0.1 in /Users/irsafilo/opt/anaconda3/lib/python3.8/site-packages (from matplotlib->combo) (1.3.1)\n",
      "Requirement already satisfied: cycler>=0.10 in /Users/irsafilo/opt/anaconda3/lib/python3.8/site-packages (from matplotlib->combo) (0.10.0)\n",
      "Requirement already satisfied: pillow>=6.2.0 in /Users/irsafilo/opt/anaconda3/lib/python3.8/site-packages (from matplotlib->combo) (8.2.0)\n",
      "Requirement already satisfied: pyparsing!=2.0.4,!=2.1.2,!=2.1.6,>=2.0.3 in /Users/irsafilo/opt/anaconda3/lib/python3.8/site-packages (from matplotlib->combo) (2.4.7)\n",
      "Requirement already satisfied: python-dateutil>=2.1 in /Users/irsafilo/opt/anaconda3/lib/python3.8/site-packages (from matplotlib->combo) (2.8.1)\n",
      "Requirement already satisfied: six in /Users/irsafilo/opt/anaconda3/lib/python3.8/site-packages (from cycler>=0.10->matplotlib->combo) (1.15.0)\n",
      "Requirement already satisfied: statsmodels in /Users/irsafilo/opt/anaconda3/lib/python3.8/site-packages (from pyod->combo) (0.12.2)\n",
      "Requirement already satisfied: pandas>=0.21 in /Users/irsafilo/opt/anaconda3/lib/python3.8/site-packages (from statsmodels->pyod->combo) (1.2.4)\n",
      "Requirement already satisfied: patsy>=0.5 in /Users/irsafilo/opt/anaconda3/lib/python3.8/site-packages (from statsmodels->pyod->combo) (0.5.1)\n",
      "Requirement already satisfied: pytz>=2017.3 in /Users/irsafilo/opt/anaconda3/lib/python3.8/site-packages (from pandas>=0.21->statsmodels->pyod->combo) (2021.1)\n",
      "Building wheels for collected packages: combo\n",
      "  Building wheel for combo (setup.py) ... \u001b[?25ldone\n",
      "\u001b[?25h  Created wheel for combo: filename=combo-0.1.2-py3-none-any.whl size=42026 sha256=152485f4f6c56caf23c9a32f74b0bae35a52c76867f43977300b20d292be86db\n",
      "  Stored in directory: /Users/irsafilo/Library/Caches/pip/wheels/40/d4/93/ea2224f96bd2868538da3b8231211c42632221600b080ddf16\n",
      "Successfully built combo\n",
      "Installing collected packages: combo\n",
      "Successfully installed combo-0.1.2\n"
     ]
    }
   ],
   "source": [
    "!pip install pyod\n",
    "!pip install combo"
   ]
  },
  {
   "cell_type": "code",
   "execution_count": 14,
   "metadata": {},
   "outputs": [],
   "source": [
    "from __future__ import division\n",
    "from __future__ import print_function\n",
    "\n",
    "import os\n",
    "import sys\n",
    "from time import time\n",
    "\n",
    "import warnings\n",
    "\n",
    "warnings.filterwarnings(\"ignore\")\n",
    "\n",
    "import numpy as np\n",
    "import pandas as pd\n",
    "from sklearn.model_selection import train_test_split\n",
    "from scipy.io import loadmat\n",
    "\n",
    "from pyod.models.abod import ABOD\n",
    "from pyod.models.cblof import CBLOF\n",
    "from pyod.models.feature_bagging import FeatureBagging\n",
    "from pyod.models.hbos import HBOS\n",
    "from pyod.models.iforest import IForest\n",
    "from pyod.models.knn import KNN\n",
    "from pyod.models.lof import LOF\n",
    "from pyod.models.mcd import MCD\n",
    "from pyod.models.ocsvm import OCSVM\n",
    "from pyod.models.pca import PCA\n",
    "\n",
    "from pyod.utils.utility import standardizer\n",
    "from pyod.utils.utility import precision_n_scores\n",
    "from sklearn.metrics import roc_auc_score"
   ]
  },
  {
   "cell_type": "markdown",
   "metadata": {},
   "source": [
    "### Сгенерируем набор точек для задачи поиска выбросов"
   ]
  },
  {
   "cell_type": "code",
   "execution_count": 15,
   "metadata": {},
   "outputs": [
    {
     "name": "stdout",
     "output_type": "stream",
     "text": [
      "Populating the interactive namespace from numpy and matplotlib\n"
     ]
    },
    {
     "data": {
      "image/png": "[encoded data removed]",
      "text/plain": [
       "<Figure size 432x288 with 1 Axes>"
      ]
     },
     "metadata": {
      "needs_background": "light"
     },
     "output_type": "display_data"
    }
   ],
   "source": [
    "from pyod.utils.data import generate_data\n",
    "from matplotlib import pylab as plt\n",
    "%pylab inline\n",
    "\n",
    "contamination = 0.1  # percentage of outliers\n",
    "n_train = 200  # number of training points\n",
    "n_test = 100  # number of testing points\n",
    "\n",
    "# Generate sample data\n",
    "X_train, y_train, X_test, y_test = \\\n",
    "    generate_data(n_train=n_train,\n",
    "                  n_test=n_test,\n",
    "                  n_features=2,\n",
    "                  contamination=0.1,\n",
    "                  random_state=42)\n",
    "\n",
    "plt.scatter(X_train[:,0],X_train[:,1],c=y_train)\n",
    "plt.show()"
   ]
  },
  {
   "cell_type": "markdown",
   "metadata": {},
   "source": [
    "### Применим KNN для нахождения выбросов"
   ]
  },
  {
   "cell_type": "code",
   "execution_count": 16,
   "metadata": {},
   "outputs": [],
   "source": [
    "from pyod.models.knn import KNN   # kNN detector\n",
    "\n",
    "# train kNN detector\n",
    "clf_name = 'KNN'\n",
    "clf = KNN()\n",
    "clf.fit(X_train)\n",
    "\n",
    "# get the prediction label and outlier scores of the training data\n",
    "y_train_pred = clf.labels_  # binary labels (0: inliers, 1: outliers)\n",
    "y_train_scores = clf.decision_scores_  # raw outlier scores\n",
    "\n",
    "# get the prediction on the test data\n",
    "y_test_pred = clf.predict(X_test)  # outlier labels (0 or 1)\n",
    "y_test_scores = clf.decision_function(X_test)  # outlier scores"
   ]
  },
  {
   "cell_type": "markdown",
   "metadata": {},
   "source": [
    "### Посмотрим на качество алгоритма"
   ]
  },
  {
   "cell_type": "code",
   "execution_count": 17,
   "metadata": {},
   "outputs": [
    {
     "name": "stdout",
     "output_type": "stream",
     "text": [
      "\n",
      "On Training Data:\n",
      "KNN ROC:0.9992, precision @ rank n:0.95\n",
      "\n",
      "On Test Data:\n",
      "KNN ROC:1.0, precision @ rank n:1.0\n"
     ]
    }
   ],
   "source": [
    "from pyod.utils.data import evaluate_print\n",
    "\n",
    "# evaluate and print the results\n",
    "print(\"\\nOn Training Data:\")\n",
    "evaluate_print(clf_name, y_train, y_train_scores)\n",
    "print(\"\\nOn Test Data:\")\n",
    "evaluate_print(clf_name, y_test, y_test_scores)"
   ]
  },
  {
   "cell_type": "markdown",
   "metadata": {},
   "source": [
    "### Визуализируем результат"
   ]
  },
  {
   "cell_type": "code",
   "execution_count": 18,
   "metadata": {},
   "outputs": [
    {
     "data": {
      "image/png": "[encoded data removed]",
      "text/plain": [
       "<Figure size 864x720 with 4 Axes>"
      ]
     },
     "metadata": {},
     "output_type": "display_data"
    }
   ],
   "source": [
    "from pyod.utils.example import visualize\n",
    "    \n",
    "visualize(clf_name, X_train, y_train, X_test, y_test, y_train_pred,\n",
    "    y_test_pred, show_figure=True, save_figure=False)"
   ]
  },
  {
   "cell_type": "markdown",
   "metadata": {},
   "source": [
    "### Сравним различные алгоритмы для нахождения выбросов по времени работы и качеству\n",
    "\n",
    "Загрузим данные и информацию о проценте выбросов"
   ]
  },
  {
   "cell_type": "code",
   "execution_count": 19,
   "metadata": {},
   "outputs": [],
   "source": [
    "mat_file = 'arrhythmia.mat'\n",
    "\n",
    "random_state = np.random.RandomState(42)\n",
    "\n",
    "df_columns = ['Characteristics', 'Data', '#Samples', '# Dimensions', 'Outlier Perc',\n",
    "              'ABOD', 'CBLOF', 'FB', 'HBOS', 'IForest', 'KNN', 'LOF', 'MCD',\n",
    "              'OCSVM', 'PCA']\n",
    "\n",
    "mat = loadmat(mat_file)\n",
    "\n",
    "X = mat['X']\n",
    "y = mat['y'].ravel()\n",
    "outliers_fraction = np.count_nonzero(y) / len(y)\n",
    "outliers_percentage = round(outliers_fraction * 100, ndigits=4)\n",
    "\n",
    "# construct containers for saving results\n",
    "roc_list = ['ROC-AUC',mat_file[:-4], X.shape[0], X.shape[1], outliers_percentage]\n",
    "prn_list = ['Precision@N',mat_file[:-4], X.shape[0], X.shape[1], outliers_percentage]\n",
    "time_list = ['Time', mat_file[:-4], X.shape[0], X.shape[1], outliers_percentage]"
   ]
  },
  {
   "cell_type": "markdown",
   "metadata": {},
   "source": [
    "Разобъем данные на тренировочную и валидационную части и масштабируем их."
   ]
  },
  {
   "cell_type": "code",
   "execution_count": 21,
   "metadata": {},
   "outputs": [],
   "source": [
    "# 60% data for training and 40% for testing\n",
    "X_train, X_test, y_train, y_test = train_test_split(X, y, test_size=0.4,\n",
    "                                                    random_state=random_state)\n",
    "\n",
    "# standardizing data for processing\n",
    "X_train_norm, X_test_norm = standardizer(X_train, X_test)"
   ]
  },
  {
   "cell_type": "markdown",
   "metadata": {},
   "source": [
    "Применим различные алгоритмы нахождения выбросов"
   ]
  },
  {
   "cell_type": "code",
   "execution_count": 22,
   "metadata": {},
   "outputs": [
    {
     "name": "stdout",
     "output_type": "stream",
     "text": [
      "Angle-based Outlier Detector (ABOD) ROC:0.7923657718120806, precision @ rank n:0.46875, execution time: 0.1258s\n",
      "Cluster-based Local Outlier Factor ROC:0.805998322147651, precision @ rank n:0.5, execution time: 0.0822s\n",
      "Feature Bagging ROC:0.7997063758389261, precision @ rank n:0.46875, execution time: 0.0698s\n",
      "Histogram-base Outlier Detection (HBOS) ROC:0.8265520134228188, precision @ rank n:0.59375, execution time: 0.0599s\n",
      "Isolation Forest ROC:0.8334731543624162, precision @ rank n:0.65625, execution time: 0.3818s\n",
      "K Nearest Neighbors (KNN) ROC:0.8045302013422819, precision @ rank n:0.5, execution time: 0.0493s\n",
      "Local Outlier Factor (LOF) ROC:0.8013842281879194, precision @ rank n:0.46875, execution time: 0.0076s\n",
      "Minimum Covariance Determinant (MCD) ROC:0.7892197986577183, precision @ rank n:0.46875, execution time: 0.5669s\n",
      "One-class SVM (OCSVM) ROC:0.8085151006711409, precision @ rank n:0.5, execution time: 0.0176s\n",
      "Principal Component Analysis (PCA) ROC:0.8127097315436241, precision @ rank n:0.5, execution time: 0.042s\n"
     ]
    }
   ],
   "source": [
    "from time import time\n",
    "\n",
    "classifiers = {'Angle-based Outlier Detector (ABOD)': ABOD(\n",
    "    contamination=outliers_fraction),\n",
    "    'Cluster-based Local Outlier Factor': CBLOF(\n",
    "        contamination=outliers_fraction, check_estimator=False,\n",
    "        random_state=random_state),\n",
    "    'Feature Bagging': FeatureBagging(contamination=outliers_fraction,\n",
    "                                     random_state=random_state),\n",
    "    'Histogram-base Outlier Detection (HBOS)': HBOS(\n",
    "        contamination=outliers_fraction),\n",
    "    'Isolation Forest': IForest(contamination=outliers_fraction,\n",
    "                                random_state=random_state),\n",
    "    'K Nearest Neighbors (KNN)': KNN(contamination=outliers_fraction),\n",
    "    'Local Outlier Factor (LOF)': LOF(\n",
    "        contamination=outliers_fraction),\n",
    "    'Minimum Covariance Determinant (MCD)': MCD(\n",
    "        contamination=outliers_fraction, random_state=random_state),\n",
    "    'One-class SVM (OCSVM)': OCSVM(contamination=outliers_fraction),\n",
    "    'Principal Component Analysis (PCA)': PCA(\n",
    "        contamination=outliers_fraction, random_state=random_state),\n",
    "}\n",
    "\n",
    "for clf_name, clf in classifiers.items():\n",
    "    t0 = time()\n",
    "    #обучите алгоритм clf на X_train_norm\n",
    "    clf.fit(X_train_norm)\n",
    "    #test_scores = сделайте предсказание (decision_function) на X_test_norm\n",
    "    test_scores = clf.decision_function(X_test_norm) #аналог predict_proba\n",
    "    t1 = time()\n",
    "    duration = round(t1 - t0, ndigits=4)\n",
    "    time_list.append(duration)\n",
    "\n",
    "    #вычислите roc_auc_score и precision_n_scores для тестовых данных (y_test, test_scores)\n",
    "    roc = roc_auc_score(y_test, test_scores)\n",
    "    prn = precision_n_scores(y_test, test_scores)\n",
    "\n",
    "    print('{clf_name} ROC:{roc}, precision @ rank n:{prn}, '\n",
    "          'execution time: {duration}s'.format(\n",
    "        clf_name=clf_name, roc=roc, prn=prn, duration=duration))\n",
    "\n",
    "    roc_list.append(roc)\n",
    "    prn_list.append(prn)\n",
    "    \n",
    "\n",
    "df_time = pd.DataFrame([time_list],columns=df_columns)\n",
    "df_roc = pd.DataFrame([roc_list],columns=df_columns)\n",
    "df_prn = pd.DataFrame([prn_list],columns=df_columns)\n",
    "\n",
    "df_res = pd.concat([df_time, df_roc, df_prn], axis=0)"
   ]
  },
  {
   "cell_type": "code",
   "execution_count": null,
   "metadata": {},
   "outputs": [],
   "source": [
    "#выведите на экран таблицу с результатами\n",
    "#your code here"
   ]
  },
  {
   "cell_type": "markdown",
   "metadata": {},
   "source": [
    "### Попробуем определить долю выбросов в датасете"
   ]
  },
  {
   "cell_type": "code",
   "execution_count": null,
   "metadata": {},
   "outputs": [],
   "source": [
    "data = pd.read_csv(\"heart.csv\")\n",
    "data.head()"
   ]
  },
  {
   "cell_type": "markdown",
   "metadata": {},
   "source": [
    "Выделите в данных целевой вектор y ('target') и матрицу признаков X"
   ]
  },
  {
   "cell_type": "code",
   "execution_count": null,
   "metadata": {},
   "outputs": [],
   "source": [
    "#your code here\n",
    "X = ...\n",
    "y = ...\n",
    "\n",
    "print(X.shape, data.shape)"
   ]
  },
  {
   "cell_type": "markdown",
   "metadata": {},
   "source": [
    "Определите долю выбросов (сильных выбросов) с помощью интерквартильного размаха (см. ноутбук с предыдущего занятия).\n",
    "Сильный выброс - это точка < Q1-3*IQR или > Q3+3*IQR"
   ]
  },
  {
   "cell_type": "code",
   "execution_count": null,
   "metadata": {},
   "outputs": [],
   "source": [
    "#your code here\n",
    "Q1 = ...\n",
    "Q3 = ...\n",
    "IQR = ..."
   ]
  },
  {
   "cell_type": "markdown",
   "metadata": {},
   "source": [
    "Удалите сильные выбросы"
   ]
  },
  {
   "cell_type": "code",
   "execution_count": null,
   "metadata": {},
   "outputs": [],
   "source": [
    "#your code here\n",
    "X_wo_out = ...\n",
    "y_wo_out = ..."
   ]
  },
  {
   "cell_type": "markdown",
   "metadata": {},
   "source": [
    "Выведите на экран долю выбросов"
   ]
  },
  {
   "cell_type": "code",
   "execution_count": null,
   "metadata": {},
   "outputs": [],
   "source": [
    "#your code here"
   ]
  },
  {
   "cell_type": "markdown",
   "metadata": {},
   "source": [
    "Визуализируем данные с помощью TSNE (см. предыдущий семинар). Раскрасьте точки в цвета, соответствующие значениям целевого вектора y."
   ]
  },
  {
   "cell_type": "code",
   "execution_count": null,
   "metadata": {},
   "outputs": [],
   "source": [
    "from sklearn.manifold import TSNE\n",
    "\n",
    "#your code here"
   ]
  },
  {
   "cell_type": "markdown",
   "metadata": {},
   "source": [
    "Помогла ли нам визуализация скорректировать представление о доле выбросов?\n",
    "\n",
    "#### Примените логистическую регрессию ко всем данным на кросс-валидации с тремя фолдами и выведите среднее качество (используйте функцию cross_val_score)"
   ]
  },
  {
   "cell_type": "code",
   "execution_count": null,
   "metadata": {},
   "outputs": [],
   "source": [
    "from sklearn.model_selection import cross_val_score\n",
    "from sklearn.linear_model import LogisticRegression\n",
    "\n",
    "#your code here"
   ]
  },
  {
   "cell_type": "markdown",
   "metadata": {},
   "source": [
    "Теперь возьмите данные с удаленными с помощью IQR выбросами (X_wo_out, y_wo_out) и посмотрите качество алгоритма на этих данных."
   ]
  },
  {
   "cell_type": "code",
   "execution_count": null,
   "metadata": {},
   "outputs": [],
   "source": [
    "#your code here"
   ]
  },
  {
   "cell_type": "markdown",
   "metadata": {},
   "source": [
    "Примените методы поиска выбросов из библиотеки pyod, удалите выбросы и выберите наилучший метод согласно результатам по кросс-валидации"
   ]
  },
  {
   "cell_type": "code",
   "execution_count": null,
   "metadata": {},
   "outputs": [],
   "source": [
    "outliers_fraction = 0.15\n",
    "\n",
    "classifiers = {'Angle-based Outlier Detector (ABOD)': ABOD(\n",
    "    contamination=outliers_fraction),\n",
    "    'Cluster-based Local Outlier Factor': CBLOF(\n",
    "        contamination=outliers_fraction, check_estimator=False,\n",
    "        random_state=random_state),\n",
    "    'Feature Bagging': FeatureBagging(contamination=outliers_fraction,\n",
    "                                     random_state=random_state),\n",
    "    'Histogram-base Outlier Detection (HBOS)': HBOS(\n",
    "        contamination=outliers_fraction),\n",
    "    'Isolation Forest': IForest(contamination=outliers_fraction,\n",
    "                                random_state=random_state),\n",
    "    'K Nearest Neighbors (KNN)': KNN(contamination=outliers_fraction),\n",
    "    'Local Outlier Factor (LOF)': LOF(\n",
    "        contamination=outliers_fraction),\n",
    "    'Minimum Covariance Determinant (MCD)': MCD(\n",
    "        contamination=outliers_fraction, random_state=random_state),\n",
    "    'One-class SVM (OCSVM)': OCSVM(contamination=outliers_fraction),\n",
    "    'Principal Component Analysis (PCA)': PCA(\n",
    "        contamination=outliers_fraction, random_state=random_state),\n",
    "}\n",
    "\n",
    "for clf_name, clf in classifiers.items():\n",
    "    #your code here"
   ]
  }
 ],
 "metadata": {
  "kernelspec": {
   "display_name": "Python 3",
   "language": "python",
   "name": "python3"
  },
  "language_info": {
   "codemirror_mode": {
    "name": "ipython",
    "version": 3
   },
   "file_extension": ".py",
   "mimetype": "text/x-python",
   "name": "python",
   "nbconvert_exporter": "python",
   "pygments_lexer": "ipython3",
   "version": "3.8.8"
  }
 },
 "nbformat": 4,
 "nbformat_minor": 2
}
