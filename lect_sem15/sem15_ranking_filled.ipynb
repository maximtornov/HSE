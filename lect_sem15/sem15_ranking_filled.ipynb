{
 "cells": [
  {
   "cell_type": "code",
   "execution_count": 2,
   "metadata": {},
   "outputs": [],
   "source": [
    "import matplotlib.pyplot as plt\n",
    "import numpy as np\n",
    "import pandas as pd\n",
    "import seaborn as sns\n",
    "from sklearn.ensemble import GradientBoostingClassifier, RandomForestClassifier\n",
    "from sklearn.linear_model import LogisticRegression\n",
    "from sklearn.metrics import roc_auc_score\n",
    "from sklearn.model_selection import train_test_split\n",
    "\n",
    "%matplotlib inline"
   ]
  },
  {
   "cell_type": "code",
   "execution_count": 3,
   "metadata": {},
   "outputs": [],
   "source": [
    "plt.rcParams['figure.figsize'] = (11.5, 8.5)"
   ]
  },
  {
   "cell_type": "markdown",
   "metadata": {},
   "source": [
    "Будем работать с pairwise подходом. Используем данные о парах фильмах. Значение 1 целевой переменной означает, что был выбран фильм 1, а 0 - что фильм 2."
   ]
  },
  {
   "cell_type": "code",
   "execution_count": 4,
   "metadata": {},
   "outputs": [],
   "source": [
    "events_data = pd.read_csv('movie_events_pairwise-linear.csv')"
   ]
  },
  {
   "cell_type": "code",
   "execution_count": 5,
   "metadata": {},
   "outputs": [
    {
     "data": {
      "text/html": [
       "<div>\n",
       "<style scoped>\n",
       "    .dataframe tbody tr th:only-of-type {\n",
       "        vertical-align: middle;\n",
       "    }\n",
       "\n",
       "    .dataframe tbody tr th {\n",
       "        vertical-align: top;\n",
       "    }\n",
       "\n",
       "    .dataframe thead th {\n",
       "        text-align: right;\n",
       "    }\n",
       "</style>\n",
       "<table border=\"1\" class=\"dataframe\">\n",
       "  <thead>\n",
       "    <tr style=\"text-align: right;\">\n",
       "      <th></th>\n",
       "      <th>Action_1</th>\n",
       "      <th>Adventure_1</th>\n",
       "      <th>Animation_1</th>\n",
       "      <th>Children's_1</th>\n",
       "      <th>Comedy_1</th>\n",
       "      <th>Crime_1</th>\n",
       "      <th>Documentary_1</th>\n",
       "      <th>Drama_1</th>\n",
       "      <th>Fantasy_1</th>\n",
       "      <th>Film-Noir_1</th>\n",
       "      <th>...</th>\n",
       "      <th>Sci-Fi_2</th>\n",
       "      <th>Thriller_2</th>\n",
       "      <th>War_2</th>\n",
       "      <th>Western_2</th>\n",
       "      <th>price_2</th>\n",
       "      <th>ratings_average_2</th>\n",
       "      <th>ratings_count_2</th>\n",
       "      <th>release_date_2</th>\n",
       "      <th>unknown_2</th>\n",
       "      <th>outcome</th>\n",
       "    </tr>\n",
       "  </thead>\n",
       "  <tbody>\n",
       "    <tr>\n",
       "      <th>0</th>\n",
       "      <td>1.0</td>\n",
       "      <td>0.0</td>\n",
       "      <td>0.0</td>\n",
       "      <td>0.0</td>\n",
       "      <td>0.0</td>\n",
       "      <td>0.0</td>\n",
       "      <td>0.0</td>\n",
       "      <td>0.0</td>\n",
       "      <td>0.0</td>\n",
       "      <td>0.0</td>\n",
       "      <td>...</td>\n",
       "      <td>0.0</td>\n",
       "      <td>0.0</td>\n",
       "      <td>0.0</td>\n",
       "      <td>0.0</td>\n",
       "      <td>0.283637</td>\n",
       "      <td>-0.097012</td>\n",
       "      <td>-0.727633</td>\n",
       "      <td>0.393978</td>\n",
       "      <td>0.0</td>\n",
       "      <td>0.0</td>\n",
       "    </tr>\n",
       "    <tr>\n",
       "      <th>1</th>\n",
       "      <td>0.0</td>\n",
       "      <td>0.0</td>\n",
       "      <td>0.0</td>\n",
       "      <td>0.0</td>\n",
       "      <td>0.0</td>\n",
       "      <td>1.0</td>\n",
       "      <td>0.0</td>\n",
       "      <td>1.0</td>\n",
       "      <td>0.0</td>\n",
       "      <td>0.0</td>\n",
       "      <td>...</td>\n",
       "      <td>0.0</td>\n",
       "      <td>0.0</td>\n",
       "      <td>0.0</td>\n",
       "      <td>0.0</td>\n",
       "      <td>0.283637</td>\n",
       "      <td>0.631766</td>\n",
       "      <td>0.242825</td>\n",
       "      <td>-0.307809</td>\n",
       "      <td>0.0</td>\n",
       "      <td>1.0</td>\n",
       "    </tr>\n",
       "    <tr>\n",
       "      <th>2</th>\n",
       "      <td>0.0</td>\n",
       "      <td>0.0</td>\n",
       "      <td>0.0</td>\n",
       "      <td>0.0</td>\n",
       "      <td>1.0</td>\n",
       "      <td>0.0</td>\n",
       "      <td>0.0</td>\n",
       "      <td>1.0</td>\n",
       "      <td>0.0</td>\n",
       "      <td>0.0</td>\n",
       "      <td>...</td>\n",
       "      <td>0.0</td>\n",
       "      <td>1.0</td>\n",
       "      <td>0.0</td>\n",
       "      <td>0.0</td>\n",
       "      <td>0.283637</td>\n",
       "      <td>0.094165</td>\n",
       "      <td>0.342360</td>\n",
       "      <td>0.534335</td>\n",
       "      <td>0.0</td>\n",
       "      <td>1.0</td>\n",
       "    </tr>\n",
       "    <tr>\n",
       "      <th>3</th>\n",
       "      <td>1.0</td>\n",
       "      <td>0.0</td>\n",
       "      <td>0.0</td>\n",
       "      <td>0.0</td>\n",
       "      <td>1.0</td>\n",
       "      <td>0.0</td>\n",
       "      <td>0.0</td>\n",
       "      <td>0.0</td>\n",
       "      <td>0.0</td>\n",
       "      <td>0.0</td>\n",
       "      <td>...</td>\n",
       "      <td>0.0</td>\n",
       "      <td>0.0</td>\n",
       "      <td>0.0</td>\n",
       "      <td>0.0</td>\n",
       "      <td>-1.837803</td>\n",
       "      <td>-2.016128</td>\n",
       "      <td>-0.665424</td>\n",
       "      <td>0.393978</td>\n",
       "      <td>0.0</td>\n",
       "      <td>0.0</td>\n",
       "    </tr>\n",
       "    <tr>\n",
       "      <th>4</th>\n",
       "      <td>0.0</td>\n",
       "      <td>0.0</td>\n",
       "      <td>0.0</td>\n",
       "      <td>0.0</td>\n",
       "      <td>0.0</td>\n",
       "      <td>0.0</td>\n",
       "      <td>0.0</td>\n",
       "      <td>1.0</td>\n",
       "      <td>0.0</td>\n",
       "      <td>0.0</td>\n",
       "      <td>...</td>\n",
       "      <td>0.0</td>\n",
       "      <td>0.0</td>\n",
       "      <td>0.0</td>\n",
       "      <td>0.0</td>\n",
       "      <td>-2.368163</td>\n",
       "      <td>-2.655833</td>\n",
       "      <td>-0.727633</td>\n",
       "      <td>0.183442</td>\n",
       "      <td>0.0</td>\n",
       "      <td>0.0</td>\n",
       "    </tr>\n",
       "  </tbody>\n",
       "</table>\n",
       "<p>5 rows × 47 columns</p>\n",
       "</div>"
      ],
      "text/plain": [
       "   Action_1  Adventure_1  Animation_1  Children's_1  Comedy_1  Crime_1  \\\n",
       "0       1.0          0.0          0.0           0.0       0.0      0.0   \n",
       "1       0.0          0.0          0.0           0.0       0.0      1.0   \n",
       "2       0.0          0.0          0.0           0.0       1.0      0.0   \n",
       "3       1.0          0.0          0.0           0.0       1.0      0.0   \n",
       "4       0.0          0.0          0.0           0.0       0.0      0.0   \n",
       "\n",
       "   Documentary_1  Drama_1  Fantasy_1  Film-Noir_1  ...  Sci-Fi_2  Thriller_2  \\\n",
       "0            0.0      0.0        0.0          0.0  ...       0.0         0.0   \n",
       "1            0.0      1.0        0.0          0.0  ...       0.0         0.0   \n",
       "2            0.0      1.0        0.0          0.0  ...       0.0         1.0   \n",
       "3            0.0      0.0        0.0          0.0  ...       0.0         0.0   \n",
       "4            0.0      1.0        0.0          0.0  ...       0.0         0.0   \n",
       "\n",
       "   War_2  Western_2   price_2  ratings_average_2  ratings_count_2  \\\n",
       "0    0.0        0.0  0.283637          -0.097012        -0.727633   \n",
       "1    0.0        0.0  0.283637           0.631766         0.242825   \n",
       "2    0.0        0.0  0.283637           0.094165         0.342360   \n",
       "3    0.0        0.0 -1.837803          -2.016128        -0.665424   \n",
       "4    0.0        0.0 -2.368163          -2.655833        -0.727633   \n",
       "\n",
       "   release_date_2  unknown_2  outcome  \n",
       "0        0.393978        0.0      0.0  \n",
       "1       -0.307809        0.0      1.0  \n",
       "2        0.534335        0.0      1.0  \n",
       "3        0.393978        0.0      0.0  \n",
       "4        0.183442        0.0      0.0  \n",
       "\n",
       "[5 rows x 47 columns]"
      ]
     },
     "execution_count": 5,
     "metadata": {},
     "output_type": "execute_result"
    }
   ],
   "source": [
    "events_data.head()"
   ]
  },
  {
   "cell_type": "code",
   "execution_count": 6,
   "metadata": {},
   "outputs": [
    {
     "data": {
      "text/plain": [
       "Index(['Action_1', 'Adventure_1', 'Animation_1', 'Children's_1', 'Comedy_1',\n",
       "       'Crime_1', 'Documentary_1', 'Drama_1', 'Fantasy_1', 'Film-Noir_1',\n",
       "       'Horror_1', 'Musical_1', 'Mystery_1', 'Romance_1', 'Sci-Fi_1',\n",
       "       'Thriller_1', 'War_1', 'Western_1', 'price_1', 'ratings_average_1',\n",
       "       'ratings_count_1', 'release_date_1', 'unknown_1', 'Action_2',\n",
       "       'Adventure_2', 'Animation_2', 'Children's_2', 'Comedy_2', 'Crime_2',\n",
       "       'Documentary_2', 'Drama_2', 'Fantasy_2', 'Film-Noir_2', 'Horror_2',\n",
       "       'Musical_2', 'Mystery_2', 'Romance_2', 'Sci-Fi_2', 'Thriller_2',\n",
       "       'War_2', 'Western_2', 'price_2', 'ratings_average_2', 'ratings_count_2',\n",
       "       'release_date_2', 'unknown_2', 'outcome'],\n",
       "      dtype='object')"
      ]
     },
     "execution_count": 6,
     "metadata": {},
     "output_type": "execute_result"
    }
   ],
   "source": [
    "events_data.columns"
   ]
  },
  {
   "cell_type": "code",
   "execution_count": 7,
   "metadata": {},
   "outputs": [
    {
     "data": {
      "text/plain": [
       "(132542, 47)"
      ]
     },
     "execution_count": 7,
     "metadata": {},
     "output_type": "execute_result"
    }
   ],
   "source": [
    "events_data.shape"
   ]
  },
  {
   "cell_type": "code",
   "execution_count": 8,
   "metadata": {},
   "outputs": [
    {
     "data": {
      "text/plain": [
       "0.0    66271\n",
       "1.0    66271\n",
       "Name: outcome, dtype: int64"
      ]
     },
     "execution_count": 8,
     "metadata": {},
     "output_type": "execute_result"
    }
   ],
   "source": [
    "events_data['outcome'].value_counts()"
   ]
  },
  {
   "cell_type": "markdown",
   "metadata": {},
   "source": [
    "## Задание 1\n",
    "\n",
    "Разбейте выборку на train и test в отношении 4:1."
   ]
  },
  {
   "cell_type": "code",
   "execution_count": 9,
   "metadata": {},
   "outputs": [],
   "source": [
    "X = events_data.drop('outcome', axis=1)\n",
    "y = events_data['outcome']\n",
    "X_train, X_test, y_train, y_test = train_test_split(X, y, test_size=0.2, random_state=13)"
   ]
  },
  {
   "cell_type": "code",
   "execution_count": 10,
   "metadata": {},
   "outputs": [
    {
     "data": {
      "text/plain": [
       "((106033, 46), (26509, 46), (106033,), (26509,))"
      ]
     },
     "execution_count": 10,
     "metadata": {},
     "output_type": "execute_result"
    }
   ],
   "source": [
    "X_train.shape, X_test.shape, y_train.shape, y_test.shape"
   ]
  },
  {
   "cell_type": "markdown",
   "metadata": {},
   "source": [
    "## Задание 2\n",
    "\n",
    "Обучите логистическую регрессию."
   ]
  },
  {
   "cell_type": "code",
   "execution_count": 11,
   "metadata": {},
   "outputs": [
    {
     "data": {
      "text/plain": [
       "LogisticRegression(random_state=13)"
      ]
     },
     "execution_count": 11,
     "metadata": {},
     "output_type": "execute_result"
    }
   ],
   "source": [
    "model0 = LogisticRegression(random_state = 13)\n",
    "model0.fit(X_train, y_train)"
   ]
  },
  {
   "cell_type": "markdown",
   "metadata": {},
   "source": [
    "## Задание 3\n",
    "\n",
    "Сделайте предсказание для теста, измерьте качество с помощью AUC-ROC."
   ]
  },
  {
   "cell_type": "code",
   "execution_count": 12,
   "metadata": {},
   "outputs": [
    {
     "data": {
      "text/plain": [
       "0.7884402381361014"
      ]
     },
     "execution_count": 12,
     "metadata": {},
     "output_type": "execute_result"
    }
   ],
   "source": [
    "y_pred_proba = model0.predict_proba(X_test)[:, 1]\n",
    "roc_auc_score(y_test, y_pred_proba)"
   ]
  },
  {
   "cell_type": "markdown",
   "metadata": {},
   "source": [
    "## Задание 4\n",
    "\n",
    "Выведите важности признаков."
   ]
  },
  {
   "cell_type": "code",
   "execution_count": 13,
   "metadata": {},
   "outputs": [
    {
     "data": {
      "text/html": [
       "<div>\n",
       "<style scoped>\n",
       "    .dataframe tbody tr th:only-of-type {\n",
       "        vertical-align: middle;\n",
       "    }\n",
       "\n",
       "    .dataframe tbody tr th {\n",
       "        vertical-align: top;\n",
       "    }\n",
       "\n",
       "    .dataframe thead th {\n",
       "        text-align: right;\n",
       "    }\n",
       "</style>\n",
       "<table border=\"1\" class=\"dataframe\">\n",
       "  <thead>\n",
       "    <tr style=\"text-align: right;\">\n",
       "      <th></th>\n",
       "      <th>feature</th>\n",
       "      <th>importance</th>\n",
       "    </tr>\n",
       "  </thead>\n",
       "  <tbody>\n",
       "    <tr>\n",
       "      <th>0</th>\n",
       "      <td>Action_1</td>\n",
       "      <td>0.013756</td>\n",
       "    </tr>\n",
       "    <tr>\n",
       "      <th>1</th>\n",
       "      <td>Adventure_1</td>\n",
       "      <td>0.049947</td>\n",
       "    </tr>\n",
       "    <tr>\n",
       "      <th>2</th>\n",
       "      <td>Animation_1</td>\n",
       "      <td>0.015764</td>\n",
       "    </tr>\n",
       "    <tr>\n",
       "      <th>3</th>\n",
       "      <td>Children's_1</td>\n",
       "      <td>0.191539</td>\n",
       "    </tr>\n",
       "    <tr>\n",
       "      <th>4</th>\n",
       "      <td>Comedy_1</td>\n",
       "      <td>0.025568</td>\n",
       "    </tr>\n",
       "    <tr>\n",
       "      <th>5</th>\n",
       "      <td>Crime_1</td>\n",
       "      <td>0.053103</td>\n",
       "    </tr>\n",
       "    <tr>\n",
       "      <th>6</th>\n",
       "      <td>Documentary_1</td>\n",
       "      <td>0.036742</td>\n",
       "    </tr>\n",
       "    <tr>\n",
       "      <th>7</th>\n",
       "      <td>Drama_1</td>\n",
       "      <td>0.065165</td>\n",
       "    </tr>\n",
       "    <tr>\n",
       "      <th>8</th>\n",
       "      <td>Fantasy_1</td>\n",
       "      <td>0.160801</td>\n",
       "    </tr>\n",
       "    <tr>\n",
       "      <th>9</th>\n",
       "      <td>Film-Noir_1</td>\n",
       "      <td>0.615188</td>\n",
       "    </tr>\n",
       "    <tr>\n",
       "      <th>10</th>\n",
       "      <td>Horror_1</td>\n",
       "      <td>0.025532</td>\n",
       "    </tr>\n",
       "    <tr>\n",
       "      <th>11</th>\n",
       "      <td>Musical_1</td>\n",
       "      <td>0.026587</td>\n",
       "    </tr>\n",
       "    <tr>\n",
       "      <th>12</th>\n",
       "      <td>Mystery_1</td>\n",
       "      <td>0.215016</td>\n",
       "    </tr>\n",
       "    <tr>\n",
       "      <th>13</th>\n",
       "      <td>Romance_1</td>\n",
       "      <td>0.052595</td>\n",
       "    </tr>\n",
       "    <tr>\n",
       "      <th>14</th>\n",
       "      <td>Sci-Fi_1</td>\n",
       "      <td>0.116547</td>\n",
       "    </tr>\n",
       "    <tr>\n",
       "      <th>15</th>\n",
       "      <td>Thriller_1</td>\n",
       "      <td>0.042544</td>\n",
       "    </tr>\n",
       "    <tr>\n",
       "      <th>16</th>\n",
       "      <td>War_1</td>\n",
       "      <td>0.047627</td>\n",
       "    </tr>\n",
       "    <tr>\n",
       "      <th>17</th>\n",
       "      <td>Western_1</td>\n",
       "      <td>0.119614</td>\n",
       "    </tr>\n",
       "    <tr>\n",
       "      <th>18</th>\n",
       "      <td>price_1</td>\n",
       "      <td>0.865667</td>\n",
       "    </tr>\n",
       "    <tr>\n",
       "      <th>19</th>\n",
       "      <td>ratings_average_1</td>\n",
       "      <td>0.101820</td>\n",
       "    </tr>\n",
       "    <tr>\n",
       "      <th>20</th>\n",
       "      <td>ratings_count_1</td>\n",
       "      <td>0.049842</td>\n",
       "    </tr>\n",
       "    <tr>\n",
       "      <th>21</th>\n",
       "      <td>release_date_1</td>\n",
       "      <td>0.026775</td>\n",
       "    </tr>\n",
       "    <tr>\n",
       "      <th>22</th>\n",
       "      <td>unknown_1</td>\n",
       "      <td>1.407184</td>\n",
       "    </tr>\n",
       "    <tr>\n",
       "      <th>23</th>\n",
       "      <td>Action_2</td>\n",
       "      <td>0.006366</td>\n",
       "    </tr>\n",
       "    <tr>\n",
       "      <th>24</th>\n",
       "      <td>Adventure_2</td>\n",
       "      <td>0.070915</td>\n",
       "    </tr>\n",
       "    <tr>\n",
       "      <th>25</th>\n",
       "      <td>Animation_2</td>\n",
       "      <td>0.022233</td>\n",
       "    </tr>\n",
       "    <tr>\n",
       "      <th>26</th>\n",
       "      <td>Children's_2</td>\n",
       "      <td>0.200473</td>\n",
       "    </tr>\n",
       "    <tr>\n",
       "      <th>27</th>\n",
       "      <td>Comedy_2</td>\n",
       "      <td>0.038726</td>\n",
       "    </tr>\n",
       "    <tr>\n",
       "      <th>28</th>\n",
       "      <td>Crime_2</td>\n",
       "      <td>0.018150</td>\n",
       "    </tr>\n",
       "    <tr>\n",
       "      <th>29</th>\n",
       "      <td>Documentary_2</td>\n",
       "      <td>0.012468</td>\n",
       "    </tr>\n",
       "    <tr>\n",
       "      <th>30</th>\n",
       "      <td>Drama_2</td>\n",
       "      <td>0.069039</td>\n",
       "    </tr>\n",
       "    <tr>\n",
       "      <th>31</th>\n",
       "      <td>Fantasy_2</td>\n",
       "      <td>0.113939</td>\n",
       "    </tr>\n",
       "    <tr>\n",
       "      <th>32</th>\n",
       "      <td>Film-Noir_2</td>\n",
       "      <td>0.606849</td>\n",
       "    </tr>\n",
       "    <tr>\n",
       "      <th>33</th>\n",
       "      <td>Horror_2</td>\n",
       "      <td>0.004288</td>\n",
       "    </tr>\n",
       "    <tr>\n",
       "      <th>34</th>\n",
       "      <td>Musical_2</td>\n",
       "      <td>0.008566</td>\n",
       "    </tr>\n",
       "    <tr>\n",
       "      <th>35</th>\n",
       "      <td>Mystery_2</td>\n",
       "      <td>0.219212</td>\n",
       "    </tr>\n",
       "    <tr>\n",
       "      <th>36</th>\n",
       "      <td>Romance_2</td>\n",
       "      <td>0.044547</td>\n",
       "    </tr>\n",
       "    <tr>\n",
       "      <th>37</th>\n",
       "      <td>Sci-Fi_2</td>\n",
       "      <td>0.133767</td>\n",
       "    </tr>\n",
       "    <tr>\n",
       "      <th>38</th>\n",
       "      <td>Thriller_2</td>\n",
       "      <td>0.028113</td>\n",
       "    </tr>\n",
       "    <tr>\n",
       "      <th>39</th>\n",
       "      <td>War_2</td>\n",
       "      <td>0.024032</td>\n",
       "    </tr>\n",
       "    <tr>\n",
       "      <th>40</th>\n",
       "      <td>Western_2</td>\n",
       "      <td>0.088067</td>\n",
       "    </tr>\n",
       "    <tr>\n",
       "      <th>41</th>\n",
       "      <td>price_2</td>\n",
       "      <td>0.821817</td>\n",
       "    </tr>\n",
       "    <tr>\n",
       "      <th>42</th>\n",
       "      <td>ratings_average_2</td>\n",
       "      <td>0.147989</td>\n",
       "    </tr>\n",
       "    <tr>\n",
       "      <th>43</th>\n",
       "      <td>ratings_count_2</td>\n",
       "      <td>0.056374</td>\n",
       "    </tr>\n",
       "    <tr>\n",
       "      <th>44</th>\n",
       "      <td>release_date_2</td>\n",
       "      <td>0.004036</td>\n",
       "    </tr>\n",
       "    <tr>\n",
       "      <th>45</th>\n",
       "      <td>unknown_2</td>\n",
       "      <td>1.311251</td>\n",
       "    </tr>\n",
       "  </tbody>\n",
       "</table>\n",
       "</div>"
      ],
      "text/plain": [
       "              feature  importance\n",
       "0            Action_1    0.013756\n",
       "1         Adventure_1    0.049947\n",
       "2         Animation_1    0.015764\n",
       "3        Children's_1    0.191539\n",
       "4            Comedy_1    0.025568\n",
       "5             Crime_1    0.053103\n",
       "6       Documentary_1    0.036742\n",
       "7             Drama_1    0.065165\n",
       "8           Fantasy_1    0.160801\n",
       "9         Film-Noir_1    0.615188\n",
       "10           Horror_1    0.025532\n",
       "11          Musical_1    0.026587\n",
       "12          Mystery_1    0.215016\n",
       "13          Romance_1    0.052595\n",
       "14           Sci-Fi_1    0.116547\n",
       "15         Thriller_1    0.042544\n",
       "16              War_1    0.047627\n",
       "17          Western_1    0.119614\n",
       "18            price_1    0.865667\n",
       "19  ratings_average_1    0.101820\n",
       "20    ratings_count_1    0.049842\n",
       "21     release_date_1    0.026775\n",
       "22          unknown_1    1.407184\n",
       "23           Action_2    0.006366\n",
       "24        Adventure_2    0.070915\n",
       "25        Animation_2    0.022233\n",
       "26       Children's_2    0.200473\n",
       "27           Comedy_2    0.038726\n",
       "28            Crime_2    0.018150\n",
       "29      Documentary_2    0.012468\n",
       "30            Drama_2    0.069039\n",
       "31          Fantasy_2    0.113939\n",
       "32        Film-Noir_2    0.606849\n",
       "33           Horror_2    0.004288\n",
       "34          Musical_2    0.008566\n",
       "35          Mystery_2    0.219212\n",
       "36          Romance_2    0.044547\n",
       "37           Sci-Fi_2    0.133767\n",
       "38         Thriller_2    0.028113\n",
       "39              War_2    0.024032\n",
       "40          Western_2    0.088067\n",
       "41            price_2    0.821817\n",
       "42  ratings_average_2    0.147989\n",
       "43    ratings_count_2    0.056374\n",
       "44     release_date_2    0.004036\n",
       "45          unknown_2    1.311251"
      ]
     },
     "execution_count": 13,
     "metadata": {},
     "output_type": "execute_result"
    }
   ],
   "source": [
    "feature_importances = pd.DataFrame({'feature': X_train.columns, 'importance': np.abs(model0.coef_.reshape(-1))}) # или model0.coef_[0]\n",
    "feature_importances"
   ]
  },
  {
   "cell_type": "code",
   "execution_count": 14,
   "metadata": {},
   "outputs": [
    {
     "data": {
      "text/html": [
       "<div>\n",
       "<style scoped>\n",
       "    .dataframe tbody tr th:only-of-type {\n",
       "        vertical-align: middle;\n",
       "    }\n",
       "\n",
       "    .dataframe tbody tr th {\n",
       "        vertical-align: top;\n",
       "    }\n",
       "\n",
       "    .dataframe thead th {\n",
       "        text-align: right;\n",
       "    }\n",
       "</style>\n",
       "<table border=\"1\" class=\"dataframe\">\n",
       "  <thead>\n",
       "    <tr style=\"text-align: right;\">\n",
       "      <th></th>\n",
       "      <th>feature</th>\n",
       "      <th>importance</th>\n",
       "    </tr>\n",
       "  </thead>\n",
       "  <tbody>\n",
       "    <tr>\n",
       "      <th>22</th>\n",
       "      <td>unknown_1</td>\n",
       "      <td>1.407184</td>\n",
       "    </tr>\n",
       "    <tr>\n",
       "      <th>45</th>\n",
       "      <td>unknown_2</td>\n",
       "      <td>1.311251</td>\n",
       "    </tr>\n",
       "    <tr>\n",
       "      <th>18</th>\n",
       "      <td>price_1</td>\n",
       "      <td>0.865667</td>\n",
       "    </tr>\n",
       "    <tr>\n",
       "      <th>41</th>\n",
       "      <td>price_2</td>\n",
       "      <td>0.821817</td>\n",
       "    </tr>\n",
       "    <tr>\n",
       "      <th>9</th>\n",
       "      <td>Film-Noir_1</td>\n",
       "      <td>0.615188</td>\n",
       "    </tr>\n",
       "    <tr>\n",
       "      <th>32</th>\n",
       "      <td>Film-Noir_2</td>\n",
       "      <td>0.606849</td>\n",
       "    </tr>\n",
       "    <tr>\n",
       "      <th>35</th>\n",
       "      <td>Mystery_2</td>\n",
       "      <td>0.219212</td>\n",
       "    </tr>\n",
       "    <tr>\n",
       "      <th>12</th>\n",
       "      <td>Mystery_1</td>\n",
       "      <td>0.215016</td>\n",
       "    </tr>\n",
       "    <tr>\n",
       "      <th>26</th>\n",
       "      <td>Children's_2</td>\n",
       "      <td>0.200473</td>\n",
       "    </tr>\n",
       "    <tr>\n",
       "      <th>3</th>\n",
       "      <td>Children's_1</td>\n",
       "      <td>0.191539</td>\n",
       "    </tr>\n",
       "    <tr>\n",
       "      <th>8</th>\n",
       "      <td>Fantasy_1</td>\n",
       "      <td>0.160801</td>\n",
       "    </tr>\n",
       "    <tr>\n",
       "      <th>42</th>\n",
       "      <td>ratings_average_2</td>\n",
       "      <td>0.147989</td>\n",
       "    </tr>\n",
       "    <tr>\n",
       "      <th>37</th>\n",
       "      <td>Sci-Fi_2</td>\n",
       "      <td>0.133767</td>\n",
       "    </tr>\n",
       "    <tr>\n",
       "      <th>17</th>\n",
       "      <td>Western_1</td>\n",
       "      <td>0.119614</td>\n",
       "    </tr>\n",
       "    <tr>\n",
       "      <th>14</th>\n",
       "      <td>Sci-Fi_1</td>\n",
       "      <td>0.116547</td>\n",
       "    </tr>\n",
       "    <tr>\n",
       "      <th>31</th>\n",
       "      <td>Fantasy_2</td>\n",
       "      <td>0.113939</td>\n",
       "    </tr>\n",
       "    <tr>\n",
       "      <th>19</th>\n",
       "      <td>ratings_average_1</td>\n",
       "      <td>0.101820</td>\n",
       "    </tr>\n",
       "    <tr>\n",
       "      <th>40</th>\n",
       "      <td>Western_2</td>\n",
       "      <td>0.088067</td>\n",
       "    </tr>\n",
       "    <tr>\n",
       "      <th>24</th>\n",
       "      <td>Adventure_2</td>\n",
       "      <td>0.070915</td>\n",
       "    </tr>\n",
       "    <tr>\n",
       "      <th>30</th>\n",
       "      <td>Drama_2</td>\n",
       "      <td>0.069039</td>\n",
       "    </tr>\n",
       "    <tr>\n",
       "      <th>7</th>\n",
       "      <td>Drama_1</td>\n",
       "      <td>0.065165</td>\n",
       "    </tr>\n",
       "    <tr>\n",
       "      <th>43</th>\n",
       "      <td>ratings_count_2</td>\n",
       "      <td>0.056374</td>\n",
       "    </tr>\n",
       "    <tr>\n",
       "      <th>5</th>\n",
       "      <td>Crime_1</td>\n",
       "      <td>0.053103</td>\n",
       "    </tr>\n",
       "    <tr>\n",
       "      <th>13</th>\n",
       "      <td>Romance_1</td>\n",
       "      <td>0.052595</td>\n",
       "    </tr>\n",
       "    <tr>\n",
       "      <th>1</th>\n",
       "      <td>Adventure_1</td>\n",
       "      <td>0.049947</td>\n",
       "    </tr>\n",
       "    <tr>\n",
       "      <th>20</th>\n",
       "      <td>ratings_count_1</td>\n",
       "      <td>0.049842</td>\n",
       "    </tr>\n",
       "    <tr>\n",
       "      <th>16</th>\n",
       "      <td>War_1</td>\n",
       "      <td>0.047627</td>\n",
       "    </tr>\n",
       "    <tr>\n",
       "      <th>36</th>\n",
       "      <td>Romance_2</td>\n",
       "      <td>0.044547</td>\n",
       "    </tr>\n",
       "    <tr>\n",
       "      <th>15</th>\n",
       "      <td>Thriller_1</td>\n",
       "      <td>0.042544</td>\n",
       "    </tr>\n",
       "    <tr>\n",
       "      <th>27</th>\n",
       "      <td>Comedy_2</td>\n",
       "      <td>0.038726</td>\n",
       "    </tr>\n",
       "    <tr>\n",
       "      <th>6</th>\n",
       "      <td>Documentary_1</td>\n",
       "      <td>0.036742</td>\n",
       "    </tr>\n",
       "    <tr>\n",
       "      <th>38</th>\n",
       "      <td>Thriller_2</td>\n",
       "      <td>0.028113</td>\n",
       "    </tr>\n",
       "    <tr>\n",
       "      <th>21</th>\n",
       "      <td>release_date_1</td>\n",
       "      <td>0.026775</td>\n",
       "    </tr>\n",
       "    <tr>\n",
       "      <th>11</th>\n",
       "      <td>Musical_1</td>\n",
       "      <td>0.026587</td>\n",
       "    </tr>\n",
       "    <tr>\n",
       "      <th>4</th>\n",
       "      <td>Comedy_1</td>\n",
       "      <td>0.025568</td>\n",
       "    </tr>\n",
       "    <tr>\n",
       "      <th>10</th>\n",
       "      <td>Horror_1</td>\n",
       "      <td>0.025532</td>\n",
       "    </tr>\n",
       "    <tr>\n",
       "      <th>39</th>\n",
       "      <td>War_2</td>\n",
       "      <td>0.024032</td>\n",
       "    </tr>\n",
       "    <tr>\n",
       "      <th>25</th>\n",
       "      <td>Animation_2</td>\n",
       "      <td>0.022233</td>\n",
       "    </tr>\n",
       "    <tr>\n",
       "      <th>28</th>\n",
       "      <td>Crime_2</td>\n",
       "      <td>0.018150</td>\n",
       "    </tr>\n",
       "    <tr>\n",
       "      <th>2</th>\n",
       "      <td>Animation_1</td>\n",
       "      <td>0.015764</td>\n",
       "    </tr>\n",
       "    <tr>\n",
       "      <th>0</th>\n",
       "      <td>Action_1</td>\n",
       "      <td>0.013756</td>\n",
       "    </tr>\n",
       "    <tr>\n",
       "      <th>29</th>\n",
       "      <td>Documentary_2</td>\n",
       "      <td>0.012468</td>\n",
       "    </tr>\n",
       "    <tr>\n",
       "      <th>34</th>\n",
       "      <td>Musical_2</td>\n",
       "      <td>0.008566</td>\n",
       "    </tr>\n",
       "    <tr>\n",
       "      <th>23</th>\n",
       "      <td>Action_2</td>\n",
       "      <td>0.006366</td>\n",
       "    </tr>\n",
       "    <tr>\n",
       "      <th>33</th>\n",
       "      <td>Horror_2</td>\n",
       "      <td>0.004288</td>\n",
       "    </tr>\n",
       "    <tr>\n",
       "      <th>44</th>\n",
       "      <td>release_date_2</td>\n",
       "      <td>0.004036</td>\n",
       "    </tr>\n",
       "  </tbody>\n",
       "</table>\n",
       "</div>"
      ],
      "text/plain": [
       "              feature  importance\n",
       "22          unknown_1    1.407184\n",
       "45          unknown_2    1.311251\n",
       "18            price_1    0.865667\n",
       "41            price_2    0.821817\n",
       "9         Film-Noir_1    0.615188\n",
       "32        Film-Noir_2    0.606849\n",
       "35          Mystery_2    0.219212\n",
       "12          Mystery_1    0.215016\n",
       "26       Children's_2    0.200473\n",
       "3        Children's_1    0.191539\n",
       "8           Fantasy_1    0.160801\n",
       "42  ratings_average_2    0.147989\n",
       "37           Sci-Fi_2    0.133767\n",
       "17          Western_1    0.119614\n",
       "14           Sci-Fi_1    0.116547\n",
       "31          Fantasy_2    0.113939\n",
       "19  ratings_average_1    0.101820\n",
       "40          Western_2    0.088067\n",
       "24        Adventure_2    0.070915\n",
       "30            Drama_2    0.069039\n",
       "7             Drama_1    0.065165\n",
       "43    ratings_count_2    0.056374\n",
       "5             Crime_1    0.053103\n",
       "13          Romance_1    0.052595\n",
       "1         Adventure_1    0.049947\n",
       "20    ratings_count_1    0.049842\n",
       "16              War_1    0.047627\n",
       "36          Romance_2    0.044547\n",
       "15         Thriller_1    0.042544\n",
       "27           Comedy_2    0.038726\n",
       "6       Documentary_1    0.036742\n",
       "38         Thriller_2    0.028113\n",
       "21     release_date_1    0.026775\n",
       "11          Musical_1    0.026587\n",
       "4            Comedy_1    0.025568\n",
       "10           Horror_1    0.025532\n",
       "39              War_2    0.024032\n",
       "25        Animation_2    0.022233\n",
       "28            Crime_2    0.018150\n",
       "2         Animation_1    0.015764\n",
       "0            Action_1    0.013756\n",
       "29      Documentary_2    0.012468\n",
       "34          Musical_2    0.008566\n",
       "23           Action_2    0.006366\n",
       "33           Horror_2    0.004288\n",
       "44     release_date_2    0.004036"
      ]
     },
     "execution_count": 14,
     "metadata": {},
     "output_type": "execute_result"
    }
   ],
   "source": [
    "feature_importances = feature_importances.sort_values('importance', ascending=False)\n",
    "feature_importances"
   ]
  },
  {
   "cell_type": "code",
   "execution_count": 15,
   "metadata": {},
   "outputs": [
    {
     "data": {
      "image/png": "[encoded data removed]",
      "text/plain": [
       "<Figure size 1080x720 with 1 Axes>"
      ]
     },
     "metadata": {
      "needs_background": "light"
     },
     "output_type": "display_data"
    }
   ],
   "source": [
    "plt.figure(figsize=(15, 10))\n",
    "sns.barplot(data=feature_importances, x='importance', y='feature', palette=\"winter_r\")\n",
    "plt.title('Feature importances')\n",
    "plt.show()"
   ]
  },
  {
   "cell_type": "markdown",
   "metadata": {},
   "source": [
    "## Задание 5\n",
    "\n",
    "Постройте графики зависимости целевой переменной от двух самых важных признаков."
   ]
  },
  {
   "cell_type": "code",
   "execution_count": 16,
   "metadata": {},
   "outputs": [
    {
     "data": {
      "text/plain": [
       "0.0    132476\n",
       "1.0        66\n",
       "Name: unknown_1, dtype: int64"
      ]
     },
     "execution_count": 16,
     "metadata": {},
     "output_type": "execute_result"
    }
   ],
   "source": [
    "events_data.unknown_1.value_counts()"
   ]
  },
  {
   "cell_type": "code",
   "execution_count": 17,
   "metadata": {},
   "outputs": [
    {
     "data": {
      "image/png": "[encoded data removed]",
      "text/plain": [
       "<Figure size 828x612 with 1 Axes>"
      ]
     },
     "metadata": {
      "needs_background": "light"
     },
     "output_type": "display_data"
    }
   ],
   "source": [
    "plt.scatter(events_data.unknown_1, events_data.outcome)\n",
    "plt.show()"
   ]
  },
  {
   "cell_type": "code",
   "execution_count": 18,
   "metadata": {},
   "outputs": [
    {
     "data": {
      "text/plain": [
       "array([0.24948242, 0.40301775, 0.50673772, ..., 0.55081629, 0.91796063,\n",
       "       0.38829454])"
      ]
     },
     "execution_count": 18,
     "metadata": {},
     "output_type": "execute_result"
    }
   ],
   "source": [
    "y_pred_proba"
   ]
  },
  {
   "cell_type": "code",
   "execution_count": 19,
   "metadata": {},
   "outputs": [
    {
     "data": {
      "text/plain": [
       "0.0    26496\n",
       "1.0       13\n",
       "Name: unknown_1, dtype: int64"
      ]
     },
     "execution_count": 19,
     "metadata": {},
     "output_type": "execute_result"
    }
   ],
   "source": [
    "X_test['unknown_1'].value_counts()"
   ]
  },
  {
   "cell_type": "code",
   "execution_count": 20,
   "metadata": {},
   "outputs": [
    {
     "data": {
      "image/png": "[encoded data removed]",
      "text/plain": [
       "<Figure size 828x612 with 1 Axes>"
      ]
     },
     "metadata": {
      "needs_background": "light"
     },
     "output_type": "display_data"
    }
   ],
   "source": [
    "plt.scatter(X_test['unknown_1'], y_pred_proba)\n",
    "plt.xlabel('unknown_1')\n",
    "plt.ylabel('predict_proba')\n",
    "plt.show()"
   ]
  },
  {
   "cell_type": "code",
   "execution_count": 21,
   "metadata": {},
   "outputs": [
    {
     "data": {
      "image/png": "[encoded data removed]",
      "text/plain": [
       "<Figure size 828x612 with 1 Axes>"
      ]
     },
     "metadata": {
      "needs_background": "light"
     },
     "output_type": "display_data"
    }
   ],
   "source": [
    "plt.scatter(X_test['price_1'], y_pred_proba)\n",
    "plt.xlabel('price_1')\n",
    "plt.ylabel('predict_proba')\n",
    "plt.show()"
   ]
  },
  {
   "cell_type": "code",
   "execution_count": 22,
   "metadata": {},
   "outputs": [
    {
     "data": {
      "image/png": "[encoded data removed]",
      "text/plain": [
       "<Figure size 828x612 with 1 Axes>"
      ]
     },
     "metadata": {
      "needs_background": "light"
     },
     "output_type": "display_data"
    }
   ],
   "source": [
    "plt.scatter(X_test['price_2'], y_pred_proba)\n",
    "plt.xlabel('price_2')\n",
    "plt.ylabel('predict_proba')\n",
    "plt.show()"
   ]
  },
  {
   "cell_type": "code",
   "execution_count": 23,
   "metadata": {},
   "outputs": [
    {
     "data": {
      "image/png": "[encoded data removed]",
      "text/plain": [
       "<Figure size 828x612 with 1 Axes>"
      ]
     },
     "metadata": {
      "needs_background": "light"
     },
     "output_type": "display_data"
    }
   ],
   "source": [
    "plt.scatter(X_test['release_date_2'], y_pred_proba)\n",
    "plt.xlabel('release_date_2')\n",
    "plt.ylabel('predict_proba')\n",
    "plt.show()"
   ]
  },
  {
   "cell_type": "markdown",
   "metadata": {},
   "source": [
    "## Задание 6\n",
    "\n",
    "Проделайте то же самое, но со случайным лесом."
   ]
  },
  {
   "cell_type": "code",
   "execution_count": null,
   "metadata": {},
   "outputs": [],
   "source": [
    "# your code here"
   ]
  },
  {
   "cell_type": "markdown",
   "metadata": {},
   "source": [
    "## Задание 7\n",
    "\n",
    "Проделайте то же самое, но с градиентным бустингом."
   ]
  },
  {
   "cell_type": "code",
   "execution_count": null,
   "metadata": {},
   "outputs": [],
   "source": [
    "# your code here"
   ]
  }
 ],
 "metadata": {
  "kernelspec": {
   "display_name": "Python 3",
   "language": "python",
   "name": "python3"
  },
  "language_info": {
   "codemirror_mode": {
    "name": "ipython",
    "version": 3
   },
   "file_extension": ".py",
   "mimetype": "text/x-python",
   "name": "python",
   "nbconvert_exporter": "python",
   "pygments_lexer": "ipython3",
   "version": "3.8.8"
  }
 },
 "nbformat": 4,
 "nbformat_minor": 2
}
