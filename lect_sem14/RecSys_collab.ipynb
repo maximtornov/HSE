{
 "cells": [
  {
   "cell_type": "markdown",
   "metadata": {},
   "source": [
    "## Рекомендательные системы"
   ]
  },
  {
   "cell_type": "markdown",
   "metadata": {},
   "source": [
    "Мы рассмотрим основные подходы к задаче рекомендации и увидим, как это выглядит на практике на небольшом датасете.\n",
    "\n",
    "Воспользуемся датасетом: [Articles Sharing and Reading from CI&T Deskdrop](https://www.kaggle.com/gspmoreira/articles-sharing-reading-from-cit-deskdrop)."
   ]
  },
  {
   "cell_type": "code",
   "execution_count": 1,
   "metadata": {
    "_cell_guid": "719f3966-e6fd-49c8-9f60-7bd741542450",
    "_uuid": "b61cd3125a7f8f991fc1bda85ae3cd26f74090ae"
   },
   "outputs": [
    {
     "name": "stdout",
     "output_type": "stream",
     "text": [
      "Populating the interactive namespace from numpy and matplotlib\n"
     ]
    }
   ],
   "source": [
    "%pylab inline\n",
    "\n",
    "import pandas as pd\n",
    "\n",
    "from tqdm import tqdm_notebook"
   ]
  },
  {
   "cell_type": "markdown",
   "metadata": {
    "_cell_guid": "5f5c826d-f3d5-42d3-a7e6-0343a44cdc9f",
    "_uuid": "26f1f70fd978957b26f8884fc5f82bfe9475c666"
   },
   "source": [
    "## Часть 0. Загрузка данных"
   ]
  },
  {
   "cell_type": "markdown",
   "metadata": {
    "_cell_guid": "3c48b62c-ad3b-4218-8fb2-2f0e86a16edc",
    "_uuid": "650c279eddc846a48274346e045cfb6e1f8895d5"
   },
   "source": [
    "Загрузим [Deskdrop dataset](https://www.dropbox.com/s/p69j0d978tetktj/articles-sharing-reading-from-cit-deskdrop.zip), включающийся в себе логи за 1 год платформы, где пользователи читают статьи.\n",
    "\n",
    "Данные включают в себя 2 файла:  \n",
    "- **shared_articles.csv**\n",
    "- **users_interactions.csv**\n",
    "\n",
    "Как можно догадаться, в одном описания самих статей (нам понадобятся в контентных моделях), а в другом логи пользователей."
   ]
  },
  {
   "cell_type": "code",
   "execution_count": 2,
   "metadata": {},
   "outputs": [
    {
     "name": "stdout",
     "output_type": "stream",
     "text": [
      "unzip:  cannot find or open articles-sharing-reading-from-cit-deskdrop.zip, articles-sharing-reading-from-cit-deskdrop.zip.zip or articles-sharing-reading-from-cit-deskdrop.zip.ZIP.\n",
      "shared_articles.csv    users_interactions.csv\n"
     ]
    }
   ],
   "source": [
    "# загружаем и разархивируем данные, для вашего удобства данные можно найти по ссылке: \n",
    "# https://www.dropbox.com/s/p69j0d978tetktj/articles-sharing-reading-from-cit-deskdrop.zip \n",
    "# в Colab и linux вам могут пригодиться утилиты wget и unzip\n",
    "# такж, если вы работаете в Google Colab, устанавливаем библиотеки, которые потребуеются дальше: pyfm, catboost\n",
    "####### Здесь ваш код ##########\n",
    "!pip3 -q install cython\n",
    "!pip3 -q install git+https://github.com/coreylynch/pyFM\n",
    "!pip3 -q install catboost\n",
    "!wget -q -N https://www.dropbox.com/s/p69j0d978tetktj/articles-sharing-reading-from-cit-deskdrop.zip \n",
    "!unzip -o -q articles-sharing-reading-from-cit-deskdrop.zip\n",
    "!ls *.csv\n",
    "################################"
   ]
  },
  {
   "cell_type": "markdown",
   "metadata": {
    "_cell_guid": "c9ee29ff-1fee-4dc9-a3cb-e5301c17fded",
    "_uuid": "1e66e976d34d4e28f5a92241b0ea82a2a66363ea"
   },
   "source": [
    "#### shared_articles.csv"
   ]
  },
  {
   "cell_type": "markdown",
   "metadata": {
    "_cell_guid": "f09d2247-a40c-4aaf-90ce-15a8721a3036",
    "_uuid": "e64f4fa8a4751274bd2d37a0f45d2d3d664d6c3e"
   },
   "source": [
    "Так как в файле перечислены даже удалённые статьи, то мы их сразу удалим (на самом деле они могли бы быть нам полезны для подсчёта различных величин, хоть мы и не можем их рекомендовать)."
   ]
  },
  {
   "cell_type": "code",
   "execution_count": 3,
   "metadata": {
    "_cell_guid": "e601f966-d03f-4edc-886f-ca3d511a8045",
    "_uuid": "569c301bd128f66f29b4d97c34171e4d1712015a"
   },
   "outputs": [
    {
     "data": {
      "text/html": [
       "<div>\n",
       "<style scoped>\n",
       "    .dataframe tbody tr th:only-of-type {\n",
       "        vertical-align: middle;\n",
       "    }\n",
       "\n",
       "    .dataframe tbody tr th {\n",
       "        vertical-align: top;\n",
       "    }\n",
       "\n",
       "    .dataframe thead th {\n",
       "        text-align: right;\n",
       "    }\n",
       "</style>\n",
       "<table border=\"1\" class=\"dataframe\">\n",
       "  <thead>\n",
       "    <tr style=\"text-align: right;\">\n",
       "      <th></th>\n",
       "      <th>timestamp</th>\n",
       "      <th>eventType</th>\n",
       "      <th>contentId</th>\n",
       "      <th>authorPersonId</th>\n",
       "      <th>authorSessionId</th>\n",
       "      <th>authorUserAgent</th>\n",
       "      <th>authorRegion</th>\n",
       "      <th>authorCountry</th>\n",
       "      <th>contentType</th>\n",
       "      <th>url</th>\n",
       "      <th>title</th>\n",
       "      <th>text</th>\n",
       "      <th>lang</th>\n",
       "    </tr>\n",
       "  </thead>\n",
       "  <tbody>\n",
       "    <tr>\n",
       "      <th>1</th>\n",
       "      <td>1459193988</td>\n",
       "      <td>CONTENT SHARED</td>\n",
       "      <td>-4110354420726924665</td>\n",
       "      <td>4340306774493623681</td>\n",
       "      <td>8940341205206233829</td>\n",
       "      <td>NaN</td>\n",
       "      <td>NaN</td>\n",
       "      <td>NaN</td>\n",
       "      <td>HTML</td>\n",
       "      <td>http://www.nytimes.com/2016/03/28/business/dea...</td>\n",
       "      <td>Ethereum, a Virtual Currency, Enables Transact...</td>\n",
       "      <td>All of this work is still very early. The firs...</td>\n",
       "      <td>en</td>\n",
       "    </tr>\n",
       "    <tr>\n",
       "      <th>2</th>\n",
       "      <td>1459194146</td>\n",
       "      <td>CONTENT SHARED</td>\n",
       "      <td>-7292285110016212249</td>\n",
       "      <td>4340306774493623681</td>\n",
       "      <td>8940341205206233829</td>\n",
       "      <td>NaN</td>\n",
       "      <td>NaN</td>\n",
       "      <td>NaN</td>\n",
       "      <td>HTML</td>\n",
       "      <td>http://cointelegraph.com/news/bitcoin-future-w...</td>\n",
       "      <td>Bitcoin Future: When GBPcoin of Branson Wins O...</td>\n",
       "      <td>The alarm clock wakes me at 8:00 with stream o...</td>\n",
       "      <td>en</td>\n",
       "    </tr>\n",
       "  </tbody>\n",
       "</table>\n",
       "</div>"
      ],
      "text/plain": [
       "    timestamp       eventType            contentId       authorPersonId  \\\n",
       "1  1459193988  CONTENT SHARED -4110354420726924665  4340306774493623681   \n",
       "2  1459194146  CONTENT SHARED -7292285110016212249  4340306774493623681   \n",
       "\n",
       "       authorSessionId authorUserAgent authorRegion authorCountry contentType  \\\n",
       "1  8940341205206233829             NaN          NaN           NaN        HTML   \n",
       "2  8940341205206233829             NaN          NaN           NaN        HTML   \n",
       "\n",
       "                                                 url  \\\n",
       "1  http://www.nytimes.com/2016/03/28/business/dea...   \n",
       "2  http://cointelegraph.com/news/bitcoin-future-w...   \n",
       "\n",
       "                                               title  \\\n",
       "1  Ethereum, a Virtual Currency, Enables Transact...   \n",
       "2  Bitcoin Future: When GBPcoin of Branson Wins O...   \n",
       "\n",
       "                                                text lang  \n",
       "1  All of this work is still very early. The firs...   en  \n",
       "2  The alarm clock wakes me at 8:00 with stream o...   en  "
      ]
     },
     "execution_count": 3,
     "metadata": {},
     "output_type": "execute_result"
    }
   ],
   "source": [
    "articles_df = pd.read_csv('shared_articles.csv')\n",
    "articles_df = articles_df[articles_df['eventType'] == 'CONTENT SHARED']\n",
    "articles_df.head(2)"
   ]
  },
  {
   "cell_type": "markdown",
   "metadata": {
    "_cell_guid": "487936d5-d7b3-487d-9ef1-e3ba1e4bc421",
    "_uuid": "3f96f2d88fa86814e2fa1273d80f26d2559823fd"
   },
   "source": [
    "#### users_interactions.csv"
   ]
  },
  {
   "cell_type": "markdown",
   "metadata": {
    "_cell_guid": "325b8db8-ef44-4b59-8138-2a59bd02d66e",
    "_uuid": "86694f1b80b04b8f9b961148fb265f355f202b26"
   },
   "source": [
    "В колонке eventType описаны действия, которые могли совершать пользователи над статьёй:  \n",
    "- VIEW\n",
    "- LIKE\n",
    "- COMMENT CREATED\n",
    "- FOLLOW\n",
    "- BOOKMARK"
   ]
  },
  {
   "cell_type": "code",
   "execution_count": 4,
   "metadata": {
    "_cell_guid": "445d39ec-f6b0-4155-9f92-0a2540918bd1",
    "_uuid": "9829842326037e364de457f832deceae074d6164"
   },
   "outputs": [
    {
     "data": {
      "text/html": [
       "<div>\n",
       "<style scoped>\n",
       "    .dataframe tbody tr th:only-of-type {\n",
       "        vertical-align: middle;\n",
       "    }\n",
       "\n",
       "    .dataframe tbody tr th {\n",
       "        vertical-align: top;\n",
       "    }\n",
       "\n",
       "    .dataframe thead th {\n",
       "        text-align: right;\n",
       "    }\n",
       "</style>\n",
       "<table border=\"1\" class=\"dataframe\">\n",
       "  <thead>\n",
       "    <tr style=\"text-align: right;\">\n",
       "      <th></th>\n",
       "      <th>timestamp</th>\n",
       "      <th>eventType</th>\n",
       "      <th>contentId</th>\n",
       "      <th>personId</th>\n",
       "      <th>sessionId</th>\n",
       "      <th>userAgent</th>\n",
       "      <th>userRegion</th>\n",
       "      <th>userCountry</th>\n",
       "    </tr>\n",
       "  </thead>\n",
       "  <tbody>\n",
       "    <tr>\n",
       "      <th>0</th>\n",
       "      <td>1465413032</td>\n",
       "      <td>VIEW</td>\n",
       "      <td>-3499919498720038879</td>\n",
       "      <td>-8845298781299428018</td>\n",
       "      <td>1264196770339959068</td>\n",
       "      <td>NaN</td>\n",
       "      <td>NaN</td>\n",
       "      <td>NaN</td>\n",
       "    </tr>\n",
       "    <tr>\n",
       "      <th>1</th>\n",
       "      <td>1465412560</td>\n",
       "      <td>VIEW</td>\n",
       "      <td>8890720798209849691</td>\n",
       "      <td>-1032019229384696495</td>\n",
       "      <td>3621737643587579081</td>\n",
       "      <td>Mozilla/5.0 (Macintosh; Intel Mac OS X 10_11_2...</td>\n",
       "      <td>NY</td>\n",
       "      <td>US</td>\n",
       "    </tr>\n",
       "    <tr>\n",
       "      <th>2</th>\n",
       "      <td>1465416190</td>\n",
       "      <td>VIEW</td>\n",
       "      <td>310515487419366995</td>\n",
       "      <td>-1130272294246983140</td>\n",
       "      <td>2631864456530402479</td>\n",
       "      <td>NaN</td>\n",
       "      <td>NaN</td>\n",
       "      <td>NaN</td>\n",
       "    </tr>\n",
       "    <tr>\n",
       "      <th>3</th>\n",
       "      <td>1465413895</td>\n",
       "      <td>FOLLOW</td>\n",
       "      <td>310515487419366995</td>\n",
       "      <td>344280948527967603</td>\n",
       "      <td>-3167637573980064150</td>\n",
       "      <td>NaN</td>\n",
       "      <td>NaN</td>\n",
       "      <td>NaN</td>\n",
       "    </tr>\n",
       "    <tr>\n",
       "      <th>4</th>\n",
       "      <td>1465412290</td>\n",
       "      <td>VIEW</td>\n",
       "      <td>-7820640624231356730</td>\n",
       "      <td>-445337111692715325</td>\n",
       "      <td>5611481178424124714</td>\n",
       "      <td>NaN</td>\n",
       "      <td>NaN</td>\n",
       "      <td>NaN</td>\n",
       "    </tr>\n",
       "    <tr>\n",
       "      <th>5</th>\n",
       "      <td>1465413742</td>\n",
       "      <td>VIEW</td>\n",
       "      <td>310515487419366995</td>\n",
       "      <td>-8763398617720485024</td>\n",
       "      <td>1395789369402380392</td>\n",
       "      <td>Mozilla/5.0 (Windows NT 10.0; WOW64) AppleWebK...</td>\n",
       "      <td>MG</td>\n",
       "      <td>BR</td>\n",
       "    </tr>\n",
       "    <tr>\n",
       "      <th>6</th>\n",
       "      <td>1465415950</td>\n",
       "      <td>VIEW</td>\n",
       "      <td>-8864073373672512525</td>\n",
       "      <td>3609194402293569455</td>\n",
       "      <td>1143207167886864524</td>\n",
       "      <td>NaN</td>\n",
       "      <td>NaN</td>\n",
       "      <td>NaN</td>\n",
       "    </tr>\n",
       "    <tr>\n",
       "      <th>7</th>\n",
       "      <td>1465415066</td>\n",
       "      <td>VIEW</td>\n",
       "      <td>-1492913151930215984</td>\n",
       "      <td>4254153380739593270</td>\n",
       "      <td>8743229464706506141</td>\n",
       "      <td>Mozilla/5.0 (X11; Linux x86_64) AppleWebKit/53...</td>\n",
       "      <td>SP</td>\n",
       "      <td>BR</td>\n",
       "    </tr>\n",
       "    <tr>\n",
       "      <th>8</th>\n",
       "      <td>1465413762</td>\n",
       "      <td>VIEW</td>\n",
       "      <td>310515487419366995</td>\n",
       "      <td>344280948527967603</td>\n",
       "      <td>-3167637573980064150</td>\n",
       "      <td>NaN</td>\n",
       "      <td>NaN</td>\n",
       "      <td>NaN</td>\n",
       "    </tr>\n",
       "    <tr>\n",
       "      <th>9</th>\n",
       "      <td>1465413771</td>\n",
       "      <td>VIEW</td>\n",
       "      <td>3064370296170038610</td>\n",
       "      <td>3609194402293569455</td>\n",
       "      <td>1143207167886864524</td>\n",
       "      <td>NaN</td>\n",
       "      <td>NaN</td>\n",
       "      <td>NaN</td>\n",
       "    </tr>\n",
       "  </tbody>\n",
       "</table>\n",
       "</div>"
      ],
      "text/plain": [
       "    timestamp eventType            contentId             personId  \\\n",
       "0  1465413032      VIEW -3499919498720038879 -8845298781299428018   \n",
       "1  1465412560      VIEW  8890720798209849691 -1032019229384696495   \n",
       "2  1465416190      VIEW   310515487419366995 -1130272294246983140   \n",
       "3  1465413895    FOLLOW   310515487419366995   344280948527967603   \n",
       "4  1465412290      VIEW -7820640624231356730  -445337111692715325   \n",
       "5  1465413742      VIEW   310515487419366995 -8763398617720485024   \n",
       "6  1465415950      VIEW -8864073373672512525  3609194402293569455   \n",
       "7  1465415066      VIEW -1492913151930215984  4254153380739593270   \n",
       "8  1465413762      VIEW   310515487419366995   344280948527967603   \n",
       "9  1465413771      VIEW  3064370296170038610  3609194402293569455   \n",
       "\n",
       "             sessionId                                          userAgent  \\\n",
       "0  1264196770339959068                                                NaN   \n",
       "1  3621737643587579081  Mozilla/5.0 (Macintosh; Intel Mac OS X 10_11_2...   \n",
       "2  2631864456530402479                                                NaN   \n",
       "3 -3167637573980064150                                                NaN   \n",
       "4  5611481178424124714                                                NaN   \n",
       "5  1395789369402380392  Mozilla/5.0 (Windows NT 10.0; WOW64) AppleWebK...   \n",
       "6  1143207167886864524                                                NaN   \n",
       "7  8743229464706506141  Mozilla/5.0 (X11; Linux x86_64) AppleWebKit/53...   \n",
       "8 -3167637573980064150                                                NaN   \n",
       "9  1143207167886864524                                                NaN   \n",
       "\n",
       "  userRegion userCountry  \n",
       "0        NaN         NaN  \n",
       "1         NY          US  \n",
       "2        NaN         NaN  \n",
       "3        NaN         NaN  \n",
       "4        NaN         NaN  \n",
       "5         MG          BR  \n",
       "6        NaN         NaN  \n",
       "7         SP          BR  \n",
       "8        NaN         NaN  \n",
       "9        NaN         NaN  "
      ]
     },
     "execution_count": 4,
     "metadata": {},
     "output_type": "execute_result"
    }
   ],
   "source": [
    "interactions_df = pd.read_csv('users_interactions.csv')\n",
    "interactions_df.head(10)"
   ]
  },
  {
   "cell_type": "code",
   "execution_count": 5,
   "metadata": {},
   "outputs": [],
   "source": [
    "interactions_df.personId = interactions_df.personId.astype(str)\n",
    "interactions_df.contentId = interactions_df.contentId.astype(str)\n",
    "articles_df.contentId = articles_df.contentId.astype(str)"
   ]
  },
  {
   "cell_type": "markdown",
   "metadata": {
    "_cell_guid": "585f81a5-c6ff-4399-bbec-901c41fc7285",
    "_uuid": "6abb0af8474eabb50be7a9e6496bfa75ec1b2bd9"
   },
   "source": [
    "### Предобработка данных"
   ]
  },
  {
   "cell_type": "markdown",
   "metadata": {
    "_cell_guid": "bad1a6c9-0258-4b89-85f9-bec89a523662",
    "_uuid": "84c2e91561d5de6afa7c45c173022193664c770e"
   },
   "source": [
    "В логах встречаются различные действия пользователей. Однако мы хотим работать лишь с одной величиной, характеризующей всё взаимодействие пользователя со статьёй. Предлагается задать действиям следующие веса:"
   ]
  },
  {
   "cell_type": "code",
   "execution_count": 6,
   "metadata": {
    "_cell_guid": "3239c376-05b8-4a58-9afc-f6f57f67405f",
    "_uuid": "b06f8c0b082f0ad07bf773a5ad2fae33c1f7acc2"
   },
   "outputs": [],
   "source": [
    "event_type_strength = {\n",
    "   'VIEW': 1.0,\n",
    "   'LIKE': 2.0, \n",
    "   'BOOKMARK': 2.5, \n",
    "   'FOLLOW': 3.0,\n",
    "   'COMMENT CREATED': 4.0,  \n",
    "}"
   ]
  },
  {
   "cell_type": "markdown",
   "metadata": {},
   "source": [
    "Посчитаем числовую величину \"оценки\" пользователем статьи с указанными выше весами."
   ]
  },
  {
   "cell_type": "code",
   "execution_count": 7,
   "metadata": {},
   "outputs": [
    {
     "data": {
      "text/plain": [
       "0        1.0\n",
       "1        1.0\n",
       "2        1.0\n",
       "3        3.0\n",
       "4        1.0\n",
       "        ... \n",
       "72307    2.0\n",
       "72308    1.0\n",
       "72309    1.0\n",
       "72310    1.0\n",
       "72311    1.0\n",
       "Name: eventStrength, Length: 72312, dtype: float64"
      ]
     },
     "execution_count": 7,
     "metadata": {},
     "output_type": "execute_result"
    }
   ],
   "source": [
    "# interactions_df['eventStrength'] =\n",
    "####### Здесь ваш код ##########\n",
    "interactions_df['eventStrength'] = interactions_df.eventType.apply(lambda x: event_type_strength[x])\n",
    "################################\n",
    "interactions_df['eventStrength']"
   ]
  },
  {
   "cell_type": "markdown",
   "metadata": {
    "_cell_guid": "5c92aa80-2926-44db-b358-c4c32de806c4",
    "_uuid": "91100a395fdf4fb20df02c8d248072457c980b5d"
   },
   "source": [
    "Ремендательные системы подвержены проблеме холодного старта. Будем работать только с теми пользователями, которые взаимодействовали хотя бы с 5-ю материалами.\n",
    "\n",
    "Оставим только таких пользователей."
   ]
  },
  {
   "cell_type": "code",
   "execution_count": 8,
   "metadata": {
    "_cell_guid": "bad1d8ea-9b67-4a47-80c5-87a5e55c4f38",
    "_uuid": "1698c88340183baa7f3ebb8c3b60eaa8e6ca708f"
   },
   "outputs": [
    {
     "name": "stdout",
     "output_type": "stream",
     "text": [
      "# users: 1895\n",
      "# users with at least 5 interactions: 1140\n"
     ]
    }
   ],
   "source": [
    "users_interactions_count_df = (\n",
    "    interactions_df\n",
    "    .groupby(['personId', 'contentId'])\n",
    "    .first()\n",
    "    .reset_index()\n",
    "    .groupby('personId').size())\n",
    "print('# users:', len(users_interactions_count_df))\n",
    "\n",
    "users_with_enough_interactions_df = \\\n",
    "    users_interactions_count_df[users_interactions_count_df >= 5].reset_index()[['personId']]\n",
    "print('# users with at least 5 interactions:',len(users_with_enough_interactions_df))"
   ]
  },
  {
   "cell_type": "code",
   "execution_count": 9,
   "metadata": {},
   "outputs": [
    {
     "data": {
      "text/plain": [
       "<AxesSubplot:>"
      ]
     },
     "execution_count": 9,
     "metadata": {},
     "output_type": "execute_result"
    },
    {
     "data": {
      "image/png": "[encoded data removed]",
      "text/plain": [
       "<Figure size 432x288 with 1 Axes>"
      ]
     },
     "metadata": {
      "needs_background": "light"
     },
     "output_type": "display_data"
    }
   ],
   "source": [
    "users_interactions_count_df.hist(bins=5)"
   ]
  },
  {
   "cell_type": "markdown",
   "metadata": {},
   "source": [
    "Оставим только те взаимодействия, которые касаются только отфильтрованных пользователей."
   ]
  },
  {
   "cell_type": "code",
   "execution_count": 10,
   "metadata": {
    "_cell_guid": "4e79a418-a9d6-4e01-9f38-9b290a645626",
    "_uuid": "0f428a4c6e76f95de7ea328dc33c6539389ae5f0"
   },
   "outputs": [],
   "source": [
    "# interactions_from_selected_users_df =\n",
    "####### Здесь ваш код ##########\n",
    "interactions_from_selected_users_df = interactions_df.loc[np.in1d(interactions_df.personId,\n",
    "            users_with_enough_interactions_df)]\n",
    "################################"
   ]
  },
  {
   "cell_type": "code",
   "execution_count": 11,
   "metadata": {},
   "outputs": [
    {
     "name": "stdout",
     "output_type": "stream",
     "text": [
      "# interactions before: (72312, 9)\n",
      "# interactions after: (69868, 9)\n"
     ]
    }
   ],
   "source": [
    "print('# interactions before:', interactions_df.shape)\n",
    "print('# interactions after:', interactions_from_selected_users_df.shape)"
   ]
  },
  {
   "cell_type": "markdown",
   "metadata": {},
   "source": [
    "В данной постановке каждый пользователей мог взаимодействовать с каждой статьёй более 1 раза (как минимум совершая различные действия). Предлагается \"схлопнуть\" все действия в одно взаимодействие с весом, равным сумме весов. \n",
    "\n",
    "Однако полученное число будет в том числе тем больше, чем больше действий произвёл человек. Чтобы уменьшить разброс предлагается взять логарифм от полученного числа (можно придумывать другие веса действиям и по-другому обрабатывать значения).\n",
    "\n",
    "Также сохраним последнее значение времени взаимодействия для разделениея выборки на обучение и контроль."
   ]
  },
  {
   "cell_type": "code",
   "execution_count": 12,
   "metadata": {
    "_cell_guid": "54c82dd1-1102-4f11-ac6a-7993f8e5e842",
    "_uuid": "dcd64b20b47cf2c365341303ff410626a801f7a6"
   },
   "outputs": [
    {
     "data": {
      "text/html": [
       "<div>\n",
       "<style scoped>\n",
       "    .dataframe tbody tr th:only-of-type {\n",
       "        vertical-align: middle;\n",
       "    }\n",
       "\n",
       "    .dataframe tbody tr th {\n",
       "        vertical-align: top;\n",
       "    }\n",
       "\n",
       "    .dataframe thead th {\n",
       "        text-align: right;\n",
       "    }\n",
       "</style>\n",
       "<table border=\"1\" class=\"dataframe\">\n",
       "  <thead>\n",
       "    <tr style=\"text-align: right;\">\n",
       "      <th></th>\n",
       "      <th>personId</th>\n",
       "      <th>contentId</th>\n",
       "      <th>eventStrength</th>\n",
       "      <th>last_timestamp</th>\n",
       "    </tr>\n",
       "  </thead>\n",
       "  <tbody>\n",
       "    <tr>\n",
       "      <th>0</th>\n",
       "      <td>-1007001694607905623</td>\n",
       "      <td>-5065077552540450930</td>\n",
       "      <td>1.000000</td>\n",
       "      <td>1470395911</td>\n",
       "    </tr>\n",
       "    <tr>\n",
       "      <th>1</th>\n",
       "      <td>-1007001694607905623</td>\n",
       "      <td>-6623581327558800021</td>\n",
       "      <td>1.000000</td>\n",
       "      <td>1487240080</td>\n",
       "    </tr>\n",
       "    <tr>\n",
       "      <th>2</th>\n",
       "      <td>-1007001694607905623</td>\n",
       "      <td>-793729620925729327</td>\n",
       "      <td>1.000000</td>\n",
       "      <td>1472834892</td>\n",
       "    </tr>\n",
       "    <tr>\n",
       "      <th>3</th>\n",
       "      <td>-1007001694607905623</td>\n",
       "      <td>1469580151036142903</td>\n",
       "      <td>1.000000</td>\n",
       "      <td>1487240062</td>\n",
       "    </tr>\n",
       "    <tr>\n",
       "      <th>4</th>\n",
       "      <td>-1007001694607905623</td>\n",
       "      <td>7270966256391553686</td>\n",
       "      <td>1.584963</td>\n",
       "      <td>1485994324</td>\n",
       "    </tr>\n",
       "    <tr>\n",
       "      <th>5</th>\n",
       "      <td>-1007001694607905623</td>\n",
       "      <td>8729086959762650511</td>\n",
       "      <td>1.000000</td>\n",
       "      <td>1487240086</td>\n",
       "    </tr>\n",
       "    <tr>\n",
       "      <th>6</th>\n",
       "      <td>-1032019229384696495</td>\n",
       "      <td>-1006791494035379303</td>\n",
       "      <td>1.000000</td>\n",
       "      <td>1469129122</td>\n",
       "    </tr>\n",
       "    <tr>\n",
       "      <th>7</th>\n",
       "      <td>-1032019229384696495</td>\n",
       "      <td>-1039912738963181810</td>\n",
       "      <td>1.000000</td>\n",
       "      <td>1459376415</td>\n",
       "    </tr>\n",
       "    <tr>\n",
       "      <th>8</th>\n",
       "      <td>-1032019229384696495</td>\n",
       "      <td>-1081723567492738167</td>\n",
       "      <td>2.000000</td>\n",
       "      <td>1464054093</td>\n",
       "    </tr>\n",
       "    <tr>\n",
       "      <th>9</th>\n",
       "      <td>-1032019229384696495</td>\n",
       "      <td>-1111518890369033396</td>\n",
       "      <td>1.000000</td>\n",
       "      <td>1470109122</td>\n",
       "    </tr>\n",
       "    <tr>\n",
       "      <th>10</th>\n",
       "      <td>-1032019229384696495</td>\n",
       "      <td>-1114438937697017987</td>\n",
       "      <td>3.584963</td>\n",
       "      <td>1463954865</td>\n",
       "    </tr>\n",
       "    <tr>\n",
       "      <th>11</th>\n",
       "      <td>-1032019229384696495</td>\n",
       "      <td>-1137602700803601559</td>\n",
       "      <td>2.700440</td>\n",
       "      <td>1472077982</td>\n",
       "    </tr>\n",
       "    <tr>\n",
       "      <th>12</th>\n",
       "      <td>-1032019229384696495</td>\n",
       "      <td>-1151034582628982912</td>\n",
       "      <td>2.000000</td>\n",
       "      <td>1463259775</td>\n",
       "    </tr>\n",
       "    <tr>\n",
       "      <th>13</th>\n",
       "      <td>-1032019229384696495</td>\n",
       "      <td>-1249582672736761858</td>\n",
       "      <td>1.000000</td>\n",
       "      <td>1472566466</td>\n",
       "    </tr>\n",
       "    <tr>\n",
       "      <th>14</th>\n",
       "      <td>-1032019229384696495</td>\n",
       "      <td>-1254906787526072320</td>\n",
       "      <td>2.321928</td>\n",
       "      <td>1464885644</td>\n",
       "    </tr>\n",
       "    <tr>\n",
       "      <th>15</th>\n",
       "      <td>-1032019229384696495</td>\n",
       "      <td>-1313614305945895108</td>\n",
       "      <td>2.584963</td>\n",
       "      <td>1462025352</td>\n",
       "    </tr>\n",
       "    <tr>\n",
       "      <th>16</th>\n",
       "      <td>-1032019229384696495</td>\n",
       "      <td>-1415040208471067980</td>\n",
       "      <td>2.700440</td>\n",
       "      <td>1482413824</td>\n",
       "    </tr>\n",
       "    <tr>\n",
       "      <th>17</th>\n",
       "      <td>-1032019229384696495</td>\n",
       "      <td>-1453783314552286835</td>\n",
       "      <td>5.247928</td>\n",
       "      <td>1464202274</td>\n",
       "    </tr>\n",
       "    <tr>\n",
       "      <th>18</th>\n",
       "      <td>-1032019229384696495</td>\n",
       "      <td>-1470592927114056630</td>\n",
       "      <td>1.000000</td>\n",
       "      <td>1460149910</td>\n",
       "    </tr>\n",
       "    <tr>\n",
       "      <th>19</th>\n",
       "      <td>-1032019229384696495</td>\n",
       "      <td>-1556169727291354289</td>\n",
       "      <td>3.807355</td>\n",
       "      <td>1466029013</td>\n",
       "    </tr>\n",
       "  </tbody>\n",
       "</table>\n",
       "</div>"
      ],
      "text/plain": [
       "                personId             contentId  eventStrength  last_timestamp\n",
       "0   -1007001694607905623  -5065077552540450930       1.000000      1470395911\n",
       "1   -1007001694607905623  -6623581327558800021       1.000000      1487240080\n",
       "2   -1007001694607905623   -793729620925729327       1.000000      1472834892\n",
       "3   -1007001694607905623   1469580151036142903       1.000000      1487240062\n",
       "4   -1007001694607905623   7270966256391553686       1.584963      1485994324\n",
       "5   -1007001694607905623   8729086959762650511       1.000000      1487240086\n",
       "6   -1032019229384696495  -1006791494035379303       1.000000      1469129122\n",
       "7   -1032019229384696495  -1039912738963181810       1.000000      1459376415\n",
       "8   -1032019229384696495  -1081723567492738167       2.000000      1464054093\n",
       "9   -1032019229384696495  -1111518890369033396       1.000000      1470109122\n",
       "10  -1032019229384696495  -1114438937697017987       3.584963      1463954865\n",
       "11  -1032019229384696495  -1137602700803601559       2.700440      1472077982\n",
       "12  -1032019229384696495  -1151034582628982912       2.000000      1463259775\n",
       "13  -1032019229384696495  -1249582672736761858       1.000000      1472566466\n",
       "14  -1032019229384696495  -1254906787526072320       2.321928      1464885644\n",
       "15  -1032019229384696495  -1313614305945895108       2.584963      1462025352\n",
       "16  -1032019229384696495  -1415040208471067980       2.700440      1482413824\n",
       "17  -1032019229384696495  -1453783314552286835       5.247928      1464202274\n",
       "18  -1032019229384696495  -1470592927114056630       1.000000      1460149910\n",
       "19  -1032019229384696495  -1556169727291354289       3.807355      1466029013"
      ]
     },
     "execution_count": 12,
     "metadata": {},
     "output_type": "execute_result"
    }
   ],
   "source": [
    "def smooth_user_preference(x):\n",
    "    return math.log(1+x, 2)\n",
    "    \n",
    "interactions_full_df = (\n",
    "    interactions_from_selected_users_df\n",
    "    .groupby(['personId', 'contentId']).eventStrength.sum()\n",
    "    .apply(smooth_user_preference)\n",
    "    .reset_index().set_index(['personId', 'contentId'])\n",
    ")\n",
    "interactions_full_df['last_timestamp'] = (\n",
    "    interactions_from_selected_users_df\n",
    "    .groupby(['personId', 'contentId'])['timestamp'].last()\n",
    ")\n",
    "        \n",
    "interactions_full_df = interactions_full_df.reset_index()\n",
    "interactions_full_df.head(20)"
   ]
  },
  {
   "cell_type": "markdown",
   "metadata": {},
   "source": [
    "Разобьём выборку на обучение и контроль по времени."
   ]
  },
  {
   "cell_type": "code",
   "execution_count": 13,
   "metadata": {
    "_cell_guid": "e594a5ef-255a-4d30-9ab2-7cebe12fe798",
    "_uuid": "babda61be5306281b34422dbded67675a0aab17d"
   },
   "outputs": [
    {
     "name": "stdout",
     "output_type": "stream",
     "text": [
      "# interactions on Train set: 29329\n",
      "# interactions on Test set: 9777\n"
     ]
    },
    {
     "data": {
      "text/html": [
       "<div>\n",
       "<style scoped>\n",
       "    .dataframe tbody tr th:only-of-type {\n",
       "        vertical-align: middle;\n",
       "    }\n",
       "\n",
       "    .dataframe tbody tr th {\n",
       "        vertical-align: top;\n",
       "    }\n",
       "\n",
       "    .dataframe thead th {\n",
       "        text-align: right;\n",
       "    }\n",
       "</style>\n",
       "<table border=\"1\" class=\"dataframe\">\n",
       "  <thead>\n",
       "    <tr style=\"text-align: right;\">\n",
       "      <th></th>\n",
       "      <th>personId</th>\n",
       "      <th>contentId</th>\n",
       "      <th>eventStrength</th>\n",
       "      <th>last_timestamp</th>\n",
       "    </tr>\n",
       "  </thead>\n",
       "  <tbody>\n",
       "    <tr>\n",
       "      <th>0</th>\n",
       "      <td>-1007001694607905623</td>\n",
       "      <td>-5065077552540450930</td>\n",
       "      <td>1.0</td>\n",
       "      <td>1470395911</td>\n",
       "    </tr>\n",
       "    <tr>\n",
       "      <th>2</th>\n",
       "      <td>-1007001694607905623</td>\n",
       "      <td>-793729620925729327</td>\n",
       "      <td>1.0</td>\n",
       "      <td>1472834892</td>\n",
       "    </tr>\n",
       "    <tr>\n",
       "      <th>6</th>\n",
       "      <td>-1032019229384696495</td>\n",
       "      <td>-1006791494035379303</td>\n",
       "      <td>1.0</td>\n",
       "      <td>1469129122</td>\n",
       "    </tr>\n",
       "    <tr>\n",
       "      <th>7</th>\n",
       "      <td>-1032019229384696495</td>\n",
       "      <td>-1039912738963181810</td>\n",
       "      <td>1.0</td>\n",
       "      <td>1459376415</td>\n",
       "    </tr>\n",
       "    <tr>\n",
       "      <th>8</th>\n",
       "      <td>-1032019229384696495</td>\n",
       "      <td>-1081723567492738167</td>\n",
       "      <td>2.0</td>\n",
       "      <td>1464054093</td>\n",
       "    </tr>\n",
       "    <tr>\n",
       "      <th>...</th>\n",
       "      <td>...</td>\n",
       "      <td>...</td>\n",
       "      <td>...</td>\n",
       "      <td>...</td>\n",
       "    </tr>\n",
       "    <tr>\n",
       "      <th>39099</th>\n",
       "      <td>997469202936578234</td>\n",
       "      <td>9112765177685685246</td>\n",
       "      <td>2.0</td>\n",
       "      <td>1472479493</td>\n",
       "    </tr>\n",
       "    <tr>\n",
       "      <th>39100</th>\n",
       "      <td>998688566268269815</td>\n",
       "      <td>-1255189867397298842</td>\n",
       "      <td>1.0</td>\n",
       "      <td>1474567164</td>\n",
       "    </tr>\n",
       "    <tr>\n",
       "      <th>39101</th>\n",
       "      <td>998688566268269815</td>\n",
       "      <td>-401664538366009049</td>\n",
       "      <td>1.0</td>\n",
       "      <td>1474567449</td>\n",
       "    </tr>\n",
       "    <tr>\n",
       "      <th>39103</th>\n",
       "      <td>998688566268269815</td>\n",
       "      <td>6881796783400625893</td>\n",
       "      <td>1.0</td>\n",
       "      <td>1474567675</td>\n",
       "    </tr>\n",
       "    <tr>\n",
       "      <th>39105</th>\n",
       "      <td>998688566268269815</td>\n",
       "      <td>739747367187387064</td>\n",
       "      <td>1.0</td>\n",
       "      <td>1474567514</td>\n",
       "    </tr>\n",
       "  </tbody>\n",
       "</table>\n",
       "<p>29329 rows × 4 columns</p>\n",
       "</div>"
      ],
      "text/plain": [
       "                   personId             contentId  eventStrength  \\\n",
       "0      -1007001694607905623  -5065077552540450930            1.0   \n",
       "2      -1007001694607905623   -793729620925729327            1.0   \n",
       "6      -1032019229384696495  -1006791494035379303            1.0   \n",
       "7      -1032019229384696495  -1039912738963181810            1.0   \n",
       "8      -1032019229384696495  -1081723567492738167            2.0   \n",
       "...                     ...                   ...            ...   \n",
       "39099    997469202936578234   9112765177685685246            2.0   \n",
       "39100    998688566268269815  -1255189867397298842            1.0   \n",
       "39101    998688566268269815   -401664538366009049            1.0   \n",
       "39103    998688566268269815   6881796783400625893            1.0   \n",
       "39105    998688566268269815    739747367187387064            1.0   \n",
       "\n",
       "       last_timestamp  \n",
       "0          1470395911  \n",
       "2          1472834892  \n",
       "6          1469129122  \n",
       "7          1459376415  \n",
       "8          1464054093  \n",
       "...               ...  \n",
       "39099      1472479493  \n",
       "39100      1474567164  \n",
       "39101      1474567449  \n",
       "39103      1474567675  \n",
       "39105      1474567514  \n",
       "\n",
       "[29329 rows x 4 columns]"
      ]
     },
     "execution_count": 13,
     "metadata": {},
     "output_type": "execute_result"
    }
   ],
   "source": [
    "from sklearn.model_selection import train_test_split\n",
    "\n",
    "split_ts = 1475519530\n",
    "interactions_train_df = interactions_full_df.loc[interactions_full_df.last_timestamp < split_ts].copy()\n",
    "interactions_test_df = interactions_full_df.loc[interactions_full_df.last_timestamp >= split_ts].copy()\n",
    "\n",
    "print('# interactions on Train set: %d' % len(interactions_train_df))\n",
    "print('# interactions on Test set: %d' % len(interactions_test_df))\n",
    "\n",
    "interactions_train_df"
   ]
  },
  {
   "cell_type": "markdown",
   "metadata": {},
   "source": [
    "Также разбить данные можно не опираясь на временной фактор:\n",
    "```python\n",
    "interactions_train_df, interactions_test_df = train_test_split(interactions_full_df,\n",
    "                                   stratify=interactions_full_df['personId'], \n",
    "                                   test_size=0.25,\n",
    "                                   random_state=42)\n",
    "\n",
    "```\n",
    "Как повлият такое разбиение на итоговый результат?"
   ]
  },
  {
   "cell_type": "markdown",
   "metadata": {},
   "source": [
    "Для удобства подсчёта качества запишем данные в формате, где строка соответствует пользователю, а столбцы будут истинными метками и предсказанями в виде списков."
   ]
  },
  {
   "cell_type": "code",
   "execution_count": 14,
   "metadata": {},
   "outputs": [
    {
     "ename": "ValueError",
     "evalue": "Must have equal len keys and value when setting with an ndarray",
     "output_type": "error",
     "traceback": [
      "\u001b[0;31m---------------------------------------------------------------------------\u001b[0m",
      "\u001b[0;31mValueError\u001b[0m                                Traceback (most recent call last)",
      "\u001b[0;32m<ipython-input-14-f45d25551376>\u001b[0m in \u001b[0;36m<module>\u001b[0;34m\u001b[0m\n\u001b[1;32m     13\u001b[0m \u001b[0;34m\u001b[0m\u001b[0m\n\u001b[1;32m     14\u001b[0m \u001b[0;31m# заполнение пропусков пустыми списками\u001b[0m\u001b[0;34m\u001b[0m\u001b[0;34m\u001b[0m\u001b[0;34m\u001b[0m\u001b[0m\n\u001b[0;32m---> 15\u001b[0;31m interactions.loc[pd.isnull(interactions.true_test), 'true_test'] = [\n\u001b[0m\u001b[1;32m     16\u001b[0m     list() for x in range(len(interactions.loc[pd.isnull(interactions.true_test), 'true_test']))]\n\u001b[1;32m     17\u001b[0m \u001b[0;34m\u001b[0m\u001b[0m\n",
      "\u001b[0;32m~/opt/anaconda3/lib/python3.8/site-packages/pandas/core/indexing.py\u001b[0m in \u001b[0;36m__setitem__\u001b[0;34m(self, key, value)\u001b[0m\n\u001b[1;32m    690\u001b[0m \u001b[0;34m\u001b[0m\u001b[0m\n\u001b[1;32m    691\u001b[0m         \u001b[0miloc\u001b[0m \u001b[0;34m=\u001b[0m \u001b[0mself\u001b[0m \u001b[0;32mif\u001b[0m \u001b[0mself\u001b[0m\u001b[0;34m.\u001b[0m\u001b[0mname\u001b[0m \u001b[0;34m==\u001b[0m \u001b[0;34m\"iloc\"\u001b[0m \u001b[0;32melse\u001b[0m \u001b[0mself\u001b[0m\u001b[0;34m.\u001b[0m\u001b[0mobj\u001b[0m\u001b[0;34m.\u001b[0m\u001b[0miloc\u001b[0m\u001b[0;34m\u001b[0m\u001b[0;34m\u001b[0m\u001b[0m\n\u001b[0;32m--> 692\u001b[0;31m         \u001b[0miloc\u001b[0m\u001b[0;34m.\u001b[0m\u001b[0m_setitem_with_indexer\u001b[0m\u001b[0;34m(\u001b[0m\u001b[0mindexer\u001b[0m\u001b[0;34m,\u001b[0m \u001b[0mvalue\u001b[0m\u001b[0;34m,\u001b[0m \u001b[0mself\u001b[0m\u001b[0;34m.\u001b[0m\u001b[0mname\u001b[0m\u001b[0;34m)\u001b[0m\u001b[0;34m\u001b[0m\u001b[0;34m\u001b[0m\u001b[0m\n\u001b[0m\u001b[1;32m    693\u001b[0m \u001b[0;34m\u001b[0m\u001b[0m\n\u001b[1;32m    694\u001b[0m     \u001b[0;32mdef\u001b[0m \u001b[0m_validate_key\u001b[0m\u001b[0;34m(\u001b[0m\u001b[0mself\u001b[0m\u001b[0;34m,\u001b[0m \u001b[0mkey\u001b[0m\u001b[0;34m,\u001b[0m \u001b[0maxis\u001b[0m\u001b[0;34m:\u001b[0m \u001b[0mint\u001b[0m\u001b[0;34m)\u001b[0m\u001b[0;34m:\u001b[0m\u001b[0;34m\u001b[0m\u001b[0;34m\u001b[0m\u001b[0m\n",
      "\u001b[0;32m~/opt/anaconda3/lib/python3.8/site-packages/pandas/core/indexing.py\u001b[0m in \u001b[0;36m_setitem_with_indexer\u001b[0;34m(self, indexer, value, name)\u001b[0m\n\u001b[1;32m   1633\u001b[0m         \u001b[0;32mif\u001b[0m \u001b[0mtake_split_path\u001b[0m\u001b[0;34m:\u001b[0m\u001b[0;34m\u001b[0m\u001b[0;34m\u001b[0m\u001b[0m\n\u001b[1;32m   1634\u001b[0m             \u001b[0;31m# We have to operate column-wise\u001b[0m\u001b[0;34m\u001b[0m\u001b[0;34m\u001b[0m\u001b[0;34m\u001b[0m\u001b[0m\n\u001b[0;32m-> 1635\u001b[0;31m             \u001b[0mself\u001b[0m\u001b[0;34m.\u001b[0m\u001b[0m_setitem_with_indexer_split_path\u001b[0m\u001b[0;34m(\u001b[0m\u001b[0mindexer\u001b[0m\u001b[0;34m,\u001b[0m \u001b[0mvalue\u001b[0m\u001b[0;34m,\u001b[0m \u001b[0mname\u001b[0m\u001b[0;34m)\u001b[0m\u001b[0;34m\u001b[0m\u001b[0;34m\u001b[0m\u001b[0m\n\u001b[0m\u001b[1;32m   1636\u001b[0m         \u001b[0;32melse\u001b[0m\u001b[0;34m:\u001b[0m\u001b[0;34m\u001b[0m\u001b[0;34m\u001b[0m\u001b[0m\n\u001b[1;32m   1637\u001b[0m             \u001b[0mself\u001b[0m\u001b[0;34m.\u001b[0m\u001b[0m_setitem_single_block\u001b[0m\u001b[0;34m(\u001b[0m\u001b[0mindexer\u001b[0m\u001b[0;34m,\u001b[0m \u001b[0mvalue\u001b[0m\u001b[0;34m,\u001b[0m \u001b[0mname\u001b[0m\u001b[0;34m)\u001b[0m\u001b[0;34m\u001b[0m\u001b[0;34m\u001b[0m\u001b[0m\n",
      "\u001b[0;32m~/opt/anaconda3/lib/python3.8/site-packages/pandas/core/indexing.py\u001b[0m in \u001b[0;36m_setitem_with_indexer_split_path\u001b[0;34m(self, indexer, value, name)\u001b[0m\n\u001b[1;32m   1670\u001b[0m \u001b[0;34m\u001b[0m\u001b[0m\n\u001b[1;32m   1671\u001b[0m             \u001b[0;32melif\u001b[0m \u001b[0mnp\u001b[0m\u001b[0;34m.\u001b[0m\u001b[0mndim\u001b[0m\u001b[0;34m(\u001b[0m\u001b[0mvalue\u001b[0m\u001b[0;34m)\u001b[0m \u001b[0;34m==\u001b[0m \u001b[0;36m2\u001b[0m\u001b[0;34m:\u001b[0m\u001b[0;34m\u001b[0m\u001b[0;34m\u001b[0m\u001b[0m\n\u001b[0;32m-> 1672\u001b[0;31m                 \u001b[0mself\u001b[0m\u001b[0;34m.\u001b[0m\u001b[0m_setitem_with_indexer_2d_value\u001b[0m\u001b[0;34m(\u001b[0m\u001b[0mindexer\u001b[0m\u001b[0;34m,\u001b[0m \u001b[0mvalue\u001b[0m\u001b[0;34m)\u001b[0m\u001b[0;34m\u001b[0m\u001b[0;34m\u001b[0m\u001b[0m\n\u001b[0m\u001b[1;32m   1673\u001b[0m \u001b[0;34m\u001b[0m\u001b[0m\n\u001b[1;32m   1674\u001b[0m             \u001b[0;32melif\u001b[0m \u001b[0mlen\u001b[0m\u001b[0;34m(\u001b[0m\u001b[0milocs\u001b[0m\u001b[0;34m)\u001b[0m \u001b[0;34m==\u001b[0m \u001b[0;36m1\u001b[0m \u001b[0;32mand\u001b[0m \u001b[0mlplane_indexer\u001b[0m \u001b[0;34m==\u001b[0m \u001b[0mlen\u001b[0m\u001b[0;34m(\u001b[0m\u001b[0mvalue\u001b[0m\u001b[0;34m)\u001b[0m \u001b[0;32mand\u001b[0m \u001b[0;32mnot\u001b[0m \u001b[0mis_scalar\u001b[0m\u001b[0;34m(\u001b[0m\u001b[0mpi\u001b[0m\u001b[0;34m)\u001b[0m\u001b[0;34m:\u001b[0m\u001b[0;34m\u001b[0m\u001b[0;34m\u001b[0m\u001b[0m\n",
      "\u001b[0;32m~/opt/anaconda3/lib/python3.8/site-packages/pandas/core/indexing.py\u001b[0m in \u001b[0;36m_setitem_with_indexer_2d_value\u001b[0;34m(self, indexer, value)\u001b[0m\n\u001b[1;32m   1730\u001b[0m         \u001b[0mvalue\u001b[0m \u001b[0;34m=\u001b[0m \u001b[0mnp\u001b[0m\u001b[0;34m.\u001b[0m\u001b[0marray\u001b[0m\u001b[0;34m(\u001b[0m\u001b[0mvalue\u001b[0m\u001b[0;34m,\u001b[0m \u001b[0mdtype\u001b[0m\u001b[0;34m=\u001b[0m\u001b[0mobject\u001b[0m\u001b[0;34m)\u001b[0m\u001b[0;34m\u001b[0m\u001b[0;34m\u001b[0m\u001b[0m\n\u001b[1;32m   1731\u001b[0m         \u001b[0;32mif\u001b[0m \u001b[0mlen\u001b[0m\u001b[0;34m(\u001b[0m\u001b[0milocs\u001b[0m\u001b[0;34m)\u001b[0m \u001b[0;34m!=\u001b[0m \u001b[0mvalue\u001b[0m\u001b[0;34m.\u001b[0m\u001b[0mshape\u001b[0m\u001b[0;34m[\u001b[0m\u001b[0;36m1\u001b[0m\u001b[0;34m]\u001b[0m\u001b[0;34m:\u001b[0m\u001b[0;34m\u001b[0m\u001b[0;34m\u001b[0m\u001b[0m\n\u001b[0;32m-> 1732\u001b[0;31m             raise ValueError(\n\u001b[0m\u001b[1;32m   1733\u001b[0m                 \u001b[0;34m\"Must have equal len keys and value when setting with an ndarray\"\u001b[0m\u001b[0;34m\u001b[0m\u001b[0;34m\u001b[0m\u001b[0m\n\u001b[1;32m   1734\u001b[0m             )\n",
      "\u001b[0;31mValueError\u001b[0m: Must have equal len keys and value when setting with an ndarray"
     ]
    }
   ],
   "source": [
    "interactions = (\n",
    "    interactions_train_df\n",
    "    .groupby('personId')['contentId'].agg(lambda x: list(x))\n",
    "    .reset_index()\n",
    "    .rename(columns={'contentId': 'true_train'})\n",
    "    .set_index('personId')\n",
    ")\n",
    "\n",
    "interactions['true_test'] = (\n",
    "    interactions_test_df\n",
    "    .groupby('personId')['contentId'].agg(lambda x: list(x))\n",
    ")\n",
    "\n",
    "# заполнение пропусков пустыми списками\n",
    "interactions.loc[pd.isnull(interactions.true_test), 'true_test'] = [\n",
    "    list() for x in range(len(interactions.loc[pd.isnull(interactions.true_test), 'true_test']))]\n",
    "\n",
    "interactions.head(1)"
   ]
  },
  {
   "cell_type": "markdown",
   "metadata": {
    "_cell_guid": "2fac2a15-cc5c-4f31-8818-8065b0d2dc16",
    "_uuid": "59dd2131949c4d7e801114bffc11fb439c930b4c"
   },
   "source": [
    "## Часть 1: Baseline (модель по популярности)"
   ]
  },
  {
   "cell_type": "markdown",
   "metadata": {},
   "source": [
    "Самой простой моделью рекомендаций (при этом достаточно сильной!) является модель, которая рекомендует наиболее популярные предметы. \n",
    "\n",
    "Реализуем её. Давайте считать, что рекомендуем мы по 10 материалов (такое ограничение на размер блока на сайте).\n",
    "\n",
    "Посчитаем популярность каждой статьи, как сумму всех \"оценок\" взаимодействий с ней. Отсортируем материалы по их популярности."
   ]
  },
  {
   "cell_type": "code",
   "execution_count": 15,
   "metadata": {},
   "outputs": [],
   "source": [
    "# popular_content = \n",
    "####### Здесь ваш код ##########\n",
    "popular_content = (\n",
    "    interactions_train_df\n",
    "    .groupby('contentId')\n",
    "    .eventStrength.sum().reset_index()\n",
    "    .sort_values('eventStrength', ascending=False)\n",
    "    .contentId.values\n",
    ")\n",
    "################################"
   ]
  },
  {
   "cell_type": "code",
   "execution_count": 16,
   "metadata": {},
   "outputs": [
    {
     "name": "stdout",
     "output_type": "stream",
     "text": [
      "[\"Ray Kurzweil: The world isn't getting worse - our information is getting better\"]\n"
     ]
    }
   ],
   "source": [
    "print(articles_df.loc[articles_df.contentId == popular_content[2]]['title'].values)"
   ]
  },
  {
   "cell_type": "code",
   "execution_count": 17,
   "metadata": {},
   "outputs": [
    {
     "name": "stdout",
     "output_type": "stream",
     "text": [
      "['Sunset Blvd. (1950)']\n"
     ]
    }
   ],
   "source": [
    "print(articles_df.loc[articles_df.contentId == popular_content[2363]]['title'].values)"
   ]
  },
  {
   "cell_type": "markdown",
   "metadata": {},
   "source": [
    "Теперь необходимо сделать предсказания для каждого пользователя. Не забываем, что надо рекомендовать то, что пользователь ещё не читал (для этого нужно проверить, что материал не встречался в true_train)."
   ]
  },
  {
   "cell_type": "code",
   "execution_count": 18,
   "metadata": {},
   "outputs": [
    {
     "data": {
      "text/plain": [
       "array(['-6783772548752091658', '-133139342397538859',\n",
       "       '-8208801367848627943', '8224860111193157980',\n",
       "       '7507067965574797372', '-2358756719610361882',\n",
       "       '-6843047699859121724', '-1297580205670251233',\n",
       "       '8657408509986329668', '3367026768872537336'], dtype=object)"
      ]
     },
     "execution_count": 18,
     "metadata": {},
     "output_type": "execute_result"
    }
   ],
   "source": [
    "top_k = 10\n",
    "\n",
    "# interactions['prediction_popular'] =\n",
    "####### Здесь ваш код ##########\n",
    "interactions['prediction_popular'] = (\n",
    "    interactions.true_train\n",
    "    .apply(\n",
    "        lambda x:\n",
    "        popular_content[~np.in1d(popular_content, x)][:top_k]\n",
    "    )\n",
    ")\n",
    "################################\n",
    "interactions['prediction_popular'][0]"
   ]
  },
  {
   "cell_type": "markdown",
   "metadata": {},
   "source": [
    "Настало время оценить качество. Посчитаем precision@10 для каждого пользователя (доля угаданных рекомендаций). Усредним по всем пользователям. Везде далее будем считать эту же метрику."
   ]
  },
  {
   "cell_type": "code",
   "execution_count": 43,
   "metadata": {},
   "outputs": [],
   "source": [
    "def calc_precision(column):\n",
    "    ####### Здесь ваш код ##########\n",
    "    return (\n",
    "        interactions\n",
    "        .apply(\n",
    "            lambda row:\n",
    "            len(set(row['true_test']).intersection(\n",
    "                set(row[column]))) /\n",
    "            min(len(row['true_test']) + 0.001, 10.0),\n",
    "            axis=1)).mean()\n",
    "\n",
    "    ################################"
   ]
  },
  {
   "cell_type": "code",
   "execution_count": 1,
   "metadata": {
    "scrolled": true
   },
   "outputs": [],
   "source": [
    "#calc_precision('prediction_popular')"
   ]
  },
  {
   "cell_type": "markdown",
   "metadata": {},
   "source": [
    "## Часть 2. Коллаборативная фильтрация."
   ]
  },
  {
   "cell_type": "markdown",
   "metadata": {},
   "source": [
    "Перейдём к более сложному механизму рекомендаций, а именно коллаборативной фильтрации. Суть коллаборативной фильтрации в том, что учитывается схожесть пользователей и товаров между собой, а не факторы, которые их описывают. \n",
    "\n",
    "Для начала для удобства составим матрицу \"оценок\" пользователей. Нули будут обозначать отсутствие взаимодействия."
   ]
  },
  {
   "cell_type": "code",
   "execution_count": 21,
   "metadata": {},
   "outputs": [],
   "source": [
    "ratings = pd.pivot_table(\n",
    "    interactions_train_df,\n",
    "    values='eventStrength',\n",
    "    index='personId',\n",
    "    columns='contentId').fillna(0)"
   ]
  },
  {
   "cell_type": "markdown",
   "metadata": {},
   "source": [
    "### Memory-based"
   ]
  },
  {
   "cell_type": "markdown",
   "metadata": {},
   "source": [
    "Посчитаем схожести пользователей с помощью корреляции Пирсона. Для каждой пары учитываем только ненулевые значения.\n",
    "\n",
    "Для скорости работы лучше переходить от pandas к numpy."
   ]
  },
  {
   "cell_type": "code",
   "execution_count": 22,
   "metadata": {},
   "outputs": [],
   "source": [
    "ratings_m = ratings.values"
   ]
  },
  {
   "cell_type": "code",
   "execution_count": 23,
   "metadata": {},
   "outputs": [
    {
     "name": "stderr",
     "output_type": "stream",
     "text": [
      "<ipython-input-23-8e685abd7078>:3: TqdmDeprecationWarning: This function will be removed in tqdm==5.0.0\n",
      "Please use `tqdm.notebook.tqdm` instead of `tqdm.tqdm_notebook`\n",
      "  for i in tqdm_notebook(range(len(ratings_m)-1)):\n"
     ]
    },
    {
     "data": {
      "application/vnd.jupyter.widget-view+json": {
       "model_id": "962b4a895ba346989a2d7b1fd1b9f7f1",
       "version_major": 2,
       "version_minor": 0
      },
      "text/plain": [
       "  0%|          | 0/1111 [00:00<?, ?it/s]"
      ]
     },
     "metadata": {},
     "output_type": "display_data"
    }
   ],
   "source": [
    "similarity_users = np.zeros((len(ratings_m), len(ratings_m)))\n",
    "\n",
    "for i in tqdm_notebook(range(len(ratings_m)-1)):\n",
    "    for j in range(i+1, len(ratings_m)):\n",
    "        \n",
    "        # nonzero elements of two users\n",
    "        mask_uv = (ratings_m[i] != 0) & (ratings_m[j] != 0)\n",
    "        \n",
    "        # continue if no intersection\n",
    "        if np.sum(mask_uv) == 0:\n",
    "            continue\n",
    "            \n",
    "        # get nonzero elements\n",
    "        ratings_v = ratings_m[i, mask_uv]\n",
    "        ratings_u = ratings_m[j, mask_uv]\n",
    "        \n",
    "        # for nonzero std\n",
    "        if len(np.unique(ratings_v)) < 2 or len(np.unique(ratings_u)) < 2:\n",
    "            continue\n",
    "        # similarity_users[i,j] = \n",
    "        # similarity_users[j,i] = \n",
    "        ####### Здесь ваш код ##########\n",
    "        similarity_users[i,j] = np.corrcoef(ratings_v, ratings_u)[0, 1]\n",
    "        similarity_users[j,i] = similarity_users[i,j]\n",
    "        ################################"
   ]
  },
  {
   "cell_type": "markdown",
   "metadata": {},
   "source": [
    "Теперь у нас есть матрицы схожести пользователей. Их можно использовать для рекомендаций.\n",
    "\n",
    "Для каждого пользователя:\n",
    "\n",
    "1. Найдём пользователей с похожестью больше $\\alpha$ на нашего пользователя.\n",
    "2. Посчитаем для каждой статьи долю пользователей (среди выделенных на первом шаге), которые взаимодействовали со статьёй.\n",
    "3. Порекомендуем статьи с наибольшими долями со второго шага (среди тех, которые пользователь ещё не видел).\n",
    "\n",
    "В нашем примере данных не очень много, поэтому возьмём $\\alpha = 0$.\n",
    "\n",
    "После того, как будут сделаны предсказания (новый столбец в interactions), посчитаем качество по той же метрике."
   ]
  },
  {
   "cell_type": "code",
   "execution_count": 24,
   "metadata": {},
   "outputs": [
    {
     "name": "stderr",
     "output_type": "stream",
     "text": [
      "<ipython-input-24-27f095e833e5>:3: TqdmDeprecationWarning: This function will be removed in tqdm==5.0.0\n",
      "Please use `tqdm.notebook.tqdm` instead of `tqdm.tqdm_notebook`\n",
      "  for i in tqdm_notebook(range(len(similarity_users))):\n"
     ]
    },
    {
     "data": {
      "application/vnd.jupyter.widget-view+json": {
       "model_id": "dad526ba14b14361a0e02cc143c7cead",
       "version_major": 2,
       "version_minor": 0
      },
      "text/plain": [
       "  0%|          | 0/1112 [00:00<?, ?it/s]"
      ]
     },
     "metadata": {},
     "output_type": "display_data"
    },
    {
     "name": "stderr",
     "output_type": "stream",
     "text": [
      "/Users/irsafilo/opt/anaconda3/lib/python3.8/site-packages/numpy/lib/arraysetops.py:583: FutureWarning: elementwise comparison failed; returning scalar instead, but in the future will perform elementwise comparison\n",
      "  mask |= (ar1 == a)\n"
     ]
    }
   ],
   "source": [
    "prediction_user_based = []\n",
    "####### Здесь ваш код ##########\n",
    "for i in tqdm_notebook(range(len(similarity_users))):\n",
    "    users_sim = similarity_users[i] > 0\n",
    "    if len(users_sim) == 0:\n",
    "        prediction_user_based.append([])\n",
    "    else:\n",
    "        tmp_recommend = np.argsort(ratings_m[users_sim].sum(axis=0))[::-1]\n",
    "        tmp_recommend = ratings.columns[tmp_recommend]\n",
    "        recommend = np.array(tmp_recommend)[~np.in1d(tmp_recommend, interactions.iloc[i])][:10]\n",
    "        prediction_user_based.append(list(recommend))\n",
    "################################\n",
    "interactions['prediction_user_based'] = prediction_user_based"
   ]
  },
  {
   "cell_type": "markdown",
   "metadata": {},
   "source": [
    "### Модель со скрытыми переменными"
   ]
  },
  {
   "cell_type": "markdown",
   "metadata": {},
   "source": [
    "Реализуем подход с разложением матрицы оценок. Для этого сделаем сингулярное разложение (svd в scipy.linalg), на выходе вы получите три матрицы.\n",
    "\n",
    "Заметим, что мы используем матрицу с нулями, будто отсутствующие взаимодействия негативные, что странно.\n",
    "\n",
    "Если бы мы учили модель со скрытыми переменными с помощью стохастического градиентного спуска, то неизвестные взаимодействия могли бы не использовать."
   ]
  },
  {
   "cell_type": "code",
   "execution_count": 26,
   "metadata": {},
   "outputs": [],
   "source": [
    "from scipy.linalg import svd"
   ]
  },
  {
   "cell_type": "code",
   "execution_count": 27,
   "metadata": {},
   "outputs": [
    {
     "name": "stdout",
     "output_type": "stream",
     "text": [
      "(1112, 2366) (1112, 1112) (1112,) (2366, 2366)\n"
     ]
    }
   ],
   "source": [
    "####### Здесь ваш код ##########\n",
    "U, sigma, V = svd(ratings)\n",
    "print(ratings.shape, U.shape, sigma.shape, V.shape)\n",
    "################################"
   ]
  },
  {
   "cell_type": "code",
   "execution_count": 28,
   "metadata": {},
   "outputs": [
    {
     "name": "stdout",
     "output_type": "stream",
     "text": [
      "7.075035668436606e-25\n"
     ]
    }
   ],
   "source": [
    "####### Здесь ваш код ##########\n",
    "Sigma = np.zeros((1112, 2366))\n",
    "Sigma[:1112, :1112] = np.diag(sigma)\n",
    "\n",
    "new_ratings = U.dot(Sigma).dot(V)\n",
    "print(sum(sum((new_ratings - ratings.values) ** 2)))\n",
    "################################"
   ]
  },
  {
   "cell_type": "markdown",
   "metadata": {},
   "source": [
    "Значения у матрицы с сингулярными числами отсортированы по убыванию. Допустим мы хотим оставить только первые 100 компонент (и получить скрытые представления размерности 100). Для этого необходимо оставить 100 столбцов в матрице U, оставить из sigma только первые 100 значений (и сделать из них диагональную матрицу) и 100 столбцов в матрице V. Перемножим преобразованные матрицы ($\\hat{U}, \\hat{sigma}, \\hat{V^T}$), чтобы получить восстановленную матрицу оценок."
   ]
  },
  {
   "cell_type": "code",
   "execution_count": 29,
   "metadata": {},
   "outputs": [],
   "source": [
    "K = 100\n",
    "####### Здесь ваш код ##########\n",
    "sigma[K:] = 0\n",
    "Sigma = np.zeros((1112, 2366))\n",
    "Sigma[:1112, :1112] = np.diag(sigma)\n",
    "################################"
   ]
  },
  {
   "cell_type": "markdown",
   "metadata": {},
   "source": [
    "Посчитаем качество аппроксимации матрицы по норме Фробениуса (среднеквадратичную ошибку между всеми элементами соответствующими элементами двух матриц). Сравним его с простым бейзлайном с константным значением, равным среднему значению исходной матрицы. У аппроксимации ошибка должна получиться ниже."
   ]
  },
  {
   "cell_type": "code",
   "execution_count": 30,
   "metadata": {},
   "outputs": [
    {
     "name": "stdout",
     "output_type": "stream",
     "text": [
      "25843.42489891277\n",
      "78622.13000466056\n"
     ]
    }
   ],
   "source": [
    "####### Здесь ваш код ##########\n",
    "new_ratings = U.dot(Sigma).dot(V)\n",
    "print(sum(sum((new_ratings - ratings.values) ** 2)))\n",
    "print(sum(sum((ratings.values.mean() - ratings.values) ** 2)))\n",
    "################################"
   ]
  },
  {
   "cell_type": "markdown",
   "metadata": {},
   "source": [
    "Теперь можно делать предсказания по матрице. Сделаем их (не забываем про то, что уже было просмотрено пользователем), оценим качество. Для этого необходимо для каждого пользователя найти предметы с наибольшими оценками в восстановленной матрице."
   ]
  },
  {
   "cell_type": "code",
   "execution_count": 31,
   "metadata": {},
   "outputs": [
    {
     "name": "stderr",
     "output_type": "stream",
     "text": [
      "<ipython-input-31-e5e593b7e954>:5: TqdmDeprecationWarning: This function will be removed in tqdm==5.0.0\n",
      "Please use `tqdm.notebook.tqdm` instead of `tqdm.tqdm_notebook`\n",
      "  for personId in tqdm_notebook(interactions.index):\n"
     ]
    },
    {
     "data": {
      "application/vnd.jupyter.widget-view+json": {
       "model_id": "40777333e15748cb8f356dd0a4c88560",
       "version_major": 2,
       "version_minor": 0
      },
      "text/plain": [
       "  0%|          | 0/1112 [00:00<?, ?it/s]"
      ]
     },
     "metadata": {},
     "output_type": "display_data"
    }
   ],
   "source": [
    "new_ratings = pd.DataFrame(new_ratings, index=ratings.index, columns=ratings.columns)\n",
    "\n",
    "predictions = []\n",
    "####### Здесь ваш код ##########\n",
    "for personId in tqdm_notebook(interactions.index):\n",
    "    prediction = (\n",
    "        new_ratings\n",
    "        .loc[personId]\n",
    "        .sort_values(ascending=False)\n",
    "        .index.values\n",
    "    )\n",
    "    \n",
    "    predictions.append(\n",
    "        list(prediction[~np.in1d(\n",
    "            prediction,\n",
    "            interactions.loc[personId, 'true_train'])])[:top_k])\n",
    "################################\n",
    "interactions['prediction_svd'] = predictions"
   ]
  },
  {
   "cell_type": "markdown",
   "metadata": {},
   "source": [
    "## Часть 3. Контентные  модели"
   ]
  },
  {
   "cell_type": "markdown",
   "metadata": {},
   "source": [
    "В этой части реализуем альтернативных подход к рекомендательным системам — контентные модели."
   ]
  },
  {
   "cell_type": "markdown",
   "metadata": {},
   "source": [
    "Теперь мы будем оперировать не матрицей с оценками, а классической для машинного обучения матрицей объекты-признаки. Каждый объект будет характеризовать пару user-item и содержать признаки, описывающие как пользователя, так и товар. Кроме этого признаки могут описывать и саму пару целиком.\n",
    "\n",
    "Матрица со всеми взаимодействиями уже получена нами на этапа разбиения выборки на 2 части. \n",
    "\n",
    "Будем обучать классификатор на взаимодействие, а для него нужны отрицательные примеры. Добавим случайные отсутствующие взаимодействия как отрицательные.\n",
    "\n",
    "Заметим, что модель оценивает каждую пару потенциального взаимодействия, а значит, надо подготовить выборку из всех возможных пар из пользователей и статей."
   ]
  },
  {
   "cell_type": "code",
   "execution_count": 33,
   "metadata": {},
   "outputs": [],
   "source": [
    "test_personId = np.repeat(interactions.index, len(ratings.columns)) \n",
    "test_contentId = list(ratings.columns) * len(interactions)\n",
    "test = pd.DataFrame(\n",
    "    np.array([test_personId, test_contentId]).T,\n",
    "    columns=['personId', 'contentId'])\n",
    "\n",
    "interactions_train_df = pd.concat((\n",
    "    interactions_train_df,\n",
    "    test.loc[\n",
    "        np.random.permutation(test.index)[\n",
    "            :4*len(interactions_train_df)]]), ignore_index=True)\n",
    "interactions_train_df.eventStrength.fillna(0, inplace=True)"
   ]
  },
  {
   "cell_type": "markdown",
   "metadata": {},
   "source": [
    "Придумаем и добавим признаков о пользователях и статьях. Сначала добавим информацию о статьях в данные о взаимодействиях."
   ]
  },
  {
   "cell_type": "code",
   "execution_count": 34,
   "metadata": {},
   "outputs": [],
   "source": [
    "interactions_train_df = interactions_train_df.merge(articles_df, how='left', on='contentId')\n",
    "interactions_test_df = interactions_test_df.merge(articles_df, how='left', on='contentId')"
   ]
  },
  {
   "cell_type": "code",
   "execution_count": 35,
   "metadata": {},
   "outputs": [],
   "source": [
    "# first feature index\n",
    "features_start = len(interactions_train_df.columns)"
   ]
  },
  {
   "cell_type": "markdown",
   "metadata": {},
   "source": [
    "После обучения модели нам придётся делать предсказания на тестовой выборке для всех возможных пар статья-пользователь. Подготовим такую матрицу, чтобы параллельно посчитать признаки для неё."
   ]
  },
  {
   "cell_type": "code",
   "execution_count": 36,
   "metadata": {},
   "outputs": [
    {
     "data": {
      "text/html": [
       "<div>\n",
       "<style scoped>\n",
       "    .dataframe tbody tr th:only-of-type {\n",
       "        vertical-align: middle;\n",
       "    }\n",
       "\n",
       "    .dataframe tbody tr th {\n",
       "        vertical-align: top;\n",
       "    }\n",
       "\n",
       "    .dataframe thead th {\n",
       "        text-align: right;\n",
       "    }\n",
       "</style>\n",
       "<table border=\"1\" class=\"dataframe\">\n",
       "  <thead>\n",
       "    <tr style=\"text-align: right;\">\n",
       "      <th></th>\n",
       "      <th>personId</th>\n",
       "      <th>contentId</th>\n",
       "      <th>timestamp</th>\n",
       "      <th>eventType</th>\n",
       "      <th>authorPersonId</th>\n",
       "      <th>authorSessionId</th>\n",
       "      <th>authorUserAgent</th>\n",
       "      <th>authorRegion</th>\n",
       "      <th>authorCountry</th>\n",
       "      <th>contentType</th>\n",
       "      <th>url</th>\n",
       "      <th>title</th>\n",
       "      <th>text</th>\n",
       "      <th>lang</th>\n",
       "    </tr>\n",
       "  </thead>\n",
       "  <tbody>\n",
       "    <tr>\n",
       "      <th>0</th>\n",
       "      <td>-1007001694607905623</td>\n",
       "      <td>-4110354420726924665</td>\n",
       "      <td>1459193988</td>\n",
       "      <td>CONTENT SHARED</td>\n",
       "      <td>4340306774493623681</td>\n",
       "      <td>8940341205206233829</td>\n",
       "      <td>NaN</td>\n",
       "      <td>NaN</td>\n",
       "      <td>NaN</td>\n",
       "      <td>HTML</td>\n",
       "      <td>http://www.nytimes.com/2016/03/28/business/dea...</td>\n",
       "      <td>Ethereum, a Virtual Currency, Enables Transact...</td>\n",
       "      <td>All of this work is still very early. The firs...</td>\n",
       "      <td>en</td>\n",
       "    </tr>\n",
       "    <tr>\n",
       "      <th>1</th>\n",
       "      <td>-1007001694607905623</td>\n",
       "      <td>-7292285110016212249</td>\n",
       "      <td>1459194146</td>\n",
       "      <td>CONTENT SHARED</td>\n",
       "      <td>4340306774493623681</td>\n",
       "      <td>8940341205206233829</td>\n",
       "      <td>NaN</td>\n",
       "      <td>NaN</td>\n",
       "      <td>NaN</td>\n",
       "      <td>HTML</td>\n",
       "      <td>http://cointelegraph.com/news/bitcoin-future-w...</td>\n",
       "      <td>Bitcoin Future: When GBPcoin of Branson Wins O...</td>\n",
       "      <td>The alarm clock wakes me at 8:00 with stream o...</td>\n",
       "      <td>en</td>\n",
       "    </tr>\n",
       "    <tr>\n",
       "      <th>2</th>\n",
       "      <td>-1007001694607905623</td>\n",
       "      <td>-6151852268067518688</td>\n",
       "      <td>1459194474</td>\n",
       "      <td>CONTENT SHARED</td>\n",
       "      <td>3891637997717104548</td>\n",
       "      <td>-1457532940883382585</td>\n",
       "      <td>NaN</td>\n",
       "      <td>NaN</td>\n",
       "      <td>NaN</td>\n",
       "      <td>HTML</td>\n",
       "      <td>https://cloudplatform.googleblog.com/2016/03/G...</td>\n",
       "      <td>Google Data Center 360° Tour</td>\n",
       "      <td>We're excited to share the Google Data Center ...</td>\n",
       "      <td>en</td>\n",
       "    </tr>\n",
       "    <tr>\n",
       "      <th>3</th>\n",
       "      <td>-1007001694607905623</td>\n",
       "      <td>2448026894306402386</td>\n",
       "      <td>1459194497</td>\n",
       "      <td>CONTENT SHARED</td>\n",
       "      <td>4340306774493623681</td>\n",
       "      <td>8940341205206233829</td>\n",
       "      <td>NaN</td>\n",
       "      <td>NaN</td>\n",
       "      <td>NaN</td>\n",
       "      <td>HTML</td>\n",
       "      <td>https://bitcoinmagazine.com/articles/ibm-wants...</td>\n",
       "      <td>IBM Wants to \"Evolve the Internet\" With Blockc...</td>\n",
       "      <td>The Aite Group projects the blockchain market ...</td>\n",
       "      <td>en</td>\n",
       "    </tr>\n",
       "    <tr>\n",
       "      <th>4</th>\n",
       "      <td>-1007001694607905623</td>\n",
       "      <td>-2826566343807132236</td>\n",
       "      <td>1459194522</td>\n",
       "      <td>CONTENT SHARED</td>\n",
       "      <td>4340306774493623681</td>\n",
       "      <td>8940341205206233829</td>\n",
       "      <td>NaN</td>\n",
       "      <td>NaN</td>\n",
       "      <td>NaN</td>\n",
       "      <td>HTML</td>\n",
       "      <td>http://www.coindesk.com/ieee-blockchain-oxford...</td>\n",
       "      <td>IEEE to Talk Blockchain at Cloud Computing Oxf...</td>\n",
       "      <td>One of the largest and oldest organizations fo...</td>\n",
       "      <td>en</td>\n",
       "    </tr>\n",
       "  </tbody>\n",
       "</table>\n",
       "</div>"
      ],
      "text/plain": [
       "               personId             contentId   timestamp       eventType  \\\n",
       "0  -1007001694607905623  -4110354420726924665  1459193988  CONTENT SHARED   \n",
       "1  -1007001694607905623  -7292285110016212249  1459194146  CONTENT SHARED   \n",
       "2  -1007001694607905623  -6151852268067518688  1459194474  CONTENT SHARED   \n",
       "3  -1007001694607905623   2448026894306402386  1459194497  CONTENT SHARED   \n",
       "4  -1007001694607905623  -2826566343807132236  1459194522  CONTENT SHARED   \n",
       "\n",
       "        authorPersonId      authorSessionId authorUserAgent authorRegion  \\\n",
       "0  4340306774493623681  8940341205206233829             NaN          NaN   \n",
       "1  4340306774493623681  8940341205206233829             NaN          NaN   \n",
       "2  3891637997717104548 -1457532940883382585             NaN          NaN   \n",
       "3  4340306774493623681  8940341205206233829             NaN          NaN   \n",
       "4  4340306774493623681  8940341205206233829             NaN          NaN   \n",
       "\n",
       "  authorCountry contentType  \\\n",
       "0           NaN        HTML   \n",
       "1           NaN        HTML   \n",
       "2           NaN        HTML   \n",
       "3           NaN        HTML   \n",
       "4           NaN        HTML   \n",
       "\n",
       "                                                 url  \\\n",
       "0  http://www.nytimes.com/2016/03/28/business/dea...   \n",
       "1  http://cointelegraph.com/news/bitcoin-future-w...   \n",
       "2  https://cloudplatform.googleblog.com/2016/03/G...   \n",
       "3  https://bitcoinmagazine.com/articles/ibm-wants...   \n",
       "4  http://www.coindesk.com/ieee-blockchain-oxford...   \n",
       "\n",
       "                                               title  \\\n",
       "0  Ethereum, a Virtual Currency, Enables Transact...   \n",
       "1  Bitcoin Future: When GBPcoin of Branson Wins O...   \n",
       "2                       Google Data Center 360° Tour   \n",
       "3  IBM Wants to \"Evolve the Internet\" With Blockc...   \n",
       "4  IEEE to Talk Blockchain at Cloud Computing Oxf...   \n",
       "\n",
       "                                                text lang  \n",
       "0  All of this work is still very early. The firs...   en  \n",
       "1  The alarm clock wakes me at 8:00 with stream o...   en  \n",
       "2  We're excited to share the Google Data Center ...   en  \n",
       "3  The Aite Group projects the blockchain market ...   en  \n",
       "4  One of the largest and oldest organizations fo...   en  "
      ]
     },
     "execution_count": 36,
     "metadata": {},
     "output_type": "execute_result"
    }
   ],
   "source": [
    "test_personId = np.repeat(interactions.index, len(articles_df)) \n",
    "test_contentId = list(articles_df.contentId) * len(interactions)\n",
    "test = pd.DataFrame(\n",
    "    np.array([test_personId, test_contentId]).T,\n",
    "    columns=['personId', 'contentId'])\n",
    "test = test.merge(articles_df, how='left', on='contentId')\n",
    "\n",
    "test.head()"
   ]
  },
  {
   "cell_type": "markdown",
   "metadata": {},
   "source": [
    "Добавим признаки-индикаторы возможных значений contentType."
   ]
  },
  {
   "cell_type": "code",
   "execution_count": 37,
   "metadata": {},
   "outputs": [],
   "source": [
    "interactions_train_df['is_HTML'] = interactions_train_df.contentType == 'HTML'\n",
    "####### Здесь ваш код ##########\n",
    "interactions_train_df['is_RICH'] = interactions_train_df.contentType == 'RICH'\n",
    "interactions_train_df['is_VIDEO'] = interactions_train_df.contentType == 'VIDEO'\n",
    "\n",
    "test['is_HTML'] = test.contentType == 'HTML'\n",
    "test['is_RICH'] = test.contentType == 'RICH'\n",
    "test['is_VIDEO'] = test.contentType == 'VIDEO'\n",
    "################################"
   ]
  },
  {
   "cell_type": "markdown",
   "metadata": {},
   "source": [
    "Добавим признаки \"длина названия\" и \"длина текста\" + некоторые проверки на ключевые слова."
   ]
  },
  {
   "cell_type": "code",
   "execution_count": 38,
   "metadata": {},
   "outputs": [],
   "source": [
    "interactions_train_df['title_length'] = interactions_train_df.title.fillna('').apply(len)\n",
    "####### Здесь ваш код ##########\n",
    "interactions_train_df['text_length'] = interactions_train_df.text.fillna('').apply(len)\n",
    "\n",
    "test['title_length'] = test.title.fillna('').apply(len)\n",
    "test['text_length'] = test.text.fillna('').apply(len)\n",
    "\n",
    "interactions_train_df['has_new'] = \\\n",
    "    interactions_train_df.title.fillna('').apply(lambda x: 'new' in x.lower())\n",
    "interactions_train_df['has_why'] = \\\n",
    "    interactions_train_df.title.fillna('').apply(lambda x: 'why' in x.lower())\n",
    "interactions_train_df['has_how'] = \\\n",
    "    interactions_train_df.title.fillna('').apply(lambda x: 'how' in x.lower())\n",
    "interactions_train_df['has_ai'] = \\\n",
    "    interactions_train_df.title.fillna('').apply(lambda x: 'ai' in x.lower())\n",
    "\n",
    "test['has_new'] = \\\n",
    "    test.title.fillna('').apply(lambda x: 'new' in x.lower())\n",
    "test['has_why'] = \\\n",
    "    test.title.fillna('').apply(lambda x: 'why' in x.lower())\n",
    "test['has_how'] = \\\n",
    "    test.title.fillna('').apply(lambda x: 'how' in x.lower())\n",
    "test['has_ai'] = \\\n",
    "    test.title.fillna('').apply(lambda x: 'ai' in x.lower())\n",
    "################################"
   ]
  },
  {
   "cell_type": "markdown",
   "metadata": {},
   "source": [
    "Добавим признаки-индикаторы языка."
   ]
  },
  {
   "cell_type": "code",
   "execution_count": 39,
   "metadata": {},
   "outputs": [],
   "source": [
    "interactions_train_df['is_lang_en'] = interactions_train_df.lang == 'en'\n",
    "####### Здесь ваш код ##########\n",
    "interactions_train_df['is_lang_pt'] = interactions_train_df.lang == 'pt'\n",
    "\n",
    "test['is_lang_en'] = test.lang == 'en'\n",
    "test['is_lang_pt'] = test.lang == 'pt'\n",
    "################################"
   ]
  },
  {
   "cell_type": "markdown",
   "metadata": {},
   "source": [
    "Обучим на полученных признаках градиентный бустинг."
   ]
  },
  {
   "cell_type": "code",
   "execution_count": 40,
   "metadata": {
    "scrolled": true
   },
   "outputs": [
    {
     "name": "stdout",
     "output_type": "stream",
     "text": [
      "Learning rate set to 0.086682\n",
      "0:\tlearn: 0.6578033\ttotal: 68.8ms\tremaining: 1m 8s\n",
      "1:\tlearn: 0.6291562\ttotal: 75.6ms\tremaining: 37.7s\n",
      "2:\tlearn: 0.6051830\ttotal: 83.7ms\tremaining: 27.8s\n",
      "3:\tlearn: 0.5860451\ttotal: 89.4ms\tremaining: 22.3s\n",
      "4:\tlearn: 0.5701578\ttotal: 96.8ms\tremaining: 19.3s\n",
      "5:\tlearn: 0.5570634\ttotal: 104ms\tremaining: 17.2s\n",
      "6:\tlearn: 0.5462027\ttotal: 112ms\tremaining: 15.9s\n",
      "7:\tlearn: 0.5373478\ttotal: 118ms\tremaining: 14.7s\n",
      "8:\tlearn: 0.5299860\ttotal: 125ms\tremaining: 13.8s\n",
      "9:\tlearn: 0.5238030\ttotal: 133ms\tremaining: 13.2s\n",
      "10:\tlearn: 0.5186873\ttotal: 141ms\tremaining: 12.6s\n",
      "11:\tlearn: 0.5142827\ttotal: 148ms\tremaining: 12.2s\n",
      "12:\tlearn: 0.5109601\ttotal: 154ms\tremaining: 11.7s\n",
      "13:\tlearn: 0.5079288\ttotal: 162ms\tremaining: 11.4s\n",
      "14:\tlearn: 0.5056486\ttotal: 168ms\tremaining: 11s\n",
      "15:\tlearn: 0.5034989\ttotal: 175ms\tremaining: 10.8s\n",
      "16:\tlearn: 0.5019302\ttotal: 181ms\tremaining: 10.5s\n",
      "17:\tlearn: 0.5006794\ttotal: 186ms\tremaining: 10.2s\n",
      "18:\tlearn: 0.4995602\ttotal: 193ms\tremaining: 9.98s\n",
      "19:\tlearn: 0.4984394\ttotal: 202ms\tremaining: 9.88s\n",
      "20:\tlearn: 0.4975695\ttotal: 212ms\tremaining: 9.87s\n",
      "21:\tlearn: 0.4969422\ttotal: 220ms\tremaining: 9.79s\n",
      "22:\tlearn: 0.4961092\ttotal: 233ms\tremaining: 9.88s\n",
      "23:\tlearn: 0.4954467\ttotal: 242ms\tremaining: 9.86s\n",
      "24:\tlearn: 0.4949285\ttotal: 250ms\tremaining: 9.75s\n",
      "25:\tlearn: 0.4943513\ttotal: 258ms\tremaining: 9.68s\n",
      "26:\tlearn: 0.4940975\ttotal: 264ms\tremaining: 9.52s\n",
      "27:\tlearn: 0.4936212\ttotal: 276ms\tremaining: 9.57s\n",
      "28:\tlearn: 0.4932456\ttotal: 285ms\tremaining: 9.53s\n",
      "29:\tlearn: 0.4928456\ttotal: 292ms\tremaining: 9.44s\n",
      "30:\tlearn: 0.4924699\ttotal: 300ms\tremaining: 9.38s\n",
      "31:\tlearn: 0.4920705\ttotal: 308ms\tremaining: 9.32s\n",
      "32:\tlearn: 0.4918156\ttotal: 316ms\tremaining: 9.26s\n",
      "33:\tlearn: 0.4915802\ttotal: 324ms\tremaining: 9.2s\n",
      "34:\tlearn: 0.4913837\ttotal: 331ms\tremaining: 9.14s\n",
      "35:\tlearn: 0.4912058\ttotal: 339ms\tremaining: 9.07s\n",
      "36:\tlearn: 0.4909580\ttotal: 346ms\tremaining: 9.01s\n",
      "37:\tlearn: 0.4906906\ttotal: 354ms\tremaining: 8.96s\n",
      "38:\tlearn: 0.4903999\ttotal: 361ms\tremaining: 8.9s\n",
      "39:\tlearn: 0.4900919\ttotal: 368ms\tremaining: 8.83s\n",
      "40:\tlearn: 0.4898503\ttotal: 376ms\tremaining: 8.78s\n",
      "41:\tlearn: 0.4896319\ttotal: 385ms\tremaining: 8.77s\n",
      "42:\tlearn: 0.4894270\ttotal: 392ms\tremaining: 8.71s\n",
      "43:\tlearn: 0.4892324\ttotal: 402ms\tremaining: 8.73s\n",
      "44:\tlearn: 0.4890362\ttotal: 411ms\tremaining: 8.73s\n",
      "45:\tlearn: 0.4888916\ttotal: 420ms\tremaining: 8.71s\n",
      "46:\tlearn: 0.4887373\ttotal: 430ms\tremaining: 8.72s\n",
      "47:\tlearn: 0.4886053\ttotal: 445ms\tremaining: 8.83s\n",
      "48:\tlearn: 0.4884326\ttotal: 458ms\tremaining: 8.89s\n",
      "49:\tlearn: 0.4883052\ttotal: 466ms\tremaining: 8.86s\n",
      "50:\tlearn: 0.4881677\ttotal: 481ms\tremaining: 8.95s\n",
      "51:\tlearn: 0.4880535\ttotal: 490ms\tremaining: 8.93s\n",
      "52:\tlearn: 0.4879166\ttotal: 498ms\tremaining: 8.9s\n",
      "53:\tlearn: 0.4876606\ttotal: 506ms\tremaining: 8.86s\n",
      "54:\tlearn: 0.4874275\ttotal: 513ms\tremaining: 8.81s\n",
      "55:\tlearn: 0.4872826\ttotal: 520ms\tremaining: 8.77s\n",
      "56:\tlearn: 0.4871720\ttotal: 527ms\tremaining: 8.72s\n",
      "57:\tlearn: 0.4869669\ttotal: 535ms\tremaining: 8.68s\n",
      "58:\tlearn: 0.4868781\ttotal: 542ms\tremaining: 8.64s\n",
      "59:\tlearn: 0.4866831\ttotal: 549ms\tremaining: 8.6s\n",
      "60:\tlearn: 0.4865899\ttotal: 555ms\tremaining: 8.55s\n",
      "61:\tlearn: 0.4863906\ttotal: 563ms\tremaining: 8.51s\n",
      "62:\tlearn: 0.4861767\ttotal: 570ms\tremaining: 8.47s\n",
      "63:\tlearn: 0.4860001\ttotal: 576ms\tremaining: 8.43s\n",
      "64:\tlearn: 0.4859245\ttotal: 584ms\tremaining: 8.4s\n",
      "65:\tlearn: 0.4857670\ttotal: 591ms\tremaining: 8.36s\n",
      "66:\tlearn: 0.4855817\ttotal: 599ms\tremaining: 8.34s\n",
      "67:\tlearn: 0.4855017\ttotal: 607ms\tremaining: 8.32s\n",
      "68:\tlearn: 0.4853556\ttotal: 615ms\tremaining: 8.3s\n",
      "69:\tlearn: 0.4852961\ttotal: 623ms\tremaining: 8.27s\n",
      "70:\tlearn: 0.4852183\ttotal: 631ms\tremaining: 8.26s\n",
      "71:\tlearn: 0.4850948\ttotal: 640ms\tremaining: 8.25s\n",
      "72:\tlearn: 0.4850264\ttotal: 648ms\tremaining: 8.23s\n",
      "73:\tlearn: 0.4848652\ttotal: 655ms\tremaining: 8.2s\n",
      "74:\tlearn: 0.4846932\ttotal: 663ms\tremaining: 8.17s\n",
      "75:\tlearn: 0.4845490\ttotal: 669ms\tremaining: 8.14s\n",
      "76:\tlearn: 0.4844118\ttotal: 677ms\tremaining: 8.11s\n",
      "77:\tlearn: 0.4842951\ttotal: 684ms\tremaining: 8.09s\n",
      "78:\tlearn: 0.4842029\ttotal: 691ms\tremaining: 8.06s\n",
      "79:\tlearn: 0.4840779\ttotal: 699ms\tremaining: 8.04s\n",
      "80:\tlearn: 0.4839597\ttotal: 706ms\tremaining: 8.01s\n",
      "81:\tlearn: 0.4838748\ttotal: 713ms\tremaining: 7.98s\n",
      "82:\tlearn: 0.4838160\ttotal: 720ms\tremaining: 7.95s\n",
      "83:\tlearn: 0.4837723\ttotal: 726ms\tremaining: 7.92s\n",
      "84:\tlearn: 0.4837159\ttotal: 733ms\tremaining: 7.89s\n",
      "85:\tlearn: 0.4835924\ttotal: 740ms\tremaining: 7.87s\n",
      "86:\tlearn: 0.4834614\ttotal: 747ms\tremaining: 7.84s\n",
      "87:\tlearn: 0.4832944\ttotal: 754ms\tremaining: 7.82s\n",
      "88:\tlearn: 0.4831864\ttotal: 761ms\tremaining: 7.79s\n",
      "89:\tlearn: 0.4830360\ttotal: 768ms\tremaining: 7.76s\n",
      "90:\tlearn: 0.4829350\ttotal: 775ms\tremaining: 7.74s\n",
      "91:\tlearn: 0.4828321\ttotal: 781ms\tremaining: 7.71s\n",
      "92:\tlearn: 0.4827121\ttotal: 788ms\tremaining: 7.69s\n",
      "93:\tlearn: 0.4825656\ttotal: 796ms\tremaining: 7.67s\n",
      "94:\tlearn: 0.4824542\ttotal: 803ms\tremaining: 7.65s\n",
      "95:\tlearn: 0.4823622\ttotal: 811ms\tremaining: 7.63s\n",
      "96:\tlearn: 0.4822909\ttotal: 820ms\tremaining: 7.63s\n",
      "97:\tlearn: 0.4822240\ttotal: 828ms\tremaining: 7.62s\n",
      "98:\tlearn: 0.4821004\ttotal: 837ms\tremaining: 7.62s\n",
      "99:\tlearn: 0.4820165\ttotal: 845ms\tremaining: 7.61s\n",
      "100:\tlearn: 0.4818735\ttotal: 853ms\tremaining: 7.59s\n",
      "101:\tlearn: 0.4817891\ttotal: 860ms\tremaining: 7.57s\n",
      "102:\tlearn: 0.4816717\ttotal: 867ms\tremaining: 7.55s\n",
      "103:\tlearn: 0.4816111\ttotal: 875ms\tremaining: 7.54s\n",
      "104:\tlearn: 0.4815364\ttotal: 884ms\tremaining: 7.53s\n",
      "105:\tlearn: 0.4814104\ttotal: 895ms\tremaining: 7.54s\n",
      "106:\tlearn: 0.4813437\ttotal: 906ms\tremaining: 7.56s\n",
      "107:\tlearn: 0.4812717\ttotal: 918ms\tremaining: 7.58s\n",
      "108:\tlearn: 0.4811928\ttotal: 928ms\tremaining: 7.59s\n",
      "109:\tlearn: 0.4811225\ttotal: 940ms\tremaining: 7.61s\n",
      "110:\tlearn: 0.4810056\ttotal: 954ms\tremaining: 7.64s\n",
      "111:\tlearn: 0.4808898\ttotal: 969ms\tremaining: 7.68s\n",
      "112:\tlearn: 0.4808506\ttotal: 978ms\tremaining: 7.68s\n",
      "113:\tlearn: 0.4807550\ttotal: 990ms\tremaining: 7.69s\n",
      "114:\tlearn: 0.4806563\ttotal: 1s\tremaining: 7.72s\n",
      "115:\tlearn: 0.4806422\ttotal: 1.01s\tremaining: 7.74s\n",
      "116:\tlearn: 0.4805298\ttotal: 1.03s\tremaining: 7.76s\n",
      "117:\tlearn: 0.4804169\ttotal: 1.04s\tremaining: 7.77s\n",
      "118:\tlearn: 0.4803419\ttotal: 1.05s\tremaining: 7.8s\n",
      "119:\tlearn: 0.4802544\ttotal: 1.07s\tremaining: 7.83s\n",
      "120:\tlearn: 0.4801881\ttotal: 1.08s\tremaining: 7.85s\n",
      "121:\tlearn: 0.4801456\ttotal: 1.09s\tremaining: 7.87s\n",
      "122:\tlearn: 0.4800499\ttotal: 1.1s\tremaining: 7.88s\n",
      "123:\tlearn: 0.4799361\ttotal: 1.12s\tremaining: 7.89s\n",
      "124:\tlearn: 0.4798433\ttotal: 1.13s\tremaining: 7.91s\n",
      "125:\tlearn: 0.4797667\ttotal: 1.14s\tremaining: 7.9s\n",
      "126:\tlearn: 0.4796301\ttotal: 1.15s\tremaining: 7.88s\n",
      "127:\tlearn: 0.4795465\ttotal: 1.16s\tremaining: 7.9s\n",
      "128:\tlearn: 0.4794234\ttotal: 1.17s\tremaining: 7.92s\n",
      "129:\tlearn: 0.4793178\ttotal: 1.19s\tremaining: 7.95s\n",
      "130:\tlearn: 0.4792132\ttotal: 1.2s\tremaining: 7.97s\n",
      "131:\tlearn: 0.4791121\ttotal: 1.22s\tremaining: 8.04s\n",
      "132:\tlearn: 0.4790346\ttotal: 1.24s\tremaining: 8.08s\n",
      "133:\tlearn: 0.4789341\ttotal: 1.25s\tremaining: 8.09s\n",
      "134:\tlearn: 0.4788636\ttotal: 1.27s\tremaining: 8.13s\n",
      "135:\tlearn: 0.4788078\ttotal: 1.28s\tremaining: 8.15s\n",
      "136:\tlearn: 0.4787352\ttotal: 1.3s\tremaining: 8.18s\n",
      "137:\tlearn: 0.4786558\ttotal: 1.31s\tremaining: 8.18s\n",
      "138:\tlearn: 0.4785559\ttotal: 1.33s\tremaining: 8.23s\n",
      "139:\tlearn: 0.4784926\ttotal: 1.34s\tremaining: 8.23s\n",
      "140:\tlearn: 0.4783501\ttotal: 1.35s\tremaining: 8.24s\n",
      "141:\tlearn: 0.4782858\ttotal: 1.37s\tremaining: 8.27s\n",
      "142:\tlearn: 0.4781772\ttotal: 1.38s\tremaining: 8.3s\n",
      "143:\tlearn: 0.4781196\ttotal: 1.4s\tremaining: 8.32s\n",
      "144:\tlearn: 0.4780018\ttotal: 1.42s\tremaining: 8.35s\n",
      "145:\tlearn: 0.4779720\ttotal: 1.43s\tremaining: 8.36s\n",
      "146:\tlearn: 0.4779249\ttotal: 1.44s\tremaining: 8.38s\n",
      "147:\tlearn: 0.4778725\ttotal: 1.46s\tremaining: 8.4s\n",
      "148:\tlearn: 0.4777755\ttotal: 1.47s\tremaining: 8.41s\n",
      "149:\tlearn: 0.4776904\ttotal: 1.49s\tremaining: 8.42s\n",
      "150:\tlearn: 0.4776311\ttotal: 1.5s\tremaining: 8.41s\n",
      "151:\tlearn: 0.4775560\ttotal: 1.51s\tremaining: 8.43s\n",
      "152:\tlearn: 0.4774199\ttotal: 1.52s\tremaining: 8.44s\n",
      "153:\tlearn: 0.4773807\ttotal: 1.54s\tremaining: 8.45s\n",
      "154:\tlearn: 0.4773269\ttotal: 1.55s\tremaining: 8.45s\n",
      "155:\tlearn: 0.4772678\ttotal: 1.56s\tremaining: 8.45s\n",
      "156:\tlearn: 0.4772222\ttotal: 1.57s\tremaining: 8.45s\n",
      "157:\tlearn: 0.4771687\ttotal: 1.59s\tremaining: 8.46s\n",
      "158:\tlearn: 0.4770784\ttotal: 1.6s\tremaining: 8.48s\n",
      "159:\tlearn: 0.4770107\ttotal: 1.62s\tremaining: 8.48s\n",
      "160:\tlearn: 0.4769259\ttotal: 1.63s\tremaining: 8.51s\n",
      "161:\tlearn: 0.4768616\ttotal: 1.64s\tremaining: 8.51s\n",
      "162:\tlearn: 0.4767405\ttotal: 1.66s\tremaining: 8.52s\n",
      "163:\tlearn: 0.4766494\ttotal: 1.67s\tremaining: 8.52s\n",
      "164:\tlearn: 0.4765330\ttotal: 1.68s\tremaining: 8.5s\n",
      "165:\tlearn: 0.4764225\ttotal: 1.69s\tremaining: 8.51s\n",
      "166:\tlearn: 0.4763658\ttotal: 1.71s\tremaining: 8.54s\n",
      "167:\tlearn: 0.4763164\ttotal: 1.73s\tremaining: 8.55s\n",
      "168:\tlearn: 0.4762476\ttotal: 1.74s\tremaining: 8.57s\n",
      "169:\tlearn: 0.4761609\ttotal: 1.76s\tremaining: 8.58s\n",
      "170:\tlearn: 0.4760826\ttotal: 1.77s\tremaining: 8.59s\n",
      "171:\tlearn: 0.4759843\ttotal: 1.78s\tremaining: 8.59s\n"
     ]
    },
    {
     "name": "stdout",
     "output_type": "stream",
     "text": [
      "172:\tlearn: 0.4758886\ttotal: 1.8s\tremaining: 8.6s\n",
      "173:\tlearn: 0.4758401\ttotal: 1.81s\tremaining: 8.6s\n",
      "174:\tlearn: 0.4757139\ttotal: 1.82s\tremaining: 8.59s\n",
      "175:\tlearn: 0.4756735\ttotal: 1.83s\tremaining: 8.59s\n",
      "176:\tlearn: 0.4756181\ttotal: 1.84s\tremaining: 8.57s\n",
      "177:\tlearn: 0.4755123\ttotal: 1.86s\tremaining: 8.57s\n",
      "178:\tlearn: 0.4753933\ttotal: 1.87s\tremaining: 8.58s\n",
      "179:\tlearn: 0.4753067\ttotal: 1.88s\tremaining: 8.58s\n",
      "180:\tlearn: 0.4752459\ttotal: 1.9s\tremaining: 8.58s\n",
      "181:\tlearn: 0.4751562\ttotal: 1.91s\tremaining: 8.57s\n",
      "182:\tlearn: 0.4750763\ttotal: 1.92s\tremaining: 8.57s\n",
      "183:\tlearn: 0.4750033\ttotal: 1.93s\tremaining: 8.56s\n",
      "184:\tlearn: 0.4749092\ttotal: 1.94s\tremaining: 8.54s\n",
      "185:\tlearn: 0.4747650\ttotal: 1.95s\tremaining: 8.55s\n",
      "186:\tlearn: 0.4746953\ttotal: 1.97s\tremaining: 8.56s\n",
      "187:\tlearn: 0.4746543\ttotal: 1.98s\tremaining: 8.55s\n",
      "188:\tlearn: 0.4745760\ttotal: 1.99s\tremaining: 8.54s\n",
      "189:\tlearn: 0.4744815\ttotal: 2s\tremaining: 8.53s\n",
      "190:\tlearn: 0.4743510\ttotal: 2.01s\tremaining: 8.52s\n",
      "191:\tlearn: 0.4742631\ttotal: 2.02s\tremaining: 8.51s\n",
      "192:\tlearn: 0.4742087\ttotal: 2.03s\tremaining: 8.5s\n",
      "193:\tlearn: 0.4741071\ttotal: 2.04s\tremaining: 8.5s\n",
      "194:\tlearn: 0.4740173\ttotal: 2.05s\tremaining: 8.48s\n",
      "195:\tlearn: 0.4739409\ttotal: 2.06s\tremaining: 8.46s\n",
      "196:\tlearn: 0.4738500\ttotal: 2.07s\tremaining: 8.45s\n",
      "197:\tlearn: 0.4738139\ttotal: 2.08s\tremaining: 8.44s\n",
      "198:\tlearn: 0.4737410\ttotal: 2.09s\tremaining: 8.42s\n",
      "199:\tlearn: 0.4736214\ttotal: 2.1s\tremaining: 8.41s\n",
      "200:\tlearn: 0.4735707\ttotal: 2.11s\tremaining: 8.4s\n",
      "201:\tlearn: 0.4735140\ttotal: 2.12s\tremaining: 8.38s\n",
      "202:\tlearn: 0.4734278\ttotal: 2.13s\tremaining: 8.37s\n",
      "203:\tlearn: 0.4733444\ttotal: 2.14s\tremaining: 8.35s\n",
      "204:\tlearn: 0.4732977\ttotal: 2.15s\tremaining: 8.33s\n",
      "205:\tlearn: 0.4732598\ttotal: 2.16s\tremaining: 8.32s\n",
      "206:\tlearn: 0.4731378\ttotal: 2.17s\tremaining: 8.31s\n",
      "207:\tlearn: 0.4730592\ttotal: 2.18s\tremaining: 8.29s\n",
      "208:\tlearn: 0.4729889\ttotal: 2.19s\tremaining: 8.28s\n",
      "209:\tlearn: 0.4729105\ttotal: 2.2s\tremaining: 8.26s\n",
      "210:\tlearn: 0.4728381\ttotal: 2.21s\tremaining: 8.26s\n",
      "211:\tlearn: 0.4728086\ttotal: 2.22s\tremaining: 8.24s\n",
      "212:\tlearn: 0.4727506\ttotal: 2.22s\tremaining: 8.22s\n",
      "213:\tlearn: 0.4726799\ttotal: 2.23s\tremaining: 8.2s\n",
      "214:\tlearn: 0.4726269\ttotal: 2.24s\tremaining: 8.18s\n",
      "215:\tlearn: 0.4725618\ttotal: 2.25s\tremaining: 8.16s\n",
      "216:\tlearn: 0.4724889\ttotal: 2.25s\tremaining: 8.14s\n",
      "217:\tlearn: 0.4724285\ttotal: 2.26s\tremaining: 8.12s\n",
      "218:\tlearn: 0.4723686\ttotal: 2.27s\tremaining: 8.1s\n",
      "219:\tlearn: 0.4723169\ttotal: 2.28s\tremaining: 8.07s\n",
      "220:\tlearn: 0.4722972\ttotal: 2.28s\tremaining: 8.05s\n",
      "221:\tlearn: 0.4722189\ttotal: 2.29s\tremaining: 8.03s\n",
      "222:\tlearn: 0.4721232\ttotal: 2.3s\tremaining: 8.01s\n",
      "223:\tlearn: 0.4720761\ttotal: 2.3s\tremaining: 7.98s\n",
      "224:\tlearn: 0.4720349\ttotal: 2.31s\tremaining: 7.96s\n",
      "225:\tlearn: 0.4719483\ttotal: 2.32s\tremaining: 7.94s\n",
      "226:\tlearn: 0.4718909\ttotal: 2.33s\tremaining: 7.92s\n",
      "227:\tlearn: 0.4717618\ttotal: 2.33s\tremaining: 7.9s\n",
      "228:\tlearn: 0.4716894\ttotal: 2.34s\tremaining: 7.88s\n",
      "229:\tlearn: 0.4716669\ttotal: 2.35s\tremaining: 7.86s\n",
      "230:\tlearn: 0.4716467\ttotal: 2.35s\tremaining: 7.83s\n",
      "231:\tlearn: 0.4715621\ttotal: 2.36s\tremaining: 7.81s\n",
      "232:\tlearn: 0.4714933\ttotal: 2.37s\tremaining: 7.79s\n",
      "233:\tlearn: 0.4713939\ttotal: 2.37s\tremaining: 7.77s\n",
      "234:\tlearn: 0.4713282\ttotal: 2.38s\tremaining: 7.75s\n",
      "235:\tlearn: 0.4712584\ttotal: 2.39s\tremaining: 7.73s\n",
      "236:\tlearn: 0.4711999\ttotal: 2.4s\tremaining: 7.71s\n",
      "237:\tlearn: 0.4711612\ttotal: 2.4s\tremaining: 7.69s\n",
      "238:\tlearn: 0.4710646\ttotal: 2.41s\tremaining: 7.67s\n",
      "239:\tlearn: 0.4709941\ttotal: 2.42s\tremaining: 7.66s\n",
      "240:\tlearn: 0.4709107\ttotal: 2.43s\tremaining: 7.64s\n",
      "241:\tlearn: 0.4708028\ttotal: 2.43s\tremaining: 7.63s\n",
      "242:\tlearn: 0.4707299\ttotal: 2.44s\tremaining: 7.61s\n",
      "243:\tlearn: 0.4706508\ttotal: 2.45s\tremaining: 7.59s\n",
      "244:\tlearn: 0.4706094\ttotal: 2.46s\tremaining: 7.57s\n",
      "245:\tlearn: 0.4705516\ttotal: 2.46s\tremaining: 7.54s\n",
      "246:\tlearn: 0.4704831\ttotal: 2.47s\tremaining: 7.53s\n",
      "247:\tlearn: 0.4704475\ttotal: 2.48s\tremaining: 7.51s\n",
      "248:\tlearn: 0.4703553\ttotal: 2.48s\tremaining: 7.49s\n",
      "249:\tlearn: 0.4702598\ttotal: 2.49s\tremaining: 7.47s\n",
      "250:\tlearn: 0.4702078\ttotal: 2.5s\tremaining: 7.45s\n",
      "251:\tlearn: 0.4701691\ttotal: 2.5s\tremaining: 7.44s\n",
      "252:\tlearn: 0.4700908\ttotal: 2.51s\tremaining: 7.42s\n",
      "253:\tlearn: 0.4700559\ttotal: 2.52s\tremaining: 7.4s\n",
      "254:\tlearn: 0.4699864\ttotal: 2.52s\tremaining: 7.38s\n",
      "255:\tlearn: 0.4699361\ttotal: 2.53s\tremaining: 7.36s\n",
      "256:\tlearn: 0.4698841\ttotal: 2.54s\tremaining: 7.34s\n",
      "257:\tlearn: 0.4698482\ttotal: 2.55s\tremaining: 7.32s\n",
      "258:\tlearn: 0.4697765\ttotal: 2.55s\tremaining: 7.3s\n",
      "259:\tlearn: 0.4697314\ttotal: 2.56s\tremaining: 7.29s\n",
      "260:\tlearn: 0.4696779\ttotal: 2.57s\tremaining: 7.27s\n",
      "261:\tlearn: 0.4696300\ttotal: 2.57s\tremaining: 7.25s\n",
      "262:\tlearn: 0.4695559\ttotal: 2.58s\tremaining: 7.23s\n",
      "263:\tlearn: 0.4695139\ttotal: 2.59s\tremaining: 7.22s\n",
      "264:\tlearn: 0.4694444\ttotal: 2.6s\tremaining: 7.2s\n",
      "265:\tlearn: 0.4693533\ttotal: 2.6s\tremaining: 7.18s\n",
      "266:\tlearn: 0.4693145\ttotal: 2.61s\tremaining: 7.17s\n",
      "267:\tlearn: 0.4692474\ttotal: 2.62s\tremaining: 7.16s\n",
      "268:\tlearn: 0.4692114\ttotal: 2.63s\tremaining: 7.14s\n",
      "269:\tlearn: 0.4691206\ttotal: 2.63s\tremaining: 7.12s\n",
      "270:\tlearn: 0.4690711\ttotal: 2.64s\tremaining: 7.11s\n",
      "271:\tlearn: 0.4689902\ttotal: 2.65s\tremaining: 7.09s\n",
      "272:\tlearn: 0.4689670\ttotal: 2.66s\tremaining: 7.07s\n",
      "273:\tlearn: 0.4689143\ttotal: 2.66s\tremaining: 7.06s\n",
      "274:\tlearn: 0.4688318\ttotal: 2.67s\tremaining: 7.04s\n",
      "275:\tlearn: 0.4687628\ttotal: 2.68s\tremaining: 7.03s\n",
      "276:\tlearn: 0.4687191\ttotal: 2.69s\tremaining: 7.01s\n",
      "277:\tlearn: 0.4686701\ttotal: 2.69s\tremaining: 6.99s\n",
      "278:\tlearn: 0.4686032\ttotal: 2.7s\tremaining: 6.97s\n",
      "279:\tlearn: 0.4685563\ttotal: 2.71s\tremaining: 6.96s\n",
      "280:\tlearn: 0.4684908\ttotal: 2.71s\tremaining: 6.94s\n",
      "281:\tlearn: 0.4684325\ttotal: 2.72s\tremaining: 6.93s\n",
      "282:\tlearn: 0.4683605\ttotal: 2.73s\tremaining: 6.91s\n",
      "283:\tlearn: 0.4682757\ttotal: 2.73s\tremaining: 6.89s\n",
      "284:\tlearn: 0.4682291\ttotal: 2.74s\tremaining: 6.88s\n",
      "285:\tlearn: 0.4681881\ttotal: 2.75s\tremaining: 6.86s\n",
      "286:\tlearn: 0.4681425\ttotal: 2.76s\tremaining: 6.85s\n",
      "287:\tlearn: 0.4680669\ttotal: 2.76s\tremaining: 6.83s\n",
      "288:\tlearn: 0.4680385\ttotal: 2.77s\tremaining: 6.81s\n",
      "289:\tlearn: 0.4679577\ttotal: 2.78s\tremaining: 6.8s\n",
      "290:\tlearn: 0.4679134\ttotal: 2.78s\tremaining: 6.78s\n",
      "291:\tlearn: 0.4678276\ttotal: 2.79s\tremaining: 6.77s\n",
      "292:\tlearn: 0.4677672\ttotal: 2.8s\tremaining: 6.75s\n",
      "293:\tlearn: 0.4676994\ttotal: 2.81s\tremaining: 6.74s\n",
      "294:\tlearn: 0.4676309\ttotal: 2.81s\tremaining: 6.72s\n",
      "295:\tlearn: 0.4675450\ttotal: 2.82s\tremaining: 6.71s\n",
      "296:\tlearn: 0.4674496\ttotal: 2.83s\tremaining: 6.7s\n",
      "297:\tlearn: 0.4673968\ttotal: 2.84s\tremaining: 6.68s\n",
      "298:\tlearn: 0.4673677\ttotal: 2.84s\tremaining: 6.67s\n",
      "299:\tlearn: 0.4673232\ttotal: 2.85s\tremaining: 6.65s\n",
      "300:\tlearn: 0.4672600\ttotal: 2.86s\tremaining: 6.64s\n",
      "301:\tlearn: 0.4671901\ttotal: 2.87s\tremaining: 6.62s\n",
      "302:\tlearn: 0.4671464\ttotal: 2.87s\tremaining: 6.61s\n",
      "303:\tlearn: 0.4670960\ttotal: 2.88s\tremaining: 6.59s\n",
      "304:\tlearn: 0.4670350\ttotal: 2.89s\tremaining: 6.58s\n",
      "305:\tlearn: 0.4670070\ttotal: 2.89s\tremaining: 6.56s\n",
      "306:\tlearn: 0.4669956\ttotal: 2.9s\tremaining: 6.55s\n",
      "307:\tlearn: 0.4669451\ttotal: 2.91s\tremaining: 6.53s\n",
      "308:\tlearn: 0.4668867\ttotal: 2.91s\tremaining: 6.52s\n",
      "309:\tlearn: 0.4668354\ttotal: 2.92s\tremaining: 6.5s\n",
      "310:\tlearn: 0.4667768\ttotal: 2.93s\tremaining: 6.49s\n",
      "311:\tlearn: 0.4667292\ttotal: 2.94s\tremaining: 6.48s\n",
      "312:\tlearn: 0.4667017\ttotal: 2.94s\tremaining: 6.46s\n",
      "313:\tlearn: 0.4666758\ttotal: 2.95s\tremaining: 6.45s\n",
      "314:\tlearn: 0.4666189\ttotal: 2.96s\tremaining: 6.43s\n",
      "315:\tlearn: 0.4665888\ttotal: 2.96s\tremaining: 6.42s\n",
      "316:\tlearn: 0.4665535\ttotal: 2.97s\tremaining: 6.4s\n",
      "317:\tlearn: 0.4664956\ttotal: 2.98s\tremaining: 6.39s\n",
      "318:\tlearn: 0.4664460\ttotal: 2.99s\tremaining: 6.38s\n",
      "319:\tlearn: 0.4664100\ttotal: 2.99s\tremaining: 6.36s\n",
      "320:\tlearn: 0.4663680\ttotal: 3s\tremaining: 6.35s\n",
      "321:\tlearn: 0.4663152\ttotal: 3.01s\tremaining: 6.34s\n",
      "322:\tlearn: 0.4662773\ttotal: 3.02s\tremaining: 6.32s\n",
      "323:\tlearn: 0.4662264\ttotal: 3.02s\tremaining: 6.31s\n",
      "324:\tlearn: 0.4661680\ttotal: 3.03s\tremaining: 6.3s\n",
      "325:\tlearn: 0.4660991\ttotal: 3.04s\tremaining: 6.29s\n",
      "326:\tlearn: 0.4660403\ttotal: 3.05s\tremaining: 6.27s\n",
      "327:\tlearn: 0.4659646\ttotal: 3.06s\tremaining: 6.26s\n",
      "328:\tlearn: 0.4659166\ttotal: 3.06s\tremaining: 6.25s\n",
      "329:\tlearn: 0.4658767\ttotal: 3.07s\tremaining: 6.23s\n",
      "330:\tlearn: 0.4658268\ttotal: 3.08s\tremaining: 6.22s\n",
      "331:\tlearn: 0.4658170\ttotal: 3.08s\tremaining: 6.21s\n",
      "332:\tlearn: 0.4657696\ttotal: 3.09s\tremaining: 6.19s\n",
      "333:\tlearn: 0.4657317\ttotal: 3.1s\tremaining: 6.18s\n",
      "334:\tlearn: 0.4657002\ttotal: 3.1s\tremaining: 6.16s\n",
      "335:\tlearn: 0.4656602\ttotal: 3.11s\tremaining: 6.15s\n",
      "336:\tlearn: 0.4656220\ttotal: 3.12s\tremaining: 6.14s\n",
      "337:\tlearn: 0.4655878\ttotal: 3.13s\tremaining: 6.12s\n",
      "338:\tlearn: 0.4655617\ttotal: 3.13s\tremaining: 6.11s\n",
      "339:\tlearn: 0.4655294\ttotal: 3.14s\tremaining: 6.1s\n",
      "340:\tlearn: 0.4654824\ttotal: 3.15s\tremaining: 6.08s\n",
      "341:\tlearn: 0.4654348\ttotal: 3.15s\tremaining: 6.07s\n",
      "342:\tlearn: 0.4653807\ttotal: 3.16s\tremaining: 6.06s\n",
      "343:\tlearn: 0.4653475\ttotal: 3.17s\tremaining: 6.04s\n",
      "344:\tlearn: 0.4653076\ttotal: 3.18s\tremaining: 6.03s\n",
      "345:\tlearn: 0.4652956\ttotal: 3.18s\tremaining: 6.02s\n",
      "346:\tlearn: 0.4652553\ttotal: 3.19s\tremaining: 6s\n"
     ]
    },
    {
     "name": "stdout",
     "output_type": "stream",
     "text": [
      "347:\tlearn: 0.4652202\ttotal: 3.2s\tremaining: 5.99s\n",
      "348:\tlearn: 0.4651819\ttotal: 3.21s\tremaining: 5.98s\n",
      "349:\tlearn: 0.4651326\ttotal: 3.21s\tremaining: 5.97s\n",
      "350:\tlearn: 0.4650989\ttotal: 3.22s\tremaining: 5.96s\n",
      "351:\tlearn: 0.4650495\ttotal: 3.23s\tremaining: 5.94s\n",
      "352:\tlearn: 0.4650251\ttotal: 3.23s\tremaining: 5.93s\n",
      "353:\tlearn: 0.4649690\ttotal: 3.24s\tremaining: 5.92s\n",
      "354:\tlearn: 0.4649131\ttotal: 3.25s\tremaining: 5.9s\n",
      "355:\tlearn: 0.4648823\ttotal: 3.26s\tremaining: 5.89s\n",
      "356:\tlearn: 0.4648716\ttotal: 3.26s\tremaining: 5.88s\n",
      "357:\tlearn: 0.4648518\ttotal: 3.27s\tremaining: 5.86s\n",
      "358:\tlearn: 0.4648332\ttotal: 3.28s\tremaining: 5.85s\n",
      "359:\tlearn: 0.4647843\ttotal: 3.28s\tremaining: 5.84s\n",
      "360:\tlearn: 0.4647407\ttotal: 3.29s\tremaining: 5.83s\n",
      "361:\tlearn: 0.4646983\ttotal: 3.3s\tremaining: 5.81s\n",
      "362:\tlearn: 0.4646670\ttotal: 3.31s\tremaining: 5.8s\n",
      "363:\tlearn: 0.4646312\ttotal: 3.31s\tremaining: 5.79s\n",
      "364:\tlearn: 0.4645957\ttotal: 3.32s\tremaining: 5.77s\n",
      "365:\tlearn: 0.4645109\ttotal: 3.33s\tremaining: 5.76s\n",
      "366:\tlearn: 0.4644581\ttotal: 3.33s\tremaining: 5.75s\n",
      "367:\tlearn: 0.4644340\ttotal: 3.34s\tremaining: 5.73s\n",
      "368:\tlearn: 0.4643933\ttotal: 3.35s\tremaining: 5.72s\n",
      "369:\tlearn: 0.4643825\ttotal: 3.35s\tremaining: 5.71s\n",
      "370:\tlearn: 0.4643379\ttotal: 3.36s\tremaining: 5.7s\n",
      "371:\tlearn: 0.4642837\ttotal: 3.37s\tremaining: 5.68s\n",
      "372:\tlearn: 0.4642560\ttotal: 3.37s\tremaining: 5.67s\n",
      "373:\tlearn: 0.4642350\ttotal: 3.38s\tremaining: 5.66s\n",
      "374:\tlearn: 0.4642098\ttotal: 3.39s\tremaining: 5.64s\n",
      "375:\tlearn: 0.4641806\ttotal: 3.39s\tremaining: 5.63s\n",
      "376:\tlearn: 0.4641620\ttotal: 3.4s\tremaining: 5.62s\n",
      "377:\tlearn: 0.4641255\ttotal: 3.41s\tremaining: 5.61s\n",
      "378:\tlearn: 0.4640659\ttotal: 3.41s\tremaining: 5.59s\n",
      "379:\tlearn: 0.4639881\ttotal: 3.42s\tremaining: 5.58s\n",
      "380:\tlearn: 0.4639531\ttotal: 3.43s\tremaining: 5.57s\n",
      "381:\tlearn: 0.4639280\ttotal: 3.44s\tremaining: 5.56s\n",
      "382:\tlearn: 0.4638813\ttotal: 3.44s\tremaining: 5.55s\n",
      "383:\tlearn: 0.4638520\ttotal: 3.45s\tremaining: 5.54s\n",
      "384:\tlearn: 0.4638245\ttotal: 3.46s\tremaining: 5.53s\n",
      "385:\tlearn: 0.4638066\ttotal: 3.46s\tremaining: 5.51s\n",
      "386:\tlearn: 0.4637809\ttotal: 3.47s\tremaining: 5.5s\n",
      "387:\tlearn: 0.4637145\ttotal: 3.48s\tremaining: 5.49s\n",
      "388:\tlearn: 0.4636676\ttotal: 3.49s\tremaining: 5.48s\n",
      "389:\tlearn: 0.4636353\ttotal: 3.49s\tremaining: 5.46s\n",
      "390:\tlearn: 0.4635838\ttotal: 3.5s\tremaining: 5.45s\n",
      "391:\tlearn: 0.4635449\ttotal: 3.51s\tremaining: 5.44s\n",
      "392:\tlearn: 0.4634776\ttotal: 3.52s\tremaining: 5.43s\n",
      "393:\tlearn: 0.4634488\ttotal: 3.52s\tremaining: 5.42s\n",
      "394:\tlearn: 0.4634215\ttotal: 3.53s\tremaining: 5.4s\n",
      "395:\tlearn: 0.4633780\ttotal: 3.54s\tremaining: 5.39s\n",
      "396:\tlearn: 0.4633440\ttotal: 3.54s\tremaining: 5.38s\n",
      "397:\tlearn: 0.4633252\ttotal: 3.55s\tremaining: 5.37s\n",
      "398:\tlearn: 0.4632547\ttotal: 3.56s\tremaining: 5.36s\n",
      "399:\tlearn: 0.4632342\ttotal: 3.56s\tremaining: 5.34s\n",
      "400:\tlearn: 0.4631687\ttotal: 3.57s\tremaining: 5.33s\n",
      "401:\tlearn: 0.4631402\ttotal: 3.58s\tremaining: 5.32s\n",
      "402:\tlearn: 0.4630894\ttotal: 3.58s\tremaining: 5.31s\n",
      "403:\tlearn: 0.4630548\ttotal: 3.59s\tremaining: 5.3s\n",
      "404:\tlearn: 0.4630238\ttotal: 3.6s\tremaining: 5.29s\n",
      "405:\tlearn: 0.4630034\ttotal: 3.61s\tremaining: 5.28s\n",
      "406:\tlearn: 0.4629762\ttotal: 3.62s\tremaining: 5.27s\n",
      "407:\tlearn: 0.4629211\ttotal: 3.62s\tremaining: 5.26s\n",
      "408:\tlearn: 0.4628764\ttotal: 3.63s\tremaining: 5.25s\n",
      "409:\tlearn: 0.4628163\ttotal: 3.64s\tremaining: 5.23s\n",
      "410:\tlearn: 0.4627751\ttotal: 3.64s\tremaining: 5.22s\n",
      "411:\tlearn: 0.4627149\ttotal: 3.65s\tremaining: 5.21s\n",
      "412:\tlearn: 0.4626491\ttotal: 3.66s\tremaining: 5.2s\n",
      "413:\tlearn: 0.4626125\ttotal: 3.67s\tremaining: 5.19s\n",
      "414:\tlearn: 0.4625814\ttotal: 3.67s\tremaining: 5.18s\n",
      "415:\tlearn: 0.4625576\ttotal: 3.68s\tremaining: 5.17s\n",
      "416:\tlearn: 0.4624978\ttotal: 3.69s\tremaining: 5.15s\n",
      "417:\tlearn: 0.4624676\ttotal: 3.69s\tremaining: 5.14s\n",
      "418:\tlearn: 0.4624150\ttotal: 3.7s\tremaining: 5.13s\n",
      "419:\tlearn: 0.4623804\ttotal: 3.71s\tremaining: 5.12s\n",
      "420:\tlearn: 0.4623477\ttotal: 3.71s\tremaining: 5.11s\n",
      "421:\tlearn: 0.4623074\ttotal: 3.72s\tremaining: 5.1s\n",
      "422:\tlearn: 0.4622726\ttotal: 3.73s\tremaining: 5.08s\n",
      "423:\tlearn: 0.4622264\ttotal: 3.73s\tremaining: 5.07s\n",
      "424:\tlearn: 0.4621866\ttotal: 3.74s\tremaining: 5.06s\n",
      "425:\tlearn: 0.4621322\ttotal: 3.75s\tremaining: 5.05s\n",
      "426:\tlearn: 0.4621039\ttotal: 3.75s\tremaining: 5.04s\n",
      "427:\tlearn: 0.4620112\ttotal: 3.76s\tremaining: 5.03s\n",
      "428:\tlearn: 0.4619728\ttotal: 3.77s\tremaining: 5.02s\n",
      "429:\tlearn: 0.4619173\ttotal: 3.78s\tremaining: 5.01s\n",
      "430:\tlearn: 0.4618908\ttotal: 3.78s\tremaining: 5s\n",
      "431:\tlearn: 0.4618392\ttotal: 3.79s\tremaining: 4.99s\n",
      "432:\tlearn: 0.4618185\ttotal: 3.8s\tremaining: 4.98s\n",
      "433:\tlearn: 0.4618049\ttotal: 3.81s\tremaining: 4.97s\n",
      "434:\tlearn: 0.4617562\ttotal: 3.81s\tremaining: 4.96s\n",
      "435:\tlearn: 0.4617206\ttotal: 3.82s\tremaining: 4.95s\n",
      "436:\tlearn: 0.4616921\ttotal: 3.83s\tremaining: 4.93s\n",
      "437:\tlearn: 0.4616410\ttotal: 3.84s\tremaining: 4.92s\n",
      "438:\tlearn: 0.4616286\ttotal: 3.84s\tremaining: 4.91s\n",
      "439:\tlearn: 0.4615880\ttotal: 3.85s\tremaining: 4.9s\n",
      "440:\tlearn: 0.4615637\ttotal: 3.85s\tremaining: 4.89s\n",
      "441:\tlearn: 0.4615478\ttotal: 3.86s\tremaining: 4.88s\n",
      "442:\tlearn: 0.4615005\ttotal: 3.87s\tremaining: 4.87s\n",
      "443:\tlearn: 0.4614580\ttotal: 3.88s\tremaining: 4.85s\n",
      "444:\tlearn: 0.4614339\ttotal: 3.88s\tremaining: 4.84s\n",
      "445:\tlearn: 0.4614035\ttotal: 3.89s\tremaining: 4.83s\n",
      "446:\tlearn: 0.4613658\ttotal: 3.9s\tremaining: 4.82s\n",
      "447:\tlearn: 0.4613138\ttotal: 3.9s\tremaining: 4.81s\n",
      "448:\tlearn: 0.4612893\ttotal: 3.91s\tremaining: 4.8s\n",
      "449:\tlearn: 0.4612309\ttotal: 3.92s\tremaining: 4.79s\n",
      "450:\tlearn: 0.4611952\ttotal: 3.92s\tremaining: 4.78s\n",
      "451:\tlearn: 0.4611556\ttotal: 3.93s\tremaining: 4.77s\n",
      "452:\tlearn: 0.4611270\ttotal: 3.94s\tremaining: 4.76s\n",
      "453:\tlearn: 0.4610712\ttotal: 3.95s\tremaining: 4.75s\n",
      "454:\tlearn: 0.4610579\ttotal: 3.96s\tremaining: 4.74s\n",
      "455:\tlearn: 0.4610215\ttotal: 3.96s\tremaining: 4.73s\n",
      "456:\tlearn: 0.4609874\ttotal: 3.97s\tremaining: 4.72s\n",
      "457:\tlearn: 0.4609471\ttotal: 3.98s\tremaining: 4.71s\n",
      "458:\tlearn: 0.4609254\ttotal: 3.98s\tremaining: 4.7s\n",
      "459:\tlearn: 0.4608710\ttotal: 3.99s\tremaining: 4.69s\n",
      "460:\tlearn: 0.4608490\ttotal: 4s\tremaining: 4.68s\n",
      "461:\tlearn: 0.4607667\ttotal: 4.01s\tremaining: 4.67s\n",
      "462:\tlearn: 0.4607195\ttotal: 4.02s\tremaining: 4.66s\n",
      "463:\tlearn: 0.4607083\ttotal: 4.02s\tremaining: 4.65s\n",
      "464:\tlearn: 0.4606786\ttotal: 4.03s\tremaining: 4.64s\n",
      "465:\tlearn: 0.4606532\ttotal: 4.04s\tremaining: 4.63s\n",
      "466:\tlearn: 0.4606363\ttotal: 4.05s\tremaining: 4.62s\n",
      "467:\tlearn: 0.4606226\ttotal: 4.05s\tremaining: 4.61s\n",
      "468:\tlearn: 0.4605693\ttotal: 4.06s\tremaining: 4.6s\n",
      "469:\tlearn: 0.4605105\ttotal: 4.07s\tremaining: 4.58s\n",
      "470:\tlearn: 0.4604510\ttotal: 4.07s\tremaining: 4.58s\n",
      "471:\tlearn: 0.4604248\ttotal: 4.08s\tremaining: 4.56s\n",
      "472:\tlearn: 0.4604013\ttotal: 4.09s\tremaining: 4.55s\n",
      "473:\tlearn: 0.4603612\ttotal: 4.09s\tremaining: 4.54s\n",
      "474:\tlearn: 0.4603144\ttotal: 4.1s\tremaining: 4.53s\n",
      "475:\tlearn: 0.4602893\ttotal: 4.11s\tremaining: 4.52s\n",
      "476:\tlearn: 0.4602661\ttotal: 4.12s\tremaining: 4.51s\n",
      "477:\tlearn: 0.4602515\ttotal: 4.12s\tremaining: 4.5s\n",
      "478:\tlearn: 0.4602224\ttotal: 4.13s\tremaining: 4.49s\n",
      "479:\tlearn: 0.4601857\ttotal: 4.14s\tremaining: 4.48s\n",
      "480:\tlearn: 0.4601575\ttotal: 4.14s\tremaining: 4.47s\n",
      "481:\tlearn: 0.4601197\ttotal: 4.15s\tremaining: 4.46s\n",
      "482:\tlearn: 0.4600920\ttotal: 4.16s\tremaining: 4.45s\n",
      "483:\tlearn: 0.4600550\ttotal: 4.17s\tremaining: 4.44s\n",
      "484:\tlearn: 0.4600455\ttotal: 4.17s\tremaining: 4.43s\n",
      "485:\tlearn: 0.4600105\ttotal: 4.18s\tremaining: 4.42s\n",
      "486:\tlearn: 0.4599738\ttotal: 4.19s\tremaining: 4.42s\n",
      "487:\tlearn: 0.4599308\ttotal: 4.2s\tremaining: 4.41s\n",
      "488:\tlearn: 0.4599033\ttotal: 4.21s\tremaining: 4.4s\n",
      "489:\tlearn: 0.4598849\ttotal: 4.21s\tremaining: 4.39s\n",
      "490:\tlearn: 0.4598364\ttotal: 4.22s\tremaining: 4.38s\n",
      "491:\tlearn: 0.4598015\ttotal: 4.23s\tremaining: 4.37s\n",
      "492:\tlearn: 0.4597800\ttotal: 4.24s\tremaining: 4.36s\n",
      "493:\tlearn: 0.4597684\ttotal: 4.24s\tremaining: 4.35s\n",
      "494:\tlearn: 0.4597204\ttotal: 4.25s\tremaining: 4.33s\n",
      "495:\tlearn: 0.4597135\ttotal: 4.26s\tremaining: 4.32s\n",
      "496:\tlearn: 0.4596838\ttotal: 4.26s\tremaining: 4.31s\n",
      "497:\tlearn: 0.4596007\ttotal: 4.27s\tremaining: 4.3s\n",
      "498:\tlearn: 0.4595597\ttotal: 4.28s\tremaining: 4.29s\n",
      "499:\tlearn: 0.4595207\ttotal: 4.28s\tremaining: 4.28s\n",
      "500:\tlearn: 0.4594879\ttotal: 4.29s\tremaining: 4.27s\n",
      "501:\tlearn: 0.4594471\ttotal: 4.3s\tremaining: 4.26s\n",
      "502:\tlearn: 0.4594117\ttotal: 4.3s\tremaining: 4.25s\n",
      "503:\tlearn: 0.4593826\ttotal: 4.31s\tremaining: 4.24s\n",
      "504:\tlearn: 0.4593391\ttotal: 4.32s\tremaining: 4.23s\n",
      "505:\tlearn: 0.4593138\ttotal: 4.33s\tremaining: 4.22s\n",
      "506:\tlearn: 0.4592737\ttotal: 4.33s\tremaining: 4.21s\n",
      "507:\tlearn: 0.4592403\ttotal: 4.34s\tremaining: 4.2s\n",
      "508:\tlearn: 0.4591733\ttotal: 4.35s\tremaining: 4.19s\n",
      "509:\tlearn: 0.4591636\ttotal: 4.35s\tremaining: 4.18s\n",
      "510:\tlearn: 0.4591439\ttotal: 4.36s\tremaining: 4.17s\n",
      "511:\tlearn: 0.4591065\ttotal: 4.37s\tremaining: 4.16s\n",
      "512:\tlearn: 0.4590702\ttotal: 4.37s\tremaining: 4.15s\n",
      "513:\tlearn: 0.4590294\ttotal: 4.38s\tremaining: 4.14s\n"
     ]
    },
    {
     "name": "stdout",
     "output_type": "stream",
     "text": [
      "514:\tlearn: 0.4590021\ttotal: 4.39s\tremaining: 4.13s\n",
      "515:\tlearn: 0.4589585\ttotal: 4.4s\tremaining: 4.12s\n",
      "516:\tlearn: 0.4589346\ttotal: 4.4s\tremaining: 4.12s\n",
      "517:\tlearn: 0.4589065\ttotal: 4.41s\tremaining: 4.11s\n",
      "518:\tlearn: 0.4588759\ttotal: 4.42s\tremaining: 4.09s\n",
      "519:\tlearn: 0.4588442\ttotal: 4.43s\tremaining: 4.09s\n",
      "520:\tlearn: 0.4588204\ttotal: 4.43s\tremaining: 4.08s\n",
      "521:\tlearn: 0.4587743\ttotal: 4.44s\tremaining: 4.07s\n",
      "522:\tlearn: 0.4587556\ttotal: 4.45s\tremaining: 4.06s\n",
      "523:\tlearn: 0.4587237\ttotal: 4.45s\tremaining: 4.05s\n",
      "524:\tlearn: 0.4587052\ttotal: 4.46s\tremaining: 4.04s\n",
      "525:\tlearn: 0.4586946\ttotal: 4.47s\tremaining: 4.03s\n",
      "526:\tlearn: 0.4586836\ttotal: 4.47s\tremaining: 4.01s\n",
      "527:\tlearn: 0.4586727\ttotal: 4.48s\tremaining: 4s\n",
      "528:\tlearn: 0.4586468\ttotal: 4.49s\tremaining: 4s\n",
      "529:\tlearn: 0.4586343\ttotal: 4.49s\tremaining: 3.98s\n",
      "530:\tlearn: 0.4586165\ttotal: 4.5s\tremaining: 3.98s\n",
      "531:\tlearn: 0.4586030\ttotal: 4.51s\tremaining: 3.96s\n",
      "532:\tlearn: 0.4585774\ttotal: 4.51s\tremaining: 3.96s\n",
      "533:\tlearn: 0.4585541\ttotal: 4.52s\tremaining: 3.94s\n",
      "534:\tlearn: 0.4585172\ttotal: 4.53s\tremaining: 3.93s\n",
      "535:\tlearn: 0.4584620\ttotal: 4.53s\tremaining: 3.92s\n",
      "536:\tlearn: 0.4584370\ttotal: 4.54s\tremaining: 3.92s\n",
      "537:\tlearn: 0.4584088\ttotal: 4.55s\tremaining: 3.9s\n",
      "538:\tlearn: 0.4583755\ttotal: 4.55s\tremaining: 3.9s\n",
      "539:\tlearn: 0.4583577\ttotal: 4.56s\tremaining: 3.89s\n",
      "540:\tlearn: 0.4583337\ttotal: 4.57s\tremaining: 3.88s\n",
      "541:\tlearn: 0.4582767\ttotal: 4.58s\tremaining: 3.87s\n",
      "542:\tlearn: 0.4582271\ttotal: 4.58s\tremaining: 3.86s\n",
      "543:\tlearn: 0.4582087\ttotal: 4.59s\tremaining: 3.85s\n",
      "544:\tlearn: 0.4581681\ttotal: 4.6s\tremaining: 3.84s\n",
      "545:\tlearn: 0.4581415\ttotal: 4.61s\tremaining: 3.83s\n",
      "546:\tlearn: 0.4581185\ttotal: 4.61s\tremaining: 3.82s\n",
      "547:\tlearn: 0.4581040\ttotal: 4.62s\tremaining: 3.81s\n",
      "548:\tlearn: 0.4580881\ttotal: 4.63s\tremaining: 3.8s\n",
      "549:\tlearn: 0.4580760\ttotal: 4.63s\tremaining: 3.79s\n",
      "550:\tlearn: 0.4580448\ttotal: 4.64s\tremaining: 3.78s\n",
      "551:\tlearn: 0.4580015\ttotal: 4.65s\tremaining: 3.77s\n",
      "552:\tlearn: 0.4579923\ttotal: 4.66s\tremaining: 3.76s\n",
      "553:\tlearn: 0.4579568\ttotal: 4.67s\tremaining: 3.75s\n",
      "554:\tlearn: 0.4579158\ttotal: 4.67s\tremaining: 3.75s\n",
      "555:\tlearn: 0.4578915\ttotal: 4.68s\tremaining: 3.74s\n",
      "556:\tlearn: 0.4578394\ttotal: 4.69s\tremaining: 3.73s\n",
      "557:\tlearn: 0.4578025\ttotal: 4.69s\tremaining: 3.72s\n",
      "558:\tlearn: 0.4577835\ttotal: 4.7s\tremaining: 3.71s\n",
      "559:\tlearn: 0.4577575\ttotal: 4.71s\tremaining: 3.7s\n",
      "560:\tlearn: 0.4577362\ttotal: 4.71s\tremaining: 3.69s\n",
      "561:\tlearn: 0.4577147\ttotal: 4.72s\tremaining: 3.68s\n",
      "562:\tlearn: 0.4576858\ttotal: 4.73s\tremaining: 3.67s\n",
      "563:\tlearn: 0.4576576\ttotal: 4.74s\tremaining: 3.66s\n",
      "564:\tlearn: 0.4576484\ttotal: 4.74s\tremaining: 3.65s\n",
      "565:\tlearn: 0.4576179\ttotal: 4.75s\tremaining: 3.64s\n",
      "566:\tlearn: 0.4575916\ttotal: 4.76s\tremaining: 3.63s\n",
      "567:\tlearn: 0.4575754\ttotal: 4.76s\tremaining: 3.62s\n",
      "568:\tlearn: 0.4575547\ttotal: 4.77s\tremaining: 3.61s\n",
      "569:\tlearn: 0.4575060\ttotal: 4.78s\tremaining: 3.6s\n",
      "570:\tlearn: 0.4575031\ttotal: 4.78s\tremaining: 3.59s\n",
      "571:\tlearn: 0.4574803\ttotal: 4.79s\tremaining: 3.58s\n",
      "572:\tlearn: 0.4574450\ttotal: 4.8s\tremaining: 3.58s\n",
      "573:\tlearn: 0.4574332\ttotal: 4.8s\tremaining: 3.57s\n",
      "574:\tlearn: 0.4574167\ttotal: 4.81s\tremaining: 3.56s\n",
      "575:\tlearn: 0.4573864\ttotal: 4.82s\tremaining: 3.55s\n",
      "576:\tlearn: 0.4573202\ttotal: 4.83s\tremaining: 3.54s\n",
      "577:\tlearn: 0.4573162\ttotal: 4.83s\tremaining: 3.53s\n",
      "578:\tlearn: 0.4572946\ttotal: 4.84s\tremaining: 3.52s\n",
      "579:\tlearn: 0.4572729\ttotal: 4.85s\tremaining: 3.51s\n",
      "580:\tlearn: 0.4572563\ttotal: 4.86s\tremaining: 3.5s\n",
      "581:\tlearn: 0.4572456\ttotal: 4.86s\tremaining: 3.49s\n",
      "582:\tlearn: 0.4572254\ttotal: 4.87s\tremaining: 3.48s\n",
      "583:\tlearn: 0.4572021\ttotal: 4.88s\tremaining: 3.47s\n",
      "584:\tlearn: 0.4571887\ttotal: 4.88s\tremaining: 3.46s\n",
      "585:\tlearn: 0.4571688\ttotal: 4.89s\tremaining: 3.46s\n",
      "586:\tlearn: 0.4571299\ttotal: 4.9s\tremaining: 3.45s\n",
      "587:\tlearn: 0.4571007\ttotal: 4.91s\tremaining: 3.44s\n",
      "588:\tlearn: 0.4570785\ttotal: 4.91s\tremaining: 3.43s\n",
      "589:\tlearn: 0.4570533\ttotal: 4.92s\tremaining: 3.42s\n",
      "590:\tlearn: 0.4570357\ttotal: 4.92s\tremaining: 3.41s\n",
      "591:\tlearn: 0.4569884\ttotal: 4.93s\tremaining: 3.4s\n",
      "592:\tlearn: 0.4569505\ttotal: 4.94s\tremaining: 3.39s\n",
      "593:\tlearn: 0.4569202\ttotal: 4.95s\tremaining: 3.38s\n",
      "594:\tlearn: 0.4569077\ttotal: 4.96s\tremaining: 3.37s\n",
      "595:\tlearn: 0.4568720\ttotal: 4.96s\tremaining: 3.36s\n",
      "596:\tlearn: 0.4568467\ttotal: 4.97s\tremaining: 3.35s\n",
      "597:\tlearn: 0.4568039\ttotal: 4.98s\tremaining: 3.35s\n",
      "598:\tlearn: 0.4567811\ttotal: 4.99s\tremaining: 3.34s\n",
      "599:\tlearn: 0.4567399\ttotal: 4.99s\tremaining: 3.33s\n",
      "600:\tlearn: 0.4567063\ttotal: 5s\tremaining: 3.32s\n",
      "601:\tlearn: 0.4566926\ttotal: 5.01s\tremaining: 3.31s\n",
      "602:\tlearn: 0.4566492\ttotal: 5.02s\tremaining: 3.3s\n",
      "603:\tlearn: 0.4566241\ttotal: 5.02s\tremaining: 3.29s\n",
      "604:\tlearn: 0.4566151\ttotal: 5.03s\tremaining: 3.28s\n",
      "605:\tlearn: 0.4565829\ttotal: 5.04s\tremaining: 3.27s\n",
      "606:\tlearn: 0.4565375\ttotal: 5.04s\tremaining: 3.27s\n",
      "607:\tlearn: 0.4564812\ttotal: 5.05s\tremaining: 3.26s\n",
      "608:\tlearn: 0.4564596\ttotal: 5.06s\tremaining: 3.25s\n",
      "609:\tlearn: 0.4564321\ttotal: 5.07s\tremaining: 3.24s\n",
      "610:\tlearn: 0.4563822\ttotal: 5.07s\tremaining: 3.23s\n",
      "611:\tlearn: 0.4563382\ttotal: 5.08s\tremaining: 3.22s\n",
      "612:\tlearn: 0.4563293\ttotal: 5.09s\tremaining: 3.21s\n",
      "613:\tlearn: 0.4563053\ttotal: 5.09s\tremaining: 3.2s\n",
      "614:\tlearn: 0.4562823\ttotal: 5.1s\tremaining: 3.19s\n",
      "615:\tlearn: 0.4562675\ttotal: 5.11s\tremaining: 3.19s\n",
      "616:\tlearn: 0.4562481\ttotal: 5.12s\tremaining: 3.18s\n",
      "617:\tlearn: 0.4562246\ttotal: 5.12s\tremaining: 3.17s\n",
      "618:\tlearn: 0.4562038\ttotal: 5.13s\tremaining: 3.16s\n",
      "619:\tlearn: 0.4561570\ttotal: 5.14s\tremaining: 3.15s\n",
      "620:\tlearn: 0.4561363\ttotal: 5.14s\tremaining: 3.14s\n",
      "621:\tlearn: 0.4561190\ttotal: 5.15s\tremaining: 3.13s\n",
      "622:\tlearn: 0.4560881\ttotal: 5.16s\tremaining: 3.12s\n",
      "623:\tlearn: 0.4560618\ttotal: 5.17s\tremaining: 3.11s\n",
      "624:\tlearn: 0.4560339\ttotal: 5.17s\tremaining: 3.1s\n",
      "625:\tlearn: 0.4560274\ttotal: 5.18s\tremaining: 3.1s\n",
      "626:\tlearn: 0.4560086\ttotal: 5.19s\tremaining: 3.09s\n",
      "627:\tlearn: 0.4560009\ttotal: 5.2s\tremaining: 3.08s\n",
      "628:\tlearn: 0.4559841\ttotal: 5.2s\tremaining: 3.07s\n",
      "629:\tlearn: 0.4559552\ttotal: 5.21s\tremaining: 3.06s\n",
      "630:\tlearn: 0.4559236\ttotal: 5.22s\tremaining: 3.05s\n",
      "631:\tlearn: 0.4558841\ttotal: 5.23s\tremaining: 3.04s\n",
      "632:\tlearn: 0.4558694\ttotal: 5.23s\tremaining: 3.03s\n",
      "633:\tlearn: 0.4558566\ttotal: 5.24s\tremaining: 3.02s\n",
      "634:\tlearn: 0.4558456\ttotal: 5.25s\tremaining: 3.02s\n",
      "635:\tlearn: 0.4558024\ttotal: 5.25s\tremaining: 3.01s\n",
      "636:\tlearn: 0.4557938\ttotal: 5.26s\tremaining: 3s\n",
      "637:\tlearn: 0.4557539\ttotal: 5.27s\tremaining: 2.99s\n",
      "638:\tlearn: 0.4556926\ttotal: 5.28s\tremaining: 2.98s\n",
      "639:\tlearn: 0.4556609\ttotal: 5.29s\tremaining: 2.97s\n",
      "640:\tlearn: 0.4556032\ttotal: 5.29s\tremaining: 2.96s\n",
      "641:\tlearn: 0.4555722\ttotal: 5.3s\tremaining: 2.96s\n",
      "642:\tlearn: 0.4555459\ttotal: 5.31s\tremaining: 2.95s\n",
      "643:\tlearn: 0.4555393\ttotal: 5.31s\tremaining: 2.94s\n",
      "644:\tlearn: 0.4555170\ttotal: 5.32s\tremaining: 2.93s\n",
      "645:\tlearn: 0.4554791\ttotal: 5.33s\tremaining: 2.92s\n",
      "646:\tlearn: 0.4554383\ttotal: 5.33s\tremaining: 2.91s\n",
      "647:\tlearn: 0.4554130\ttotal: 5.34s\tremaining: 2.9s\n",
      "648:\tlearn: 0.4553907\ttotal: 5.35s\tremaining: 2.89s\n",
      "649:\tlearn: 0.4553289\ttotal: 5.36s\tremaining: 2.88s\n",
      "650:\tlearn: 0.4552789\ttotal: 5.36s\tremaining: 2.87s\n",
      "651:\tlearn: 0.4552496\ttotal: 5.37s\tremaining: 2.87s\n",
      "652:\tlearn: 0.4552190\ttotal: 5.38s\tremaining: 2.86s\n",
      "653:\tlearn: 0.4551987\ttotal: 5.38s\tremaining: 2.85s\n",
      "654:\tlearn: 0.4551698\ttotal: 5.39s\tremaining: 2.84s\n",
      "655:\tlearn: 0.4551538\ttotal: 5.4s\tremaining: 2.83s\n",
      "656:\tlearn: 0.4551410\ttotal: 5.41s\tremaining: 2.82s\n",
      "657:\tlearn: 0.4551212\ttotal: 5.41s\tremaining: 2.81s\n",
      "658:\tlearn: 0.4551028\ttotal: 5.42s\tremaining: 2.8s\n",
      "659:\tlearn: 0.4550749\ttotal: 5.43s\tremaining: 2.8s\n",
      "660:\tlearn: 0.4550414\ttotal: 5.43s\tremaining: 2.79s\n",
      "661:\tlearn: 0.4550322\ttotal: 5.44s\tremaining: 2.78s\n",
      "662:\tlearn: 0.4550066\ttotal: 5.45s\tremaining: 2.77s\n",
      "663:\tlearn: 0.4550001\ttotal: 5.46s\tremaining: 2.76s\n",
      "664:\tlearn: 0.4549790\ttotal: 5.46s\tremaining: 2.75s\n",
      "665:\tlearn: 0.4549491\ttotal: 5.47s\tremaining: 2.74s\n",
      "666:\tlearn: 0.4549181\ttotal: 5.48s\tremaining: 2.73s\n",
      "667:\tlearn: 0.4549076\ttotal: 5.49s\tremaining: 2.73s\n",
      "668:\tlearn: 0.4548791\ttotal: 5.49s\tremaining: 2.72s\n",
      "669:\tlearn: 0.4548627\ttotal: 5.5s\tremaining: 2.71s\n",
      "670:\tlearn: 0.4548468\ttotal: 5.51s\tremaining: 2.7s\n",
      "671:\tlearn: 0.4547962\ttotal: 5.51s\tremaining: 2.69s\n",
      "672:\tlearn: 0.4547798\ttotal: 5.52s\tremaining: 2.68s\n",
      "673:\tlearn: 0.4547491\ttotal: 5.53s\tremaining: 2.67s\n",
      "674:\tlearn: 0.4547317\ttotal: 5.54s\tremaining: 2.67s\n",
      "675:\tlearn: 0.4547065\ttotal: 5.54s\tremaining: 2.66s\n",
      "676:\tlearn: 0.4546858\ttotal: 5.55s\tremaining: 2.65s\n",
      "677:\tlearn: 0.4546794\ttotal: 5.56s\tremaining: 2.64s\n",
      "678:\tlearn: 0.4546513\ttotal: 5.56s\tremaining: 2.63s\n",
      "679:\tlearn: 0.4545912\ttotal: 5.57s\tremaining: 2.62s\n",
      "680:\tlearn: 0.4545820\ttotal: 5.58s\tremaining: 2.61s\n",
      "681:\tlearn: 0.4545688\ttotal: 5.58s\tremaining: 2.6s\n"
     ]
    },
    {
     "name": "stdout",
     "output_type": "stream",
     "text": [
      "682:\tlearn: 0.4545290\ttotal: 5.59s\tremaining: 2.6s\n",
      "683:\tlearn: 0.4544808\ttotal: 5.6s\tremaining: 2.59s\n",
      "684:\tlearn: 0.4544538\ttotal: 5.61s\tremaining: 2.58s\n",
      "685:\tlearn: 0.4544261\ttotal: 5.61s\tremaining: 2.57s\n",
      "686:\tlearn: 0.4544017\ttotal: 5.62s\tremaining: 2.56s\n",
      "687:\tlearn: 0.4543811\ttotal: 5.63s\tremaining: 2.55s\n",
      "688:\tlearn: 0.4543761\ttotal: 5.64s\tremaining: 2.54s\n",
      "689:\tlearn: 0.4543593\ttotal: 5.64s\tremaining: 2.53s\n",
      "690:\tlearn: 0.4543239\ttotal: 5.65s\tremaining: 2.53s\n",
      "691:\tlearn: 0.4543047\ttotal: 5.66s\tremaining: 2.52s\n",
      "692:\tlearn: 0.4542773\ttotal: 5.66s\tremaining: 2.51s\n",
      "693:\tlearn: 0.4542346\ttotal: 5.67s\tremaining: 2.5s\n",
      "694:\tlearn: 0.4542048\ttotal: 5.68s\tremaining: 2.49s\n",
      "695:\tlearn: 0.4541417\ttotal: 5.68s\tremaining: 2.48s\n",
      "696:\tlearn: 0.4541249\ttotal: 5.69s\tremaining: 2.47s\n",
      "697:\tlearn: 0.4540928\ttotal: 5.7s\tremaining: 2.46s\n",
      "698:\tlearn: 0.4540725\ttotal: 5.71s\tremaining: 2.46s\n",
      "699:\tlearn: 0.4540609\ttotal: 5.71s\tremaining: 2.45s\n",
      "700:\tlearn: 0.4540551\ttotal: 5.72s\tremaining: 2.44s\n",
      "701:\tlearn: 0.4540484\ttotal: 5.73s\tremaining: 2.43s\n",
      "702:\tlearn: 0.4540124\ttotal: 5.73s\tremaining: 2.42s\n",
      "703:\tlearn: 0.4539854\ttotal: 5.74s\tremaining: 2.41s\n",
      "704:\tlearn: 0.4539499\ttotal: 5.75s\tremaining: 2.4s\n",
      "705:\tlearn: 0.4539356\ttotal: 5.75s\tremaining: 2.4s\n",
      "706:\tlearn: 0.4539280\ttotal: 5.76s\tremaining: 2.39s\n",
      "707:\tlearn: 0.4539168\ttotal: 5.77s\tremaining: 2.38s\n",
      "708:\tlearn: 0.4538695\ttotal: 5.78s\tremaining: 2.37s\n",
      "709:\tlearn: 0.4538411\ttotal: 5.78s\tremaining: 2.36s\n",
      "710:\tlearn: 0.4538175\ttotal: 5.79s\tremaining: 2.35s\n",
      "711:\tlearn: 0.4537780\ttotal: 5.8s\tremaining: 2.35s\n",
      "712:\tlearn: 0.4537598\ttotal: 5.81s\tremaining: 2.34s\n",
      "713:\tlearn: 0.4537490\ttotal: 5.82s\tremaining: 2.33s\n",
      "714:\tlearn: 0.4537022\ttotal: 5.82s\tremaining: 2.32s\n",
      "715:\tlearn: 0.4536953\ttotal: 5.83s\tremaining: 2.31s\n",
      "716:\tlearn: 0.4536862\ttotal: 5.83s\tremaining: 2.3s\n",
      "717:\tlearn: 0.4536515\ttotal: 5.84s\tremaining: 2.29s\n",
      "718:\tlearn: 0.4536401\ttotal: 5.85s\tremaining: 2.29s\n",
      "719:\tlearn: 0.4535977\ttotal: 5.86s\tremaining: 2.28s\n",
      "720:\tlearn: 0.4535688\ttotal: 5.86s\tremaining: 2.27s\n",
      "721:\tlearn: 0.4535552\ttotal: 5.87s\tremaining: 2.26s\n",
      "722:\tlearn: 0.4535255\ttotal: 5.88s\tremaining: 2.25s\n",
      "723:\tlearn: 0.4535091\ttotal: 5.88s\tremaining: 2.24s\n",
      "724:\tlearn: 0.4534533\ttotal: 5.89s\tremaining: 2.23s\n",
      "725:\tlearn: 0.4534272\ttotal: 5.9s\tremaining: 2.23s\n",
      "726:\tlearn: 0.4534106\ttotal: 5.91s\tremaining: 2.22s\n",
      "727:\tlearn: 0.4533811\ttotal: 5.91s\tremaining: 2.21s\n",
      "728:\tlearn: 0.4533651\ttotal: 5.92s\tremaining: 2.2s\n",
      "729:\tlearn: 0.4533576\ttotal: 5.93s\tremaining: 2.19s\n",
      "730:\tlearn: 0.4533479\ttotal: 5.93s\tremaining: 2.18s\n",
      "731:\tlearn: 0.4533357\ttotal: 5.94s\tremaining: 2.17s\n",
      "732:\tlearn: 0.4533154\ttotal: 5.95s\tremaining: 2.17s\n",
      "733:\tlearn: 0.4532952\ttotal: 5.96s\tremaining: 2.16s\n",
      "734:\tlearn: 0.4532807\ttotal: 5.96s\tremaining: 2.15s\n",
      "735:\tlearn: 0.4532680\ttotal: 5.97s\tremaining: 2.14s\n",
      "736:\tlearn: 0.4532574\ttotal: 5.97s\tremaining: 2.13s\n",
      "737:\tlearn: 0.4532429\ttotal: 5.98s\tremaining: 2.12s\n",
      "738:\tlearn: 0.4531985\ttotal: 5.99s\tremaining: 2.12s\n",
      "739:\tlearn: 0.4531696\ttotal: 6s\tremaining: 2.11s\n",
      "740:\tlearn: 0.4531423\ttotal: 6s\tremaining: 2.1s\n",
      "741:\tlearn: 0.4531259\ttotal: 6.01s\tremaining: 2.09s\n",
      "742:\tlearn: 0.4531145\ttotal: 6.02s\tremaining: 2.08s\n",
      "743:\tlearn: 0.4530997\ttotal: 6.03s\tremaining: 2.07s\n",
      "744:\tlearn: 0.4530791\ttotal: 6.03s\tremaining: 2.06s\n",
      "745:\tlearn: 0.4530606\ttotal: 6.04s\tremaining: 2.06s\n",
      "746:\tlearn: 0.4530360\ttotal: 6.05s\tremaining: 2.05s\n",
      "747:\tlearn: 0.4530170\ttotal: 6.05s\tremaining: 2.04s\n",
      "748:\tlearn: 0.4529924\ttotal: 6.06s\tremaining: 2.03s\n",
      "749:\tlearn: 0.4529747\ttotal: 6.07s\tremaining: 2.02s\n",
      "750:\tlearn: 0.4529361\ttotal: 6.07s\tremaining: 2.01s\n",
      "751:\tlearn: 0.4528974\ttotal: 6.08s\tremaining: 2s\n",
      "752:\tlearn: 0.4528640\ttotal: 6.09s\tremaining: 2s\n",
      "753:\tlearn: 0.4528478\ttotal: 6.09s\tremaining: 1.99s\n",
      "754:\tlearn: 0.4528068\ttotal: 6.1s\tremaining: 1.98s\n",
      "755:\tlearn: 0.4527882\ttotal: 6.11s\tremaining: 1.97s\n",
      "756:\tlearn: 0.4527767\ttotal: 6.12s\tremaining: 1.96s\n",
      "757:\tlearn: 0.4527146\ttotal: 6.12s\tremaining: 1.96s\n",
      "758:\tlearn: 0.4527039\ttotal: 6.13s\tremaining: 1.95s\n",
      "759:\tlearn: 0.4526685\ttotal: 6.14s\tremaining: 1.94s\n",
      "760:\tlearn: 0.4526449\ttotal: 6.14s\tremaining: 1.93s\n",
      "761:\tlearn: 0.4526319\ttotal: 6.15s\tremaining: 1.92s\n",
      "762:\tlearn: 0.4525982\ttotal: 6.16s\tremaining: 1.91s\n",
      "763:\tlearn: 0.4525644\ttotal: 6.17s\tremaining: 1.9s\n",
      "764:\tlearn: 0.4525534\ttotal: 6.17s\tremaining: 1.9s\n",
      "765:\tlearn: 0.4525293\ttotal: 6.18s\tremaining: 1.89s\n",
      "766:\tlearn: 0.4525052\ttotal: 6.19s\tremaining: 1.88s\n",
      "767:\tlearn: 0.4524818\ttotal: 6.2s\tremaining: 1.87s\n",
      "768:\tlearn: 0.4524716\ttotal: 6.2s\tremaining: 1.86s\n",
      "769:\tlearn: 0.4524637\ttotal: 6.21s\tremaining: 1.85s\n",
      "770:\tlearn: 0.4524275\ttotal: 6.22s\tremaining: 1.85s\n",
      "771:\tlearn: 0.4524024\ttotal: 6.23s\tremaining: 1.84s\n",
      "772:\tlearn: 0.4523827\ttotal: 6.23s\tremaining: 1.83s\n",
      "773:\tlearn: 0.4523703\ttotal: 6.24s\tremaining: 1.82s\n",
      "774:\tlearn: 0.4523568\ttotal: 6.25s\tremaining: 1.81s\n",
      "775:\tlearn: 0.4523267\ttotal: 6.25s\tremaining: 1.8s\n",
      "776:\tlearn: 0.4522840\ttotal: 6.26s\tremaining: 1.8s\n",
      "777:\tlearn: 0.4522805\ttotal: 6.27s\tremaining: 1.79s\n",
      "778:\tlearn: 0.4522728\ttotal: 6.27s\tremaining: 1.78s\n",
      "779:\tlearn: 0.4522579\ttotal: 6.28s\tremaining: 1.77s\n",
      "780:\tlearn: 0.4522409\ttotal: 6.29s\tremaining: 1.76s\n",
      "781:\tlearn: 0.4522338\ttotal: 6.29s\tremaining: 1.75s\n",
      "782:\tlearn: 0.4522280\ttotal: 6.3s\tremaining: 1.75s\n",
      "783:\tlearn: 0.4522141\ttotal: 6.31s\tremaining: 1.74s\n",
      "784:\tlearn: 0.4522014\ttotal: 6.32s\tremaining: 1.73s\n",
      "785:\tlearn: 0.4521792\ttotal: 6.32s\tremaining: 1.72s\n",
      "786:\tlearn: 0.4521739\ttotal: 6.33s\tremaining: 1.71s\n",
      "787:\tlearn: 0.4521563\ttotal: 6.33s\tremaining: 1.7s\n",
      "788:\tlearn: 0.4521451\ttotal: 6.34s\tremaining: 1.7s\n",
      "789:\tlearn: 0.4521363\ttotal: 6.35s\tremaining: 1.69s\n",
      "790:\tlearn: 0.4521337\ttotal: 6.35s\tremaining: 1.68s\n",
      "791:\tlearn: 0.4521272\ttotal: 6.36s\tremaining: 1.67s\n",
      "792:\tlearn: 0.4521092\ttotal: 6.37s\tremaining: 1.66s\n",
      "793:\tlearn: 0.4520986\ttotal: 6.37s\tremaining: 1.65s\n",
      "794:\tlearn: 0.4520923\ttotal: 6.38s\tremaining: 1.65s\n",
      "795:\tlearn: 0.4520783\ttotal: 6.39s\tremaining: 1.64s\n",
      "796:\tlearn: 0.4520675\ttotal: 6.39s\tremaining: 1.63s\n",
      "797:\tlearn: 0.4520516\ttotal: 6.4s\tremaining: 1.62s\n",
      "798:\tlearn: 0.4520431\ttotal: 6.41s\tremaining: 1.61s\n",
      "799:\tlearn: 0.4520345\ttotal: 6.42s\tremaining: 1.6s\n",
      "800:\tlearn: 0.4520116\ttotal: 6.42s\tremaining: 1.59s\n",
      "801:\tlearn: 0.4519824\ttotal: 6.43s\tremaining: 1.59s\n",
      "802:\tlearn: 0.4519538\ttotal: 6.44s\tremaining: 1.58s\n",
      "803:\tlearn: 0.4519401\ttotal: 6.44s\tremaining: 1.57s\n",
      "804:\tlearn: 0.4518999\ttotal: 6.45s\tremaining: 1.56s\n",
      "805:\tlearn: 0.4518806\ttotal: 6.46s\tremaining: 1.55s\n",
      "806:\tlearn: 0.4518719\ttotal: 6.47s\tremaining: 1.55s\n",
      "807:\tlearn: 0.4518533\ttotal: 6.47s\tremaining: 1.54s\n",
      "808:\tlearn: 0.4518294\ttotal: 6.48s\tremaining: 1.53s\n",
      "809:\tlearn: 0.4517925\ttotal: 6.49s\tremaining: 1.52s\n",
      "810:\tlearn: 0.4517507\ttotal: 6.49s\tremaining: 1.51s\n",
      "811:\tlearn: 0.4517151\ttotal: 6.5s\tremaining: 1.5s\n",
      "812:\tlearn: 0.4516555\ttotal: 6.51s\tremaining: 1.5s\n",
      "813:\tlearn: 0.4516452\ttotal: 6.52s\tremaining: 1.49s\n",
      "814:\tlearn: 0.4516307\ttotal: 6.52s\tremaining: 1.48s\n",
      "815:\tlearn: 0.4516260\ttotal: 6.53s\tremaining: 1.47s\n",
      "816:\tlearn: 0.4515680\ttotal: 6.54s\tremaining: 1.46s\n",
      "817:\tlearn: 0.4515556\ttotal: 6.54s\tremaining: 1.46s\n",
      "818:\tlearn: 0.4515525\ttotal: 6.55s\tremaining: 1.45s\n",
      "819:\tlearn: 0.4515329\ttotal: 6.56s\tremaining: 1.44s\n",
      "820:\tlearn: 0.4515177\ttotal: 6.57s\tremaining: 1.43s\n",
      "821:\tlearn: 0.4514829\ttotal: 6.57s\tremaining: 1.42s\n",
      "822:\tlearn: 0.4514639\ttotal: 6.58s\tremaining: 1.41s\n",
      "823:\tlearn: 0.4514264\ttotal: 6.59s\tremaining: 1.41s\n",
      "824:\tlearn: 0.4514116\ttotal: 6.59s\tremaining: 1.4s\n",
      "825:\tlearn: 0.4514007\ttotal: 6.6s\tremaining: 1.39s\n",
      "826:\tlearn: 0.4513749\ttotal: 6.61s\tremaining: 1.38s\n",
      "827:\tlearn: 0.4513583\ttotal: 6.62s\tremaining: 1.37s\n",
      "828:\tlearn: 0.4513267\ttotal: 6.62s\tremaining: 1.37s\n",
      "829:\tlearn: 0.4513188\ttotal: 6.63s\tremaining: 1.36s\n",
      "830:\tlearn: 0.4512819\ttotal: 6.64s\tremaining: 1.35s\n",
      "831:\tlearn: 0.4512729\ttotal: 6.64s\tremaining: 1.34s\n",
      "832:\tlearn: 0.4512631\ttotal: 6.65s\tremaining: 1.33s\n",
      "833:\tlearn: 0.4512283\ttotal: 6.66s\tremaining: 1.32s\n",
      "834:\tlearn: 0.4512001\ttotal: 6.67s\tremaining: 1.32s\n",
      "835:\tlearn: 0.4511955\ttotal: 6.67s\tremaining: 1.31s\n",
      "836:\tlearn: 0.4511878\ttotal: 6.68s\tremaining: 1.3s\n",
      "837:\tlearn: 0.4511731\ttotal: 6.69s\tremaining: 1.29s\n",
      "838:\tlearn: 0.4511595\ttotal: 6.69s\tremaining: 1.28s\n",
      "839:\tlearn: 0.4511308\ttotal: 6.7s\tremaining: 1.28s\n",
      "840:\tlearn: 0.4511223\ttotal: 6.71s\tremaining: 1.27s\n",
      "841:\tlearn: 0.4511091\ttotal: 6.72s\tremaining: 1.26s\n",
      "842:\tlearn: 0.4510963\ttotal: 6.72s\tremaining: 1.25s\n",
      "843:\tlearn: 0.4510655\ttotal: 6.73s\tremaining: 1.24s\n",
      "844:\tlearn: 0.4510516\ttotal: 6.74s\tremaining: 1.24s\n",
      "845:\tlearn: 0.4510484\ttotal: 6.74s\tremaining: 1.23s\n",
      "846:\tlearn: 0.4510376\ttotal: 6.75s\tremaining: 1.22s\n",
      "847:\tlearn: 0.4510232\ttotal: 6.76s\tremaining: 1.21s\n",
      "848:\tlearn: 0.4510130\ttotal: 6.76s\tremaining: 1.2s\n",
      "849:\tlearn: 0.4509901\ttotal: 6.77s\tremaining: 1.2s\n",
      "850:\tlearn: 0.4509763\ttotal: 6.78s\tremaining: 1.19s\n"
     ]
    },
    {
     "name": "stdout",
     "output_type": "stream",
     "text": [
      "851:\tlearn: 0.4509712\ttotal: 6.79s\tremaining: 1.18s\n",
      "852:\tlearn: 0.4509567\ttotal: 6.79s\tremaining: 1.17s\n",
      "853:\tlearn: 0.4509433\ttotal: 6.8s\tremaining: 1.16s\n",
      "854:\tlearn: 0.4509362\ttotal: 6.81s\tremaining: 1.15s\n",
      "855:\tlearn: 0.4509204\ttotal: 6.82s\tremaining: 1.15s\n",
      "856:\tlearn: 0.4509104\ttotal: 6.82s\tremaining: 1.14s\n",
      "857:\tlearn: 0.4508971\ttotal: 6.83s\tremaining: 1.13s\n",
      "858:\tlearn: 0.4508789\ttotal: 6.83s\tremaining: 1.12s\n",
      "859:\tlearn: 0.4508463\ttotal: 6.84s\tremaining: 1.11s\n",
      "860:\tlearn: 0.4508300\ttotal: 6.85s\tremaining: 1.1s\n",
      "861:\tlearn: 0.4508278\ttotal: 6.86s\tremaining: 1.1s\n",
      "862:\tlearn: 0.4508205\ttotal: 6.86s\tremaining: 1.09s\n",
      "863:\tlearn: 0.4508185\ttotal: 6.87s\tremaining: 1.08s\n",
      "864:\tlearn: 0.4508081\ttotal: 6.88s\tremaining: 1.07s\n",
      "865:\tlearn: 0.4508007\ttotal: 6.88s\tremaining: 1.06s\n",
      "866:\tlearn: 0.4507881\ttotal: 6.89s\tremaining: 1.06s\n",
      "867:\tlearn: 0.4507575\ttotal: 6.9s\tremaining: 1.05s\n",
      "868:\tlearn: 0.4507253\ttotal: 6.9s\tremaining: 1.04s\n",
      "869:\tlearn: 0.4507129\ttotal: 6.91s\tremaining: 1.03s\n",
      "870:\tlearn: 0.4507073\ttotal: 6.92s\tremaining: 1.02s\n",
      "871:\tlearn: 0.4506871\ttotal: 6.92s\tremaining: 1.02s\n",
      "872:\tlearn: 0.4506648\ttotal: 6.93s\tremaining: 1.01s\n",
      "873:\tlearn: 0.4506501\ttotal: 6.94s\tremaining: 1s\n",
      "874:\tlearn: 0.4506186\ttotal: 6.95s\tremaining: 992ms\n",
      "875:\tlearn: 0.4506105\ttotal: 6.95s\tremaining: 984ms\n",
      "876:\tlearn: 0.4505951\ttotal: 6.96s\tremaining: 976ms\n",
      "877:\tlearn: 0.4505770\ttotal: 6.97s\tremaining: 968ms\n",
      "878:\tlearn: 0.4505411\ttotal: 6.97s\tremaining: 960ms\n",
      "879:\tlearn: 0.4505396\ttotal: 6.98s\tremaining: 952ms\n",
      "880:\tlearn: 0.4505302\ttotal: 6.99s\tremaining: 944ms\n",
      "881:\tlearn: 0.4505176\ttotal: 7s\tremaining: 936ms\n",
      "882:\tlearn: 0.4505064\ttotal: 7s\tremaining: 928ms\n",
      "883:\tlearn: 0.4504973\ttotal: 7.01s\tremaining: 920ms\n",
      "884:\tlearn: 0.4504849\ttotal: 7.02s\tremaining: 912ms\n",
      "885:\tlearn: 0.4504712\ttotal: 7.03s\tremaining: 904ms\n",
      "886:\tlearn: 0.4504595\ttotal: 7.04s\tremaining: 896ms\n",
      "887:\tlearn: 0.4504536\ttotal: 7.04s\tremaining: 888ms\n",
      "888:\tlearn: 0.4504494\ttotal: 7.05s\tremaining: 880ms\n",
      "889:\tlearn: 0.4504423\ttotal: 7.05s\tremaining: 872ms\n",
      "890:\tlearn: 0.4504348\ttotal: 7.06s\tremaining: 864ms\n",
      "891:\tlearn: 0.4504111\ttotal: 7.07s\tremaining: 856ms\n",
      "892:\tlearn: 0.4503872\ttotal: 7.08s\tremaining: 848ms\n",
      "893:\tlearn: 0.4503802\ttotal: 7.08s\tremaining: 840ms\n",
      "894:\tlearn: 0.4503718\ttotal: 7.09s\tremaining: 832ms\n",
      "895:\tlearn: 0.4503284\ttotal: 7.1s\tremaining: 824ms\n",
      "896:\tlearn: 0.4503182\ttotal: 7.1s\tremaining: 816ms\n",
      "897:\tlearn: 0.4503044\ttotal: 7.11s\tremaining: 808ms\n",
      "898:\tlearn: 0.4502892\ttotal: 7.12s\tremaining: 800ms\n",
      "899:\tlearn: 0.4502801\ttotal: 7.12s\tremaining: 792ms\n",
      "900:\tlearn: 0.4502573\ttotal: 7.13s\tremaining: 784ms\n",
      "901:\tlearn: 0.4502234\ttotal: 7.14s\tremaining: 776ms\n",
      "902:\tlearn: 0.4502158\ttotal: 7.14s\tremaining: 768ms\n",
      "903:\tlearn: 0.4502023\ttotal: 7.15s\tremaining: 760ms\n",
      "904:\tlearn: 0.4501930\ttotal: 7.16s\tremaining: 752ms\n",
      "905:\tlearn: 0.4501614\ttotal: 7.17s\tremaining: 744ms\n",
      "906:\tlearn: 0.4501477\ttotal: 7.17s\tremaining: 736ms\n",
      "907:\tlearn: 0.4501293\ttotal: 7.18s\tremaining: 728ms\n",
      "908:\tlearn: 0.4501220\ttotal: 7.19s\tremaining: 720ms\n",
      "909:\tlearn: 0.4500972\ttotal: 7.2s\tremaining: 712ms\n",
      "910:\tlearn: 0.4500933\ttotal: 7.2s\tremaining: 704ms\n",
      "911:\tlearn: 0.4500618\ttotal: 7.21s\tremaining: 696ms\n",
      "912:\tlearn: 0.4500549\ttotal: 7.22s\tremaining: 688ms\n",
      "913:\tlearn: 0.4500429\ttotal: 7.23s\tremaining: 680ms\n",
      "914:\tlearn: 0.4500343\ttotal: 7.23s\tremaining: 672ms\n",
      "915:\tlearn: 0.4500212\ttotal: 7.24s\tremaining: 664ms\n",
      "916:\tlearn: 0.4500061\ttotal: 7.25s\tremaining: 656ms\n",
      "917:\tlearn: 0.4499978\ttotal: 7.25s\tremaining: 648ms\n",
      "918:\tlearn: 0.4499889\ttotal: 7.26s\tremaining: 640ms\n",
      "919:\tlearn: 0.4499800\ttotal: 7.27s\tremaining: 632ms\n",
      "920:\tlearn: 0.4499714\ttotal: 7.27s\tremaining: 624ms\n",
      "921:\tlearn: 0.4499592\ttotal: 7.28s\tremaining: 616ms\n",
      "922:\tlearn: 0.4499463\ttotal: 7.29s\tremaining: 608ms\n",
      "923:\tlearn: 0.4499371\ttotal: 7.29s\tremaining: 600ms\n",
      "924:\tlearn: 0.4499183\ttotal: 7.3s\tremaining: 592ms\n",
      "925:\tlearn: 0.4499149\ttotal: 7.31s\tremaining: 584ms\n",
      "926:\tlearn: 0.4498856\ttotal: 7.32s\tremaining: 576ms\n",
      "927:\tlearn: 0.4498730\ttotal: 7.32s\tremaining: 568ms\n",
      "928:\tlearn: 0.4498569\ttotal: 7.33s\tremaining: 560ms\n",
      "929:\tlearn: 0.4498335\ttotal: 7.33s\tremaining: 552ms\n",
      "930:\tlearn: 0.4497857\ttotal: 7.34s\tremaining: 544ms\n",
      "931:\tlearn: 0.4497769\ttotal: 7.35s\tremaining: 536ms\n",
      "932:\tlearn: 0.4497575\ttotal: 7.36s\tremaining: 528ms\n",
      "933:\tlearn: 0.4497386\ttotal: 7.36s\tremaining: 520ms\n",
      "934:\tlearn: 0.4497260\ttotal: 7.37s\tremaining: 512ms\n",
      "935:\tlearn: 0.4496949\ttotal: 7.38s\tremaining: 504ms\n",
      "936:\tlearn: 0.4496682\ttotal: 7.38s\tremaining: 497ms\n",
      "937:\tlearn: 0.4496496\ttotal: 7.39s\tremaining: 489ms\n",
      "938:\tlearn: 0.4496439\ttotal: 7.4s\tremaining: 481ms\n",
      "939:\tlearn: 0.4496231\ttotal: 7.41s\tremaining: 473ms\n",
      "940:\tlearn: 0.4496100\ttotal: 7.42s\tremaining: 465ms\n",
      "941:\tlearn: 0.4495874\ttotal: 7.42s\tremaining: 457ms\n",
      "942:\tlearn: 0.4495796\ttotal: 7.43s\tremaining: 449ms\n",
      "943:\tlearn: 0.4495764\ttotal: 7.44s\tremaining: 441ms\n",
      "944:\tlearn: 0.4495559\ttotal: 7.44s\tremaining: 433ms\n",
      "945:\tlearn: 0.4495465\ttotal: 7.45s\tremaining: 425ms\n",
      "946:\tlearn: 0.4495305\ttotal: 7.46s\tremaining: 417ms\n",
      "947:\tlearn: 0.4495255\ttotal: 7.46s\tremaining: 409ms\n",
      "948:\tlearn: 0.4495145\ttotal: 7.47s\tremaining: 401ms\n",
      "949:\tlearn: 0.4494933\ttotal: 7.48s\tremaining: 394ms\n",
      "950:\tlearn: 0.4494935\ttotal: 7.48s\tremaining: 386ms\n",
      "951:\tlearn: 0.4494785\ttotal: 7.49s\tremaining: 378ms\n",
      "952:\tlearn: 0.4494726\ttotal: 7.5s\tremaining: 370ms\n",
      "953:\tlearn: 0.4494590\ttotal: 7.5s\tremaining: 362ms\n",
      "954:\tlearn: 0.4494363\ttotal: 7.51s\tremaining: 354ms\n",
      "955:\tlearn: 0.4494093\ttotal: 7.52s\tremaining: 346ms\n",
      "956:\tlearn: 0.4493930\ttotal: 7.52s\tremaining: 338ms\n",
      "957:\tlearn: 0.4493798\ttotal: 7.53s\tremaining: 330ms\n",
      "958:\tlearn: 0.4493532\ttotal: 7.54s\tremaining: 322ms\n",
      "959:\tlearn: 0.4493484\ttotal: 7.54s\tremaining: 314ms\n",
      "960:\tlearn: 0.4493222\ttotal: 7.55s\tremaining: 306ms\n",
      "961:\tlearn: 0.4492987\ttotal: 7.56s\tremaining: 299ms\n",
      "962:\tlearn: 0.4492942\ttotal: 7.57s\tremaining: 291ms\n",
      "963:\tlearn: 0.4492715\ttotal: 7.57s\tremaining: 283ms\n",
      "964:\tlearn: 0.4492360\ttotal: 7.58s\tremaining: 275ms\n",
      "965:\tlearn: 0.4492208\ttotal: 7.59s\tremaining: 267ms\n",
      "966:\tlearn: 0.4491805\ttotal: 7.59s\tremaining: 259ms\n",
      "967:\tlearn: 0.4491672\ttotal: 7.6s\tremaining: 251ms\n",
      "968:\tlearn: 0.4491517\ttotal: 7.61s\tremaining: 243ms\n",
      "969:\tlearn: 0.4491333\ttotal: 7.62s\tremaining: 236ms\n",
      "970:\tlearn: 0.4491181\ttotal: 7.63s\tremaining: 228ms\n",
      "971:\tlearn: 0.4491116\ttotal: 7.63s\tremaining: 220ms\n",
      "972:\tlearn: 0.4491023\ttotal: 7.64s\tremaining: 212ms\n",
      "973:\tlearn: 0.4490854\ttotal: 7.65s\tremaining: 204ms\n",
      "974:\tlearn: 0.4490708\ttotal: 7.65s\tremaining: 196ms\n",
      "975:\tlearn: 0.4490645\ttotal: 7.66s\tremaining: 188ms\n",
      "976:\tlearn: 0.4490459\ttotal: 7.67s\tremaining: 181ms\n",
      "977:\tlearn: 0.4490201\ttotal: 7.67s\tremaining: 173ms\n",
      "978:\tlearn: 0.4490137\ttotal: 7.68s\tremaining: 165ms\n",
      "979:\tlearn: 0.4490081\ttotal: 7.69s\tremaining: 157ms\n",
      "980:\tlearn: 0.4490021\ttotal: 7.69s\tremaining: 149ms\n",
      "981:\tlearn: 0.4489943\ttotal: 7.7s\tremaining: 141ms\n",
      "982:\tlearn: 0.4489851\ttotal: 7.71s\tremaining: 133ms\n",
      "983:\tlearn: 0.4489756\ttotal: 7.72s\tremaining: 126ms\n",
      "984:\tlearn: 0.4489651\ttotal: 7.73s\tremaining: 118ms\n",
      "985:\tlearn: 0.4489615\ttotal: 7.73s\tremaining: 110ms\n",
      "986:\tlearn: 0.4489500\ttotal: 7.74s\tremaining: 102ms\n",
      "987:\tlearn: 0.4489325\ttotal: 7.75s\tremaining: 94.1ms\n",
      "988:\tlearn: 0.4489056\ttotal: 7.75s\tremaining: 86.3ms\n",
      "989:\tlearn: 0.4488999\ttotal: 7.76s\tremaining: 78.4ms\n",
      "990:\tlearn: 0.4488828\ttotal: 7.77s\tremaining: 70.6ms\n",
      "991:\tlearn: 0.4488489\ttotal: 7.78s\tremaining: 62.7ms\n",
      "992:\tlearn: 0.4488444\ttotal: 7.79s\tremaining: 54.9ms\n",
      "993:\tlearn: 0.4488359\ttotal: 7.79s\tremaining: 47ms\n",
      "994:\tlearn: 0.4488109\ttotal: 7.8s\tremaining: 39.2ms\n",
      "995:\tlearn: 0.4487968\ttotal: 7.81s\tremaining: 31.4ms\n",
      "996:\tlearn: 0.4487733\ttotal: 7.81s\tremaining: 23.5ms\n",
      "997:\tlearn: 0.4487653\ttotal: 7.82s\tremaining: 15.7ms\n",
      "998:\tlearn: 0.4487579\ttotal: 7.83s\tremaining: 7.83ms\n",
      "999:\tlearn: 0.4487368\ttotal: 7.83s\tremaining: 0us\n"
     ]
    },
    {
     "data": {
      "text/plain": [
       "<catboost.core.CatBoostClassifier at 0x7fb65d5be490>"
      ]
     },
     "execution_count": 40,
     "metadata": {},
     "output_type": "execute_result"
    }
   ],
   "source": [
    "import catboost \n",
    "\n",
    "model = catboost.CatBoostClassifier()\n",
    "model.fit(interactions_train_df[interactions_train_df.columns[features_start:]],\n",
    "          np.array(interactions_train_df.eventStrength > 0, dtype=int))"
   ]
  },
  {
   "cell_type": "markdown",
   "metadata": {},
   "source": [
    "Сделаем предсказания на тестовой выборке, сформируем из них рекомендации. "
   ]
  },
  {
   "cell_type": "code",
   "execution_count": 41,
   "metadata": {},
   "outputs": [
    {
     "name": "stderr",
     "output_type": "stream",
     "text": [
      "<ipython-input-41-833161c24e01>:9: TqdmDeprecationWarning: This function will be removed in tqdm==5.0.0\n",
      "Please use `tqdm.notebook.tqdm` instead of `tqdm.tqdm_notebook`\n",
      "  for personId in tqdm_notebook(interactions.index):\n"
     ]
    },
    {
     "data": {
      "application/vnd.jupyter.widget-view+json": {
       "model_id": "1ce8370897d4441194fda17e99348e00",
       "version_major": 2,
       "version_minor": 0
      },
      "text/plain": [
       "  0%|          | 0/1112 [00:00<?, ?it/s]"
      ]
     },
     "metadata": {},
     "output_type": "display_data"
    }
   ],
   "source": [
    "####### Здесь ваш код ##########\n",
    "predictions = model.predict_proba(test[interactions_train_df.columns[features_start:]])[:, 1]\n",
    "test['predictions'] = predictions\n",
    "\n",
    "test = test.sort_values('predictions', ascending=False)\n",
    "predictions = test.groupby('personId')['contentId'].aggregate(list)\n",
    "tmp_predictions = []\n",
    "\n",
    "for personId in tqdm_notebook(interactions.index):\n",
    "    prediction = np.array(predictions.loc[personId])\n",
    "    \n",
    "    tmp_predictions.append(\n",
    "        list(prediction[~np.in1d(\n",
    "            prediction,\n",
    "            interactions.loc[personId, 'true_train'])])[:top_k])\n",
    "    \n",
    "interactions['prediction_content'] = tmp_predictions\n",
    "################################"
   ]
  },
  {
   "cell_type": "markdown",
   "metadata": {},
   "source": [
    "Оценим их качество."
   ]
  },
  {
   "cell_type": "code",
   "execution_count": 42,
   "metadata": {
    "scrolled": true
   },
   "outputs": [
    {
     "ename": "TypeError",
     "evalue": "'float' object is not iterable",
     "output_type": "error",
     "traceback": [
      "\u001b[0;31m---------------------------------------------------------------------------\u001b[0m",
      "\u001b[0;31mTypeError\u001b[0m                                 Traceback (most recent call last)",
      "\u001b[0;32m<ipython-input-42-68761229a8d5>\u001b[0m in \u001b[0;36m<module>\u001b[0;34m\u001b[0m\n\u001b[1;32m      1\u001b[0m \u001b[0;31m# calc_precision(...)\u001b[0m\u001b[0;34m\u001b[0m\u001b[0;34m\u001b[0m\u001b[0;34m\u001b[0m\u001b[0m\n\u001b[1;32m      2\u001b[0m \u001b[0;31m####### Здесь ваш код ##########\u001b[0m\u001b[0;34m\u001b[0m\u001b[0;34m\u001b[0m\u001b[0;34m\u001b[0m\u001b[0m\n\u001b[0;32m----> 3\u001b[0;31m \u001b[0mcalc_precision\u001b[0m\u001b[0;34m(\u001b[0m\u001b[0;34m'prediction_content'\u001b[0m\u001b[0;34m)\u001b[0m\u001b[0;34m\u001b[0m\u001b[0;34m\u001b[0m\u001b[0m\n\u001b[0m\u001b[1;32m      4\u001b[0m \u001b[0;31m################################\u001b[0m\u001b[0;34m\u001b[0m\u001b[0;34m\u001b[0m\u001b[0;34m\u001b[0m\u001b[0m\n",
      "\u001b[0;32m<ipython-input-19-47b053089da0>\u001b[0m in \u001b[0;36mcalc_precision\u001b[0;34m(column)\u001b[0m\n\u001b[1;32m      2\u001b[0m     \u001b[0;31m####### Здесь ваш код ##########\u001b[0m\u001b[0;34m\u001b[0m\u001b[0;34m\u001b[0m\u001b[0;34m\u001b[0m\u001b[0m\n\u001b[1;32m      3\u001b[0m     return (\n\u001b[0;32m----> 4\u001b[0;31m         \u001b[0minteractions\u001b[0m\u001b[0;34m\u001b[0m\u001b[0;34m\u001b[0m\u001b[0m\n\u001b[0m\u001b[1;32m      5\u001b[0m         .apply(\n\u001b[1;32m      6\u001b[0m             \u001b[0;32mlambda\u001b[0m \u001b[0mrow\u001b[0m\u001b[0;34m:\u001b[0m\u001b[0;34m\u001b[0m\u001b[0;34m\u001b[0m\u001b[0m\n",
      "\u001b[0;32m~/opt/anaconda3/lib/python3.8/site-packages/pandas/core/frame.py\u001b[0m in \u001b[0;36mapply\u001b[0;34m(self, func, axis, raw, result_type, args, **kwds)\u001b[0m\n\u001b[1;32m   7766\u001b[0m             \u001b[0mkwds\u001b[0m\u001b[0;34m=\u001b[0m\u001b[0mkwds\u001b[0m\u001b[0;34m,\u001b[0m\u001b[0;34m\u001b[0m\u001b[0;34m\u001b[0m\u001b[0m\n\u001b[1;32m   7767\u001b[0m         )\n\u001b[0;32m-> 7768\u001b[0;31m         \u001b[0;32mreturn\u001b[0m \u001b[0mop\u001b[0m\u001b[0;34m.\u001b[0m\u001b[0mget_result\u001b[0m\u001b[0;34m(\u001b[0m\u001b[0;34m)\u001b[0m\u001b[0;34m\u001b[0m\u001b[0;34m\u001b[0m\u001b[0m\n\u001b[0m\u001b[1;32m   7769\u001b[0m \u001b[0;34m\u001b[0m\u001b[0m\n\u001b[1;32m   7770\u001b[0m     \u001b[0;32mdef\u001b[0m \u001b[0mapplymap\u001b[0m\u001b[0;34m(\u001b[0m\u001b[0mself\u001b[0m\u001b[0;34m,\u001b[0m \u001b[0mfunc\u001b[0m\u001b[0;34m,\u001b[0m \u001b[0mna_action\u001b[0m\u001b[0;34m:\u001b[0m \u001b[0mOptional\u001b[0m\u001b[0;34m[\u001b[0m\u001b[0mstr\u001b[0m\u001b[0;34m]\u001b[0m \u001b[0;34m=\u001b[0m \u001b[0;32mNone\u001b[0m\u001b[0;34m)\u001b[0m \u001b[0;34m->\u001b[0m \u001b[0mDataFrame\u001b[0m\u001b[0;34m:\u001b[0m\u001b[0;34m\u001b[0m\u001b[0;34m\u001b[0m\u001b[0m\n",
      "\u001b[0;32m~/opt/anaconda3/lib/python3.8/site-packages/pandas/core/apply.py\u001b[0m in \u001b[0;36mget_result\u001b[0;34m(self)\u001b[0m\n\u001b[1;32m    183\u001b[0m             \u001b[0;32mreturn\u001b[0m \u001b[0mself\u001b[0m\u001b[0;34m.\u001b[0m\u001b[0mapply_raw\u001b[0m\u001b[0;34m(\u001b[0m\u001b[0;34m)\u001b[0m\u001b[0;34m\u001b[0m\u001b[0;34m\u001b[0m\u001b[0m\n\u001b[1;32m    184\u001b[0m \u001b[0;34m\u001b[0m\u001b[0m\n\u001b[0;32m--> 185\u001b[0;31m         \u001b[0;32mreturn\u001b[0m \u001b[0mself\u001b[0m\u001b[0;34m.\u001b[0m\u001b[0mapply_standard\u001b[0m\u001b[0;34m(\u001b[0m\u001b[0;34m)\u001b[0m\u001b[0;34m\u001b[0m\u001b[0;34m\u001b[0m\u001b[0m\n\u001b[0m\u001b[1;32m    186\u001b[0m \u001b[0;34m\u001b[0m\u001b[0m\n\u001b[1;32m    187\u001b[0m     \u001b[0;32mdef\u001b[0m \u001b[0mapply_empty_result\u001b[0m\u001b[0;34m(\u001b[0m\u001b[0mself\u001b[0m\u001b[0;34m)\u001b[0m\u001b[0;34m:\u001b[0m\u001b[0;34m\u001b[0m\u001b[0;34m\u001b[0m\u001b[0m\n",
      "\u001b[0;32m~/opt/anaconda3/lib/python3.8/site-packages/pandas/core/apply.py\u001b[0m in \u001b[0;36mapply_standard\u001b[0;34m(self)\u001b[0m\n\u001b[1;32m    274\u001b[0m \u001b[0;34m\u001b[0m\u001b[0m\n\u001b[1;32m    275\u001b[0m     \u001b[0;32mdef\u001b[0m \u001b[0mapply_standard\u001b[0m\u001b[0;34m(\u001b[0m\u001b[0mself\u001b[0m\u001b[0;34m)\u001b[0m\u001b[0;34m:\u001b[0m\u001b[0;34m\u001b[0m\u001b[0;34m\u001b[0m\u001b[0m\n\u001b[0;32m--> 276\u001b[0;31m         \u001b[0mresults\u001b[0m\u001b[0;34m,\u001b[0m \u001b[0mres_index\u001b[0m \u001b[0;34m=\u001b[0m \u001b[0mself\u001b[0m\u001b[0;34m.\u001b[0m\u001b[0mapply_series_generator\u001b[0m\u001b[0;34m(\u001b[0m\u001b[0;34m)\u001b[0m\u001b[0;34m\u001b[0m\u001b[0;34m\u001b[0m\u001b[0m\n\u001b[0m\u001b[1;32m    277\u001b[0m \u001b[0;34m\u001b[0m\u001b[0m\n\u001b[1;32m    278\u001b[0m         \u001b[0;31m# wrap results\u001b[0m\u001b[0;34m\u001b[0m\u001b[0;34m\u001b[0m\u001b[0;34m\u001b[0m\u001b[0m\n",
      "\u001b[0;32m~/opt/anaconda3/lib/python3.8/site-packages/pandas/core/apply.py\u001b[0m in \u001b[0;36mapply_series_generator\u001b[0;34m(self)\u001b[0m\n\u001b[1;32m    288\u001b[0m             \u001b[0;32mfor\u001b[0m \u001b[0mi\u001b[0m\u001b[0;34m,\u001b[0m \u001b[0mv\u001b[0m \u001b[0;32min\u001b[0m \u001b[0menumerate\u001b[0m\u001b[0;34m(\u001b[0m\u001b[0mseries_gen\u001b[0m\u001b[0;34m)\u001b[0m\u001b[0;34m:\u001b[0m\u001b[0;34m\u001b[0m\u001b[0;34m\u001b[0m\u001b[0m\n\u001b[1;32m    289\u001b[0m                 \u001b[0;31m# ignore SettingWithCopy here in case the user mutates\u001b[0m\u001b[0;34m\u001b[0m\u001b[0;34m\u001b[0m\u001b[0;34m\u001b[0m\u001b[0m\n\u001b[0;32m--> 290\u001b[0;31m                 \u001b[0mresults\u001b[0m\u001b[0;34m[\u001b[0m\u001b[0mi\u001b[0m\u001b[0;34m]\u001b[0m \u001b[0;34m=\u001b[0m \u001b[0mself\u001b[0m\u001b[0;34m.\u001b[0m\u001b[0mf\u001b[0m\u001b[0;34m(\u001b[0m\u001b[0mv\u001b[0m\u001b[0;34m)\u001b[0m\u001b[0;34m\u001b[0m\u001b[0;34m\u001b[0m\u001b[0m\n\u001b[0m\u001b[1;32m    291\u001b[0m                 \u001b[0;32mif\u001b[0m \u001b[0misinstance\u001b[0m\u001b[0;34m(\u001b[0m\u001b[0mresults\u001b[0m\u001b[0;34m[\u001b[0m\u001b[0mi\u001b[0m\u001b[0;34m]\u001b[0m\u001b[0;34m,\u001b[0m \u001b[0mABCSeries\u001b[0m\u001b[0;34m)\u001b[0m\u001b[0;34m:\u001b[0m\u001b[0;34m\u001b[0m\u001b[0;34m\u001b[0m\u001b[0m\n\u001b[1;32m    292\u001b[0m                     \u001b[0;31m# If we have a view on v, we need to make a copy because\u001b[0m\u001b[0;34m\u001b[0m\u001b[0;34m\u001b[0m\u001b[0;34m\u001b[0m\u001b[0m\n",
      "\u001b[0;32m<ipython-input-19-47b053089da0>\u001b[0m in \u001b[0;36m<lambda>\u001b[0;34m(row)\u001b[0m\n\u001b[1;32m      5\u001b[0m         .apply(\n\u001b[1;32m      6\u001b[0m             \u001b[0;32mlambda\u001b[0m \u001b[0mrow\u001b[0m\u001b[0;34m:\u001b[0m\u001b[0;34m\u001b[0m\u001b[0;34m\u001b[0m\u001b[0m\n\u001b[0;32m----> 7\u001b[0;31m             len(set(row['true_test']).intersection(\n\u001b[0m\u001b[1;32m      8\u001b[0m                 set(row[column]))) /\n\u001b[1;32m      9\u001b[0m             \u001b[0mmin\u001b[0m\u001b[0;34m(\u001b[0m\u001b[0mlen\u001b[0m\u001b[0;34m(\u001b[0m\u001b[0mrow\u001b[0m\u001b[0;34m[\u001b[0m\u001b[0;34m'true_test'\u001b[0m\u001b[0;34m]\u001b[0m\u001b[0;34m)\u001b[0m \u001b[0;34m+\u001b[0m \u001b[0;36m0.001\u001b[0m\u001b[0;34m,\u001b[0m \u001b[0;36m10.0\u001b[0m\u001b[0;34m)\u001b[0m\u001b[0;34m,\u001b[0m\u001b[0;34m\u001b[0m\u001b[0;34m\u001b[0m\u001b[0m\n",
      "\u001b[0;31mTypeError\u001b[0m: 'float' object is not iterable"
     ]
    }
   ],
   "source": [
    "# calc_precision(...)\n",
    "####### Здесь ваш код ##########\n",
    "calc_precision('prediction_content')\n",
    "################################"
   ]
  },
  {
   "cell_type": "markdown",
   "metadata": {},
   "source": [
    "## Часть 4. Факторизационная машина"
   ]
  },
  {
   "cell_type": "markdown",
   "metadata": {},
   "source": [
    "Вспомним, что факторизационная машина учитывает попарные взаимодействия признаков, что приводит сразу и к использованию контента (сами признаки), и к обучению скрытых представлений (индикаторы пользователей и статей).\n",
    "\n",
    "Попробуем факторизационные машины из библиотеки pyFM (так как можно работать прямо из питона). https://github.com/coreylynch/pyFM"
   ]
  },
  {
   "cell_type": "code",
   "execution_count": 45,
   "metadata": {},
   "outputs": [],
   "source": [
    "from pyfm import pylibfm\n",
    "from sklearn.feature_extraction import DictVectorizer"
   ]
  },
  {
   "cell_type": "markdown",
   "metadata": {},
   "source": [
    "Перейдём к обобщению матричных разложений — факторизационным машинам, которые работают могут работать с контентной информацией. Вспомним, какие данные у нас изначально были:"
   ]
  },
  {
   "cell_type": "markdown",
   "metadata": {},
   "source": [
    "В факторизационную машину можно загрузить \"айдишники\" пользователей и статей (то есть сделать аналог коллаборативной фильтрации) и одновременно различные признаки.\n",
    "\n",
    "Удобно обрабатывать категориальные переменные (id и другие) можно с помощью DictVectorizer. Например, процесс может выглядить вот так:\n",
    "```python\n",
    "train = [\n",
    "    {\"user\": \"1\", \"item\": \"5\", \"age\": 19},\n",
    "    {\"user\": \"2\", \"item\": \"43\", \"age\": 33},\n",
    "    {\"user\": \"3\", \"item\": \"20\", \"age\": 55},\n",
    "    {\"user\": \"4\", \"item\": \"10\", \"age\": 20},\n",
    "]\n",
    "v = DictVectorizer()\n",
    "X = v.fit_transform(train)\n",
    "y = np.repeat(1.0, X.shape[0])\n",
    "fm = pylibfm.FM()\n",
    "fm.fit(X,y)\n",
    "fm.predict(v.transform({\"user\": \"1\", \"item\": \"10\", \"age\": 24}))\n",
    "```"
   ]
  },
  {
   "cell_type": "markdown",
   "metadata": {},
   "source": [
    "Сгенерируем таблицу с признаками в таком виде, где будут id пользователя, статьи и автора статьи и несколько признаков, которые вы сможете придумать."
   ]
  },
  {
   "cell_type": "code",
   "execution_count": 46,
   "metadata": {},
   "outputs": [
    {
     "name": "stderr",
     "output_type": "stream",
     "text": [
      "<ipython-input-46-44d30c7c4f98>:3: TqdmDeprecationWarning: This function will be removed in tqdm==5.0.0\n",
      "Please use `tqdm.notebook.tqdm` instead of `tqdm.tqdm_notebook`\n",
      "  for i in tqdm_notebook(range(len(interactions_train_df))):\n"
     ]
    },
    {
     "data": {
      "application/vnd.jupyter.widget-view+json": {
       "model_id": "47720a40c27a432784f2ed0bd4792f71",
       "version_major": 2,
       "version_minor": 0
      },
      "text/plain": [
       "  0%|          | 0/146645 [00:00<?, ?it/s]"
      ]
     },
     "metadata": {},
     "output_type": "display_data"
    }
   ],
   "source": [
    "train_data = []\n",
    "\n",
    "for i in tqdm_notebook(range(len(interactions_train_df))):\n",
    "    features = {}\n",
    "    features['personId'] = str(interactions_train_df.iloc[i].personId)\n",
    "    features['contentId'] = str(interactions_train_df.iloc[i].contentId)\n",
    "    ####### Здесь ваш код ##########\n",
    "    try:\n",
    "        article = articles_df.loc[features['contentId']]\n",
    "        features['authorId'] = str(article.authorPersonId)\n",
    "        features['authorCountry'] = str(article.authorCountry)\n",
    "        features['lang'] = str(article.lang)\n",
    "    except:\n",
    "        features['authorId'] = 'unknown'\n",
    "        features['authorCountry'] = 'unknown'\n",
    "        features['lang'] = 'unknown'\n",
    "    ################################\n",
    "    train_data.append(features)"
   ]
  },
  {
   "cell_type": "markdown",
   "metadata": {},
   "source": [
    "Повторим эту процедуру для тестовой выборки. Заметим, что модель оценивает каждую пару потенциального взаимодействия, а значит, надо подготовить выборку из всех возможных пар из пользователей и статей."
   ]
  },
  {
   "cell_type": "code",
   "execution_count": 47,
   "metadata": {},
   "outputs": [
    {
     "name": "stderr",
     "output_type": "stream",
     "text": [
      "<ipython-input-47-00c1bc62ab8b>:5: TqdmDeprecationWarning: This function will be removed in tqdm==5.0.0\n",
      "Please use `tqdm.notebook.tqdm` instead of `tqdm.tqdm_notebook`\n",
      "  for i in tqdm_notebook(range(len(interactions))):\n"
     ]
    },
    {
     "data": {
      "application/vnd.jupyter.widget-view+json": {
       "model_id": "b0fd70b4328d4ffbac325e056ce04ecf",
       "version_major": 2,
       "version_minor": 0
      },
      "text/plain": [
       "  0%|          | 0/1112 [00:00<?, ?it/s]"
      ]
     },
     "metadata": {},
     "output_type": "display_data"
    }
   ],
   "source": [
    "from copy import deepcopy\n",
    "\n",
    "test_data = []\n",
    "\n",
    "for i in tqdm_notebook(range(len(interactions))):\n",
    "    features = {}\n",
    "    features['personId'] = str(interactions.index[i])  \n",
    "    for j in range(len(ratings.columns)):\n",
    "        ####### Здесь ваш код ##########\n",
    "        features['contentId'] = str(ratings.columns[j])\n",
    "        \n",
    "        try:\n",
    "            article = articles_df.loc[features['contentId']]\n",
    "            features['authorId'] = str(article.authorPersonId)\n",
    "            features['authorCountry'] = str(article.authorCountry)\n",
    "            features['lang'] = str(article.lang)\n",
    "        except:\n",
    "            features['authorId'] = 'unknown'\n",
    "            features['authorCountry'] = 'unknown'\n",
    "            features['lang'] = 'unknown'\n",
    "        ################################\n",
    "        test_data.append(deepcopy(features))"
   ]
  },
  {
   "cell_type": "markdown",
   "metadata": {},
   "source": [
    "Векторизуем, получим разреженные матрицы.\n",
    "\n",
    "Мы будем обучать регрессор на силу взаимодействия, а для него нужны отрицательные примеры. Добавим некоторое количество случайных примеров как негативные (матрица взаимодействий разреженная, поэтому шансы взять как негативное взаимодействие некоторое положительное мало)."
   ]
  },
  {
   "cell_type": "code",
   "execution_count": 48,
   "metadata": {},
   "outputs": [],
   "source": [
    "dv = DictVectorizer()\n",
    "\n",
    "train_features = dv.fit_transform(\n",
    "    train_data + list(np.random.permutation(test_data)[:100000]))\n",
    "test_features = dv.transform(test_data)"
   ]
  },
  {
   "cell_type": "code",
   "execution_count": 49,
   "metadata": {},
   "outputs": [
    {
     "data": {
      "text/plain": [
       "<246645x3481 sparse matrix of type '<class 'numpy.float64'>'\n",
       "\twith 1233225 stored elements in Compressed Sparse Row format>"
      ]
     },
     "execution_count": 49,
     "metadata": {},
     "output_type": "execute_result"
    }
   ],
   "source": [
    "train_features"
   ]
  },
  {
   "cell_type": "code",
   "execution_count": 50,
   "metadata": {},
   "outputs": [],
   "source": [
    "y_train = list(interactions_train_df.eventStrength.values) + list(np.zeros(100000))"
   ]
  },
  {
   "cell_type": "markdown",
   "metadata": {},
   "source": [
    "Укажем размером скрытого представления 10, сделаем 10 итераций."
   ]
  },
  {
   "cell_type": "code",
   "execution_count": 51,
   "metadata": {
    "scrolled": true
   },
   "outputs": [
    {
     "name": "stdout",
     "output_type": "stream",
     "text": [
      "Creating validation dataset of 0.01 of training for adaptive regularization\n",
      "-- Epoch 1\n",
      "Training MSE: 0.11731\n",
      "-- Epoch 2\n",
      "Training MSE: 0.11076\n",
      "-- Epoch 3\n",
      "Training MSE: 0.10950\n",
      "-- Epoch 4\n",
      "Training MSE: 0.10873\n",
      "-- Epoch 5\n",
      "Training MSE: 0.10828\n",
      "-- Epoch 6\n",
      "Training MSE: 0.10780\n",
      "-- Epoch 7\n",
      "Training MSE: 0.10713\n",
      "-- Epoch 8\n",
      "Training MSE: 0.10563\n",
      "-- Epoch 9\n",
      "Training MSE: 0.10445\n",
      "-- Epoch 10\n",
      "Training MSE: 0.10284\n",
      "-- Epoch 11\n",
      "Training MSE: 0.10160\n",
      "-- Epoch 12\n",
      "Training MSE: 0.10082\n",
      "-- Epoch 13\n",
      "Training MSE: 0.10042\n",
      "-- Epoch 14\n",
      "Training MSE: 0.10013\n",
      "-- Epoch 15\n",
      "Training MSE: 0.10034\n",
      "-- Epoch 16\n",
      "Training MSE: 0.09992\n",
      "-- Epoch 17\n",
      "Training MSE: 0.09986\n",
      "-- Epoch 18\n",
      "Training MSE: 0.09965\n",
      "-- Epoch 19\n",
      "Training MSE: 0.09896\n",
      "-- Epoch 20\n",
      "Training MSE: 0.09849\n",
      "-- Epoch 21\n",
      "Training MSE: 0.09827\n",
      "-- Epoch 22\n",
      "Training MSE: 0.09756\n",
      "-- Epoch 23\n",
      "Training MSE: 0.09706\n",
      "-- Epoch 24\n",
      "Training MSE: 0.09639\n",
      "-- Epoch 25\n",
      "Training MSE: 0.09585\n",
      "-- Epoch 26\n",
      "Training MSE: 0.09546\n",
      "-- Epoch 27\n",
      "Training MSE: 0.09493\n",
      "-- Epoch 28\n",
      "Training MSE: 0.09535\n",
      "-- Epoch 29\n",
      "Training MSE: 0.09499\n",
      "-- Epoch 30\n",
      "Training MSE: 0.09468\n"
     ]
    }
   ],
   "source": [
    "# fm = pylibfm.FM(...\n",
    "####### Здесь ваш код ##########\n",
    "fm = pylibfm.FM(num_factors=10, num_iter=30, task='regression')\n",
    "################################\n",
    "fm.fit(train_features, y_train)"
   ]
  },
  {
   "cell_type": "markdown",
   "metadata": {},
   "source": [
    "Предскажем и оценим качество."
   ]
  },
  {
   "cell_type": "code",
   "execution_count": null,
   "metadata": {},
   "outputs": [],
   "source": [
    "####### Здесь ваш код ##########\n",
    "test_features = dv.transform(test_data)\n",
    "\n",
    "y_predict = fm.predict(test_features)\n",
    "\n",
    "new_ratings = y_predict.reshape((1112, 2366))\n",
    "################################"
   ]
  },
  {
   "cell_type": "code",
   "execution_count": null,
   "metadata": {},
   "outputs": [],
   "source": [
    "predictions = []\n",
    "\n",
    "for i, person in enumerate(interactions.index):\n",
    "    user_prediction = ratings.columns[np.argsort(new_ratings[i])[::-1]]\n",
    "    predictions.append(\n",
    "        user_prediction[~np.in1d(user_prediction,\n",
    "                                 interactions.loc[person, 'true_train'])][:top_k])\n",
    "    \n",
    "interactions['fm_prediction'] = predictions"
   ]
  },
  {
   "cell_type": "code",
   "execution_count": 321,
   "metadata": {},
   "outputs": [],
   "source": [
    "calc_precision('fm_prediction')"
   ]
  },
  {
   "cell_type": "code",
   "execution_count": 323,
   "metadata": {},
   "outputs": [],
   "source": [
    "\n",
    "\n"
   ]
  }
 ],
 "metadata": {
  "kernelspec": {
   "display_name": "Python 3",
   "language": "python",
   "name": "python3"
  },
  "language_info": {
   "codemirror_mode": {
    "name": "ipython",
    "version": 3
   },
   "file_extension": ".py",
   "mimetype": "text/x-python",
   "name": "python",
   "nbconvert_exporter": "python",
   "pygments_lexer": "ipython3",
   "version": "3.8.8"
  }
 },
 "nbformat": 4,
 "nbformat_minor": 1
}
